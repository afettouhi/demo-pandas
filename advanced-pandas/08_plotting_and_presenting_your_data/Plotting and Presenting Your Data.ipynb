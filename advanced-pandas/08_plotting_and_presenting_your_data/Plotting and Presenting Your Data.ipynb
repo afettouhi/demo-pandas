{
 "cells": [
  {
   "cell_type": "code",
   "execution_count": 1,
   "metadata": {
    "slideshow": {
     "slide_type": "slide"
    }
   },
   "outputs": [],
   "source": [
    "import pandas as pd\n",
    "import os"
   ]
  },
  {
   "cell_type": "code",
   "execution_count": 2,
   "metadata": {
    "slideshow": {
     "slide_type": "fragment"
    }
   },
   "outputs": [],
   "source": [
    "team_splits = pd.read_pickle(os.path.join('..', 'team_splits_periods.pickle'))\n",
    "scoring = pd.read_pickle(os.path.join('..', 'scoring.pickle'))"
   ]
  },
  {
   "cell_type": "code",
   "execution_count": 3,
   "metadata": {
    "slideshow": {
     "slide_type": "slide"
    }
   },
   "outputs": [
    {
     "data": {
      "text/html": [
       "<div>\n",
       "<style scoped>\n",
       "    .dataframe tbody tr th:only-of-type {\n",
       "        vertical-align: middle;\n",
       "    }\n",
       "\n",
       "    .dataframe tbody tr th {\n",
       "        vertical-align: top;\n",
       "    }\n",
       "\n",
       "    .dataframe thead th {\n",
       "        text-align: right;\n",
       "    }\n",
       "</style>\n",
       "<table border=\"1\" class=\"dataframe\">\n",
       "  <thead>\n",
       "    <tr style=\"text-align: right;\">\n",
       "      <th></th>\n",
       "      <th>name</th>\n",
       "      <th>L</th>\n",
       "      <th>OL</th>\n",
       "      <th>T</th>\n",
       "      <th>W</th>\n",
       "    </tr>\n",
       "    <tr>\n",
       "      <th>month</th>\n",
       "      <th></th>\n",
       "      <th></th>\n",
       "      <th></th>\n",
       "      <th></th>\n",
       "      <th></th>\n",
       "    </tr>\n",
       "  </thead>\n",
       "  <tbody>\n",
       "    <tr>\n",
       "      <th>2006-01</th>\n",
       "      <td>Anaheim Ducks</td>\n",
       "      <td>5.0</td>\n",
       "      <td>2.0</td>\n",
       "      <td>NaN</td>\n",
       "      <td>4.0</td>\n",
       "    </tr>\n",
       "    <tr>\n",
       "      <th>2006-02</th>\n",
       "      <td>Anaheim Ducks</td>\n",
       "      <td>5.0</td>\n",
       "      <td>2.0</td>\n",
       "      <td>NaN</td>\n",
       "      <td>5.0</td>\n",
       "    </tr>\n",
       "    <tr>\n",
       "      <th>2006-03</th>\n",
       "      <td>Anaheim Ducks</td>\n",
       "      <td>3.0</td>\n",
       "      <td>2.0</td>\n",
       "      <td>NaN</td>\n",
       "      <td>10.0</td>\n",
       "    </tr>\n",
       "    <tr>\n",
       "      <th>2006-04</th>\n",
       "      <td>Anaheim Ducks</td>\n",
       "      <td>0.0</td>\n",
       "      <td>2.0</td>\n",
       "      <td>NaN</td>\n",
       "      <td>1.0</td>\n",
       "    </tr>\n",
       "    <tr>\n",
       "      <th>2006-10</th>\n",
       "      <td>Anaheim Ducks</td>\n",
       "      <td>0.0</td>\n",
       "      <td>3.0</td>\n",
       "      <td>NaN</td>\n",
       "      <td>9.0</td>\n",
       "    </tr>\n",
       "    <tr>\n",
       "      <th>2006-11</th>\n",
       "      <td>Anaheim Ducks</td>\n",
       "      <td>2.0</td>\n",
       "      <td>3.0</td>\n",
       "      <td>NaN</td>\n",
       "      <td>10.0</td>\n",
       "    </tr>\n",
       "    <tr>\n",
       "      <th>2006-12</th>\n",
       "      <td>Anaheim Ducks</td>\n",
       "      <td>5.0</td>\n",
       "      <td>0.0</td>\n",
       "      <td>NaN</td>\n",
       "      <td>9.0</td>\n",
       "    </tr>\n",
       "    <tr>\n",
       "      <th>2007-01</th>\n",
       "      <td>Anaheim Ducks</td>\n",
       "      <td>4.0</td>\n",
       "      <td>1.0</td>\n",
       "      <td>NaN</td>\n",
       "      <td>8.0</td>\n",
       "    </tr>\n",
       "    <tr>\n",
       "      <th>2007-02</th>\n",
       "      <td>Anaheim Ducks</td>\n",
       "      <td>2.0</td>\n",
       "      <td>1.0</td>\n",
       "      <td>NaN</td>\n",
       "      <td>10.0</td>\n",
       "    </tr>\n",
       "    <tr>\n",
       "      <th>2007-03</th>\n",
       "      <td>Anaheim Ducks</td>\n",
       "      <td>4.0</td>\n",
       "      <td>1.0</td>\n",
       "      <td>NaN</td>\n",
       "      <td>8.0</td>\n",
       "    </tr>\n",
       "  </tbody>\n",
       "</table>\n",
       "</div>"
      ],
      "text/plain": [
       "                  name    L   OL   T     W\n",
       "month                                     \n",
       "2006-01  Anaheim Ducks  5.0  2.0 NaN   4.0\n",
       "2006-02  Anaheim Ducks  5.0  2.0 NaN   5.0\n",
       "2006-03  Anaheim Ducks  3.0  2.0 NaN  10.0\n",
       "2006-04  Anaheim Ducks  0.0  2.0 NaN   1.0\n",
       "2006-10  Anaheim Ducks  0.0  3.0 NaN   9.0\n",
       "2006-11  Anaheim Ducks  2.0  3.0 NaN  10.0\n",
       "2006-12  Anaheim Ducks  5.0  0.0 NaN   9.0\n",
       "2007-01  Anaheim Ducks  4.0  1.0 NaN   8.0\n",
       "2007-02  Anaheim Ducks  2.0  1.0 NaN  10.0\n",
       "2007-03  Anaheim Ducks  4.0  1.0 NaN   8.0"
      ]
     },
     "execution_count": 3,
     "metadata": {},
     "output_type": "execute_result"
    }
   ],
   "source": [
    "ducks = team_splits.loc[team_splits[\"name\"] == \"Anaheim Ducks\", :]\n",
    "ducks = ducks.sort_index()\n",
    "ducks.head(10)"
   ]
  },
  {
   "cell_type": "code",
   "execution_count": 4,
   "metadata": {
    "slideshow": {
     "slide_type": "slide"
    }
   },
   "outputs": [
    {
     "data": {
      "text/html": [
       "<div>\n",
       "<style scoped>\n",
       "    .dataframe tbody tr th:only-of-type {\n",
       "        vertical-align: middle;\n",
       "    }\n",
       "\n",
       "    .dataframe tbody tr th {\n",
       "        vertical-align: top;\n",
       "    }\n",
       "\n",
       "    .dataframe thead th {\n",
       "        text-align: right;\n",
       "    }\n",
       "</style>\n",
       "<table border=\"1\" class=\"dataframe\">\n",
       "  <thead>\n",
       "    <tr style=\"text-align: right;\">\n",
       "      <th></th>\n",
       "      <th>L</th>\n",
       "      <th>OL</th>\n",
       "      <th>T</th>\n",
       "      <th>W</th>\n",
       "    </tr>\n",
       "    <tr>\n",
       "      <th>month</th>\n",
       "      <th></th>\n",
       "      <th></th>\n",
       "      <th></th>\n",
       "      <th></th>\n",
       "    </tr>\n",
       "  </thead>\n",
       "  <tbody>\n",
       "    <tr>\n",
       "      <th>2006</th>\n",
       "      <td>20.0</td>\n",
       "      <td>14.0</td>\n",
       "      <td>0.0</td>\n",
       "      <td>48.0</td>\n",
       "    </tr>\n",
       "    <tr>\n",
       "      <th>2007</th>\n",
       "      <td>27.0</td>\n",
       "      <td>8.0</td>\n",
       "      <td>0.0</td>\n",
       "      <td>47.0</td>\n",
       "    </tr>\n",
       "    <tr>\n",
       "      <th>2008</th>\n",
       "      <td>33.0</td>\n",
       "      <td>7.0</td>\n",
       "      <td>0.0</td>\n",
       "      <td>42.0</td>\n",
       "    </tr>\n",
       "    <tr>\n",
       "      <th>2009</th>\n",
       "      <td>32.0</td>\n",
       "      <td>11.0</td>\n",
       "      <td>0.0</td>\n",
       "      <td>39.0</td>\n",
       "    </tr>\n",
       "    <tr>\n",
       "      <th>2010</th>\n",
       "      <td>30.0</td>\n",
       "      <td>5.0</td>\n",
       "      <td>0.0</td>\n",
       "      <td>47.0</td>\n",
       "    </tr>\n",
       "    <tr>\n",
       "      <th>2011</th>\n",
       "      <td>36.0</td>\n",
       "      <td>12.0</td>\n",
       "      <td>0.0</td>\n",
       "      <td>34.0</td>\n",
       "    </tr>\n",
       "  </tbody>\n",
       "</table>\n",
       "</div>"
      ],
      "text/plain": [
       "          L    OL    T     W\n",
       "month                       \n",
       "2006   20.0  14.0  0.0  48.0\n",
       "2007   27.0   8.0  0.0  47.0\n",
       "2008   33.0   7.0  0.0  42.0\n",
       "2009   32.0  11.0  0.0  39.0\n",
       "2010   30.0   5.0  0.0  47.0\n",
       "2011   36.0  12.0  0.0  34.0"
      ]
     },
     "execution_count": 4,
     "metadata": {},
     "output_type": "execute_result"
    }
   ],
   "source": [
    "ducks.resample(\"A\").sum()"
   ]
  },
  {
   "cell_type": "code",
   "execution_count": 5,
   "metadata": {
    "slideshow": {
     "slide_type": "slide"
    }
   },
   "outputs": [
    {
     "data": {
      "text/html": [
       "<div>\n",
       "<style scoped>\n",
       "    .dataframe tbody tr th:only-of-type {\n",
       "        vertical-align: middle;\n",
       "    }\n",
       "\n",
       "    .dataframe tbody tr th {\n",
       "        vertical-align: top;\n",
       "    }\n",
       "\n",
       "    .dataframe thead th {\n",
       "        text-align: right;\n",
       "    }\n",
       "</style>\n",
       "<table border=\"1\" class=\"dataframe\">\n",
       "  <thead>\n",
       "    <tr style=\"text-align: right;\">\n",
       "      <th></th>\n",
       "      <th>name</th>\n",
       "      <th>L</th>\n",
       "      <th>OL</th>\n",
       "      <th>T</th>\n",
       "      <th>W</th>\n",
       "    </tr>\n",
       "    <tr>\n",
       "      <th>month</th>\n",
       "      <th></th>\n",
       "      <th></th>\n",
       "      <th></th>\n",
       "      <th></th>\n",
       "      <th></th>\n",
       "    </tr>\n",
       "  </thead>\n",
       "  <tbody>\n",
       "    <tr>\n",
       "      <th>2006-10-01</th>\n",
       "      <td>Anaheim Ducks</td>\n",
       "      <td>0.0</td>\n",
       "      <td>3.0</td>\n",
       "      <td>NaN</td>\n",
       "      <td>9.0</td>\n",
       "    </tr>\n",
       "    <tr>\n",
       "      <th>2006-11-01</th>\n",
       "      <td>Anaheim Ducks</td>\n",
       "      <td>2.0</td>\n",
       "      <td>3.0</td>\n",
       "      <td>NaN</td>\n",
       "      <td>10.0</td>\n",
       "    </tr>\n",
       "    <tr>\n",
       "      <th>2006-12-01</th>\n",
       "      <td>Anaheim Ducks</td>\n",
       "      <td>5.0</td>\n",
       "      <td>0.0</td>\n",
       "      <td>NaN</td>\n",
       "      <td>9.0</td>\n",
       "    </tr>\n",
       "    <tr>\n",
       "      <th>2007-01-01</th>\n",
       "      <td>Anaheim Ducks</td>\n",
       "      <td>5.0</td>\n",
       "      <td>2.0</td>\n",
       "      <td>NaN</td>\n",
       "      <td>4.0</td>\n",
       "    </tr>\n",
       "    <tr>\n",
       "      <th>2007-02-01</th>\n",
       "      <td>Anaheim Ducks</td>\n",
       "      <td>5.0</td>\n",
       "      <td>2.0</td>\n",
       "      <td>NaN</td>\n",
       "      <td>5.0</td>\n",
       "    </tr>\n",
       "  </tbody>\n",
       "</table>\n",
       "</div>"
      ],
      "text/plain": [
       "                     name    L   OL   T     W\n",
       "month                                        \n",
       "2006-10-01  Anaheim Ducks  0.0  3.0 NaN   9.0\n",
       "2006-11-01  Anaheim Ducks  2.0  3.0 NaN  10.0\n",
       "2006-12-01  Anaheim Ducks  5.0  0.0 NaN   9.0\n",
       "2007-01-01  Anaheim Ducks  5.0  2.0 NaN   4.0\n",
       "2007-02-01  Anaheim Ducks  5.0  2.0 NaN   5.0"
      ]
     },
     "execution_count": 5,
     "metadata": {},
     "output_type": "execute_result"
    }
   ],
   "source": [
    "ducks.index = ducks.to_timestamp().index.map(\n",
    "    lambda x: \n",
    "    x + pd.DateOffset(years=1) if x.month < 5\n",
    "    else x\n",
    ")\n",
    "ducks = ducks.sort_index()\n",
    "ducks.head()"
   ]
  },
  {
   "cell_type": "code",
   "execution_count": 6,
   "metadata": {
    "slideshow": {
     "slide_type": "slide"
    }
   },
   "outputs": [
    {
     "data": {
      "text/plain": [
       "DatetimeIndexResampler [freq=<YearEnd: month=6>, axis=0, closed=right, label=right, convention=start, base=0]"
      ]
     },
     "execution_count": 6,
     "metadata": {},
     "output_type": "execute_result"
    }
   ],
   "source": [
    "resampler = ducks.resample(\"A-JUN\")\n",
    "resampler"
   ]
  },
  {
   "cell_type": "code",
   "execution_count": 7,
   "metadata": {
    "slideshow": {
     "slide_type": "fragment"
    }
   },
   "outputs": [
    {
     "data": {
      "text/html": [
       "<div>\n",
       "<style scoped>\n",
       "    .dataframe tbody tr th:only-of-type {\n",
       "        vertical-align: middle;\n",
       "    }\n",
       "\n",
       "    .dataframe tbody tr th {\n",
       "        vertical-align: top;\n",
       "    }\n",
       "\n",
       "    .dataframe thead th {\n",
       "        text-align: right;\n",
       "    }\n",
       "</style>\n",
       "<table border=\"1\" class=\"dataframe\">\n",
       "  <thead>\n",
       "    <tr style=\"text-align: right;\">\n",
       "      <th></th>\n",
       "      <th>L</th>\n",
       "      <th>OL</th>\n",
       "      <th>T</th>\n",
       "      <th>W</th>\n",
       "    </tr>\n",
       "    <tr>\n",
       "      <th>month</th>\n",
       "      <th></th>\n",
       "      <th></th>\n",
       "      <th></th>\n",
       "      <th></th>\n",
       "    </tr>\n",
       "  </thead>\n",
       "  <tbody>\n",
       "    <tr>\n",
       "      <th>2007-06-30</th>\n",
       "      <td>20.0</td>\n",
       "      <td>14.0</td>\n",
       "      <td>0.0</td>\n",
       "      <td>48.0</td>\n",
       "    </tr>\n",
       "    <tr>\n",
       "      <th>2008-06-30</th>\n",
       "      <td>27.0</td>\n",
       "      <td>8.0</td>\n",
       "      <td>0.0</td>\n",
       "      <td>47.0</td>\n",
       "    </tr>\n",
       "    <tr>\n",
       "      <th>2009-06-30</th>\n",
       "      <td>33.0</td>\n",
       "      <td>7.0</td>\n",
       "      <td>0.0</td>\n",
       "      <td>42.0</td>\n",
       "    </tr>\n",
       "    <tr>\n",
       "      <th>2010-06-30</th>\n",
       "      <td>32.0</td>\n",
       "      <td>11.0</td>\n",
       "      <td>0.0</td>\n",
       "      <td>39.0</td>\n",
       "    </tr>\n",
       "    <tr>\n",
       "      <th>2011-06-30</th>\n",
       "      <td>30.0</td>\n",
       "      <td>5.0</td>\n",
       "      <td>0.0</td>\n",
       "      <td>47.0</td>\n",
       "    </tr>\n",
       "    <tr>\n",
       "      <th>2012-06-30</th>\n",
       "      <td>36.0</td>\n",
       "      <td>12.0</td>\n",
       "      <td>0.0</td>\n",
       "      <td>34.0</td>\n",
       "    </tr>\n",
       "  </tbody>\n",
       "</table>\n",
       "</div>"
      ],
      "text/plain": [
       "               L    OL    T     W\n",
       "month                            \n",
       "2007-06-30  20.0  14.0  0.0  48.0\n",
       "2008-06-30  27.0   8.0  0.0  47.0\n",
       "2009-06-30  33.0   7.0  0.0  42.0\n",
       "2010-06-30  32.0  11.0  0.0  39.0\n",
       "2011-06-30  30.0   5.0  0.0  47.0\n",
       "2012-06-30  36.0  12.0  0.0  34.0"
      ]
     },
     "execution_count": 7,
     "metadata": {},
     "output_type": "execute_result"
    }
   ],
   "source": [
    "resampler.sum()"
   ]
  },
  {
   "cell_type": "code",
   "execution_count": 8,
   "metadata": {
    "slideshow": {
     "slide_type": "slide"
    }
   },
   "outputs": [
    {
     "data": {
      "text/html": [
       "<div>\n",
       "<style scoped>\n",
       "    .dataframe tbody tr th:only-of-type {\n",
       "        vertical-align: middle;\n",
       "    }\n",
       "\n",
       "    .dataframe tbody tr th {\n",
       "        vertical-align: top;\n",
       "    }\n",
       "\n",
       "    .dataframe thead th {\n",
       "        text-align: right;\n",
       "    }\n",
       "</style>\n",
       "<table border=\"1\" class=\"dataframe\">\n",
       "  <thead>\n",
       "    <tr style=\"text-align: right;\">\n",
       "      <th></th>\n",
       "      <th></th>\n",
       "      <th>W</th>\n",
       "      <th>L</th>\n",
       "    </tr>\n",
       "    <tr>\n",
       "      <th>month</th>\n",
       "      <th></th>\n",
       "      <th></th>\n",
       "      <th></th>\n",
       "    </tr>\n",
       "  </thead>\n",
       "  <tbody>\n",
       "    <tr>\n",
       "      <th rowspan=\"7\" valign=\"top\">2007-06-30</th>\n",
       "      <th>0</th>\n",
       "      <td>9.0</td>\n",
       "      <td>0.0</td>\n",
       "    </tr>\n",
       "    <tr>\n",
       "      <th>1</th>\n",
       "      <td>19.0</td>\n",
       "      <td>2.0</td>\n",
       "    </tr>\n",
       "    <tr>\n",
       "      <th>2</th>\n",
       "      <td>28.0</td>\n",
       "      <td>7.0</td>\n",
       "    </tr>\n",
       "    <tr>\n",
       "      <th>3</th>\n",
       "      <td>32.0</td>\n",
       "      <td>12.0</td>\n",
       "    </tr>\n",
       "    <tr>\n",
       "      <th>4</th>\n",
       "      <td>37.0</td>\n",
       "      <td>17.0</td>\n",
       "    </tr>\n",
       "    <tr>\n",
       "      <th>5</th>\n",
       "      <td>47.0</td>\n",
       "      <td>20.0</td>\n",
       "    </tr>\n",
       "    <tr>\n",
       "      <th>6</th>\n",
       "      <td>48.0</td>\n",
       "      <td>20.0</td>\n",
       "    </tr>\n",
       "    <tr>\n",
       "      <th>2008-06-30</th>\n",
       "      <th>0</th>\n",
       "      <td>1.0</td>\n",
       "      <td>1.0</td>\n",
       "    </tr>\n",
       "  </tbody>\n",
       "</table>\n",
       "</div>"
      ],
      "text/plain": [
       "                 W     L\n",
       "month                   \n",
       "2007-06-30 0   9.0   0.0\n",
       "           1  19.0   2.0\n",
       "           2  28.0   7.0\n",
       "           3  32.0  12.0\n",
       "           4  37.0  17.0\n",
       "           5  47.0  20.0\n",
       "           6  48.0  20.0\n",
       "2008-06-30 0   1.0   1.0"
      ]
     },
     "execution_count": 8,
     "metadata": {},
     "output_type": "execute_result"
    }
   ],
   "source": [
    "# We can't to do this: resampler.expanding().sum()\n",
    "res = resampler.apply(\n",
    "        lambda x: x.reset_index()[[\"W\", \"L\"]]\n",
    "                   .expanding().sum()\n",
    ")\n",
    "res.head(8)"
   ]
  },
  {
   "cell_type": "code",
   "execution_count": 9,
   "metadata": {
    "slideshow": {
     "slide_type": "slide"
    }
   },
   "outputs": [
    {
     "data": {
      "text/html": [
       "<div>\n",
       "<style scoped>\n",
       "    .dataframe tbody tr th:only-of-type {\n",
       "        vertical-align: middle;\n",
       "    }\n",
       "\n",
       "    .dataframe tbody tr th {\n",
       "        vertical-align: top;\n",
       "    }\n",
       "\n",
       "    .dataframe thead th {\n",
       "        text-align: right;\n",
       "    }\n",
       "</style>\n",
       "<table border=\"1\" class=\"dataframe\">\n",
       "  <thead>\n",
       "    <tr style=\"text-align: right;\">\n",
       "      <th></th>\n",
       "      <th>W</th>\n",
       "      <th>L</th>\n",
       "    </tr>\n",
       "    <tr>\n",
       "      <th>month</th>\n",
       "      <th></th>\n",
       "      <th></th>\n",
       "    </tr>\n",
       "  </thead>\n",
       "  <tbody>\n",
       "    <tr>\n",
       "      <th>2006-10-01</th>\n",
       "      <td>9.0</td>\n",
       "      <td>0.0</td>\n",
       "    </tr>\n",
       "    <tr>\n",
       "      <th>2006-11-01</th>\n",
       "      <td>19.0</td>\n",
       "      <td>2.0</td>\n",
       "    </tr>\n",
       "    <tr>\n",
       "      <th>2006-12-01</th>\n",
       "      <td>28.0</td>\n",
       "      <td>7.0</td>\n",
       "    </tr>\n",
       "    <tr>\n",
       "      <th>2007-01-01</th>\n",
       "      <td>32.0</td>\n",
       "      <td>12.0</td>\n",
       "    </tr>\n",
       "    <tr>\n",
       "      <th>2007-02-01</th>\n",
       "      <td>37.0</td>\n",
       "      <td>17.0</td>\n",
       "    </tr>\n",
       "  </tbody>\n",
       "</table>\n",
       "</div>"
      ],
      "text/plain": [
       "               W     L\n",
       "month                 \n",
       "2006-10-01   9.0   0.0\n",
       "2006-11-01  19.0   2.0\n",
       "2006-12-01  28.0   7.0\n",
       "2007-01-01  32.0  12.0\n",
       "2007-02-01  37.0  17.0"
      ]
     },
     "execution_count": 9,
     "metadata": {},
     "output_type": "execute_result"
    }
   ],
   "source": [
    "res.index = ducks.index\n",
    "res.head()"
   ]
  },
  {
   "cell_type": "code",
   "execution_count": 10,
   "metadata": {
    "slideshow": {
     "slide_type": "slide"
    }
   },
   "outputs": [
    {
     "data": {
      "text/html": [
       "<div>\n",
       "<style scoped>\n",
       "    .dataframe tbody tr th:only-of-type {\n",
       "        vertical-align: middle;\n",
       "    }\n",
       "\n",
       "    .dataframe tbody tr th {\n",
       "        vertical-align: top;\n",
       "    }\n",
       "\n",
       "    .dataframe thead th {\n",
       "        text-align: right;\n",
       "    }\n",
       "</style>\n",
       "<table border=\"1\" class=\"dataframe\">\n",
       "  <thead>\n",
       "    <tr style=\"text-align: right;\">\n",
       "      <th></th>\n",
       "      <th>W</th>\n",
       "      <th>L</th>\n",
       "    </tr>\n",
       "    <tr>\n",
       "      <th>month</th>\n",
       "      <th></th>\n",
       "      <th></th>\n",
       "    </tr>\n",
       "  </thead>\n",
       "  <tbody>\n",
       "    <tr>\n",
       "      <th>2006-10-01</th>\n",
       "      <td>9.0</td>\n",
       "      <td>0.0</td>\n",
       "    </tr>\n",
       "    <tr>\n",
       "      <th>2006-11-01</th>\n",
       "      <td>19.0</td>\n",
       "      <td>2.0</td>\n",
       "    </tr>\n",
       "    <tr>\n",
       "      <th>2006-12-01</th>\n",
       "      <td>28.0</td>\n",
       "      <td>7.0</td>\n",
       "    </tr>\n",
       "    <tr>\n",
       "      <th>2007-01-01</th>\n",
       "      <td>32.0</td>\n",
       "      <td>12.0</td>\n",
       "    </tr>\n",
       "    <tr>\n",
       "      <th>2007-02-01</th>\n",
       "      <td>37.0</td>\n",
       "      <td>17.0</td>\n",
       "    </tr>\n",
       "    <tr>\n",
       "      <th>2007-03-01</th>\n",
       "      <td>47.0</td>\n",
       "      <td>20.0</td>\n",
       "    </tr>\n",
       "    <tr>\n",
       "      <th>2007-04-01</th>\n",
       "      <td>48.0</td>\n",
       "      <td>20.0</td>\n",
       "    </tr>\n",
       "    <tr>\n",
       "      <th>2007-05-01</th>\n",
       "      <td>NaN</td>\n",
       "      <td>NaN</td>\n",
       "    </tr>\n",
       "    <tr>\n",
       "      <th>2007-06-01</th>\n",
       "      <td>NaN</td>\n",
       "      <td>NaN</td>\n",
       "    </tr>\n",
       "    <tr>\n",
       "      <th>2007-07-01</th>\n",
       "      <td>NaN</td>\n",
       "      <td>NaN</td>\n",
       "    </tr>\n",
       "  </tbody>\n",
       "</table>\n",
       "</div>"
      ],
      "text/plain": [
       "               W     L\n",
       "month                 \n",
       "2006-10-01   9.0   0.0\n",
       "2006-11-01  19.0   2.0\n",
       "2006-12-01  28.0   7.0\n",
       "2007-01-01  32.0  12.0\n",
       "2007-02-01  37.0  17.0\n",
       "2007-03-01  47.0  20.0\n",
       "2007-04-01  48.0  20.0\n",
       "2007-05-01   NaN   NaN\n",
       "2007-06-01   NaN   NaN\n",
       "2007-07-01   NaN   NaN"
      ]
     },
     "execution_count": 10,
     "metadata": {},
     "output_type": "execute_result"
    }
   ],
   "source": [
    "final = res.asfreq(pd.tseries.offsets.MonthBegin())\n",
    "final.head(10)"
   ]
  },
  {
   "cell_type": "code",
   "execution_count": 11,
   "metadata": {
    "slideshow": {
     "slide_type": "slide"
    }
   },
   "outputs": [
    {
     "data": {
      "text/html": [
       "<div>\n",
       "<style scoped>\n",
       "    .dataframe tbody tr th:only-of-type {\n",
       "        vertical-align: middle;\n",
       "    }\n",
       "\n",
       "    .dataframe tbody tr th {\n",
       "        vertical-align: top;\n",
       "    }\n",
       "\n",
       "    .dataframe thead th {\n",
       "        text-align: right;\n",
       "    }\n",
       "</style>\n",
       "<table border=\"1\" class=\"dataframe\">\n",
       "  <thead>\n",
       "    <tr style=\"text-align: right;\">\n",
       "      <th></th>\n",
       "      <th>month</th>\n",
       "      <th>W</th>\n",
       "      <th>L</th>\n",
       "    </tr>\n",
       "  </thead>\n",
       "  <tbody>\n",
       "    <tr>\n",
       "      <th>0</th>\n",
       "      <td>2006-10-01</td>\n",
       "      <td>9.0</td>\n",
       "      <td>0.0</td>\n",
       "    </tr>\n",
       "    <tr>\n",
       "      <th>1</th>\n",
       "      <td>2006-11-01</td>\n",
       "      <td>19.0</td>\n",
       "      <td>2.0</td>\n",
       "    </tr>\n",
       "    <tr>\n",
       "      <th>2</th>\n",
       "      <td>2006-12-01</td>\n",
       "      <td>28.0</td>\n",
       "      <td>7.0</td>\n",
       "    </tr>\n",
       "    <tr>\n",
       "      <th>3</th>\n",
       "      <td>2007-01-01</td>\n",
       "      <td>32.0</td>\n",
       "      <td>12.0</td>\n",
       "    </tr>\n",
       "    <tr>\n",
       "      <th>4</th>\n",
       "      <td>2007-02-01</td>\n",
       "      <td>37.0</td>\n",
       "      <td>17.0</td>\n",
       "    </tr>\n",
       "  </tbody>\n",
       "</table>\n",
       "</div>"
      ],
      "text/plain": [
       "       month     W     L\n",
       "0 2006-10-01   9.0   0.0\n",
       "1 2006-11-01  19.0   2.0\n",
       "2 2006-12-01  28.0   7.0\n",
       "3 2007-01-01  32.0  12.0\n",
       "4 2007-02-01  37.0  17.0"
      ]
     },
     "execution_count": 11,
     "metadata": {},
     "output_type": "execute_result"
    }
   ],
   "source": [
    "fdf = final.reset_index()\n",
    "fdf.head()"
   ]
  },
  {
   "cell_type": "code",
   "execution_count": 12,
   "metadata": {
    "slideshow": {
     "slide_type": "slide"
    }
   },
   "outputs": [
    {
     "data": {
      "text/html": [
       "\n",
       "    <div class=\"bk-root\">\n",
       "        <a href=\"https://bokeh.pydata.org\" target=\"_blank\" class=\"bk-logo bk-logo-small bk-logo-notebook\"></a>\n",
       "        <span id=\"1001\">Loading BokehJS ...</span>\n",
       "    </div>"
      ]
     },
     "metadata": {},
     "output_type": "display_data"
    },
    {
     "data": {
      "application/javascript": [
       "\n",
       "(function(root) {\n",
       "  function now() {\n",
       "    return new Date();\n",
       "  }\n",
       "\n",
       "  var force = true;\n",
       "\n",
       "  if (typeof root._bokeh_onload_callbacks === \"undefined\" || force === true) {\n",
       "    root._bokeh_onload_callbacks = [];\n",
       "    root._bokeh_is_loading = undefined;\n",
       "  }\n",
       "\n",
       "  var JS_MIME_TYPE = 'application/javascript';\n",
       "  var HTML_MIME_TYPE = 'text/html';\n",
       "  var EXEC_MIME_TYPE = 'application/vnd.bokehjs_exec.v0+json';\n",
       "  var CLASS_NAME = 'output_bokeh rendered_html';\n",
       "\n",
       "  /**\n",
       "   * Render data to the DOM node\n",
       "   */\n",
       "  function render(props, node) {\n",
       "    var script = document.createElement(\"script\");\n",
       "    node.appendChild(script);\n",
       "  }\n",
       "\n",
       "  /**\n",
       "   * Handle when an output is cleared or removed\n",
       "   */\n",
       "  function handleClearOutput(event, handle) {\n",
       "    var cell = handle.cell;\n",
       "\n",
       "    var id = cell.output_area._bokeh_element_id;\n",
       "    var server_id = cell.output_area._bokeh_server_id;\n",
       "    // Clean up Bokeh references\n",
       "    if (id != null && id in Bokeh.index) {\n",
       "      Bokeh.index[id].model.document.clear();\n",
       "      delete Bokeh.index[id];\n",
       "    }\n",
       "\n",
       "    if (server_id !== undefined) {\n",
       "      // Clean up Bokeh references\n",
       "      var cmd = \"from bokeh.io.state import curstate; print(curstate().uuid_to_server['\" + server_id + \"'].get_sessions()[0].document.roots[0]._id)\";\n",
       "      cell.notebook.kernel.execute(cmd, {\n",
       "        iopub: {\n",
       "          output: function(msg) {\n",
       "            var id = msg.content.text.trim();\n",
       "            if (id in Bokeh.index) {\n",
       "              Bokeh.index[id].model.document.clear();\n",
       "              delete Bokeh.index[id];\n",
       "            }\n",
       "          }\n",
       "        }\n",
       "      });\n",
       "      // Destroy server and session\n",
       "      var cmd = \"import bokeh.io.notebook as ion; ion.destroy_server('\" + server_id + \"')\";\n",
       "      cell.notebook.kernel.execute(cmd);\n",
       "    }\n",
       "  }\n",
       "\n",
       "  /**\n",
       "   * Handle when a new output is added\n",
       "   */\n",
       "  function handleAddOutput(event, handle) {\n",
       "    var output_area = handle.output_area;\n",
       "    var output = handle.output;\n",
       "\n",
       "    // limit handleAddOutput to display_data with EXEC_MIME_TYPE content only\n",
       "    if ((output.output_type != \"display_data\") || (!output.data.hasOwnProperty(EXEC_MIME_TYPE))) {\n",
       "      return\n",
       "    }\n",
       "\n",
       "    var toinsert = output_area.element.find(\".\" + CLASS_NAME.split(' ')[0]);\n",
       "\n",
       "    if (output.metadata[EXEC_MIME_TYPE][\"id\"] !== undefined) {\n",
       "      toinsert[toinsert.length - 1].firstChild.textContent = output.data[JS_MIME_TYPE];\n",
       "      // store reference to embed id on output_area\n",
       "      output_area._bokeh_element_id = output.metadata[EXEC_MIME_TYPE][\"id\"];\n",
       "    }\n",
       "    if (output.metadata[EXEC_MIME_TYPE][\"server_id\"] !== undefined) {\n",
       "      var bk_div = document.createElement(\"div\");\n",
       "      bk_div.innerHTML = output.data[HTML_MIME_TYPE];\n",
       "      var script_attrs = bk_div.children[0].attributes;\n",
       "      for (var i = 0; i < script_attrs.length; i++) {\n",
       "        toinsert[toinsert.length - 1].firstChild.setAttribute(script_attrs[i].name, script_attrs[i].value);\n",
       "      }\n",
       "      // store reference to server id on output_area\n",
       "      output_area._bokeh_server_id = output.metadata[EXEC_MIME_TYPE][\"server_id\"];\n",
       "    }\n",
       "  }\n",
       "\n",
       "  function register_renderer(events, OutputArea) {\n",
       "\n",
       "    function append_mime(data, metadata, element) {\n",
       "      // create a DOM node to render to\n",
       "      var toinsert = this.create_output_subarea(\n",
       "        metadata,\n",
       "        CLASS_NAME,\n",
       "        EXEC_MIME_TYPE\n",
       "      );\n",
       "      this.keyboard_manager.register_events(toinsert);\n",
       "      // Render to node\n",
       "      var props = {data: data, metadata: metadata[EXEC_MIME_TYPE]};\n",
       "      render(props, toinsert[toinsert.length - 1]);\n",
       "      element.append(toinsert);\n",
       "      return toinsert\n",
       "    }\n",
       "\n",
       "    /* Handle when an output is cleared or removed */\n",
       "    events.on('clear_output.CodeCell', handleClearOutput);\n",
       "    events.on('delete.Cell', handleClearOutput);\n",
       "\n",
       "    /* Handle when a new output is added */\n",
       "    events.on('output_added.OutputArea', handleAddOutput);\n",
       "\n",
       "    /**\n",
       "     * Register the mime type and append_mime function with output_area\n",
       "     */\n",
       "    OutputArea.prototype.register_mime_type(EXEC_MIME_TYPE, append_mime, {\n",
       "      /* Is output safe? */\n",
       "      safe: true,\n",
       "      /* Index of renderer in `output_area.display_order` */\n",
       "      index: 0\n",
       "    });\n",
       "  }\n",
       "\n",
       "  // register the mime type if in Jupyter Notebook environment and previously unregistered\n",
       "  if (root.Jupyter !== undefined) {\n",
       "    var events = require('base/js/events');\n",
       "    var OutputArea = require('notebook/js/outputarea').OutputArea;\n",
       "\n",
       "    if (OutputArea.prototype.mime_types().indexOf(EXEC_MIME_TYPE) == -1) {\n",
       "      register_renderer(events, OutputArea);\n",
       "    }\n",
       "  }\n",
       "\n",
       "  \n",
       "  if (typeof (root._bokeh_timeout) === \"undefined\" || force === true) {\n",
       "    root._bokeh_timeout = Date.now() + 5000;\n",
       "    root._bokeh_failed_load = false;\n",
       "  }\n",
       "\n",
       "  var NB_LOAD_WARNING = {'data': {'text/html':\n",
       "     \"<div style='background-color: #fdd'>\\n\"+\n",
       "     \"<p>\\n\"+\n",
       "     \"BokehJS does not appear to have successfully loaded. If loading BokehJS from CDN, this \\n\"+\n",
       "     \"may be due to a slow or bad network connection. Possible fixes:\\n\"+\n",
       "     \"</p>\\n\"+\n",
       "     \"<ul>\\n\"+\n",
       "     \"<li>re-rerun `output_notebook()` to attempt to load from CDN again, or</li>\\n\"+\n",
       "     \"<li>use INLINE resources instead, as so:</li>\\n\"+\n",
       "     \"</ul>\\n\"+\n",
       "     \"<code>\\n\"+\n",
       "     \"from bokeh.resources import INLINE\\n\"+\n",
       "     \"output_notebook(resources=INLINE)\\n\"+\n",
       "     \"</code>\\n\"+\n",
       "     \"</div>\"}};\n",
       "\n",
       "  function display_loaded() {\n",
       "    var el = document.getElementById(\"1001\");\n",
       "    if (el != null) {\n",
       "      el.textContent = \"BokehJS is loading...\";\n",
       "    }\n",
       "    if (root.Bokeh !== undefined) {\n",
       "      if (el != null) {\n",
       "        el.textContent = \"BokehJS \" + root.Bokeh.version + \" successfully loaded.\";\n",
       "      }\n",
       "    } else if (Date.now() < root._bokeh_timeout) {\n",
       "      setTimeout(display_loaded, 100)\n",
       "    }\n",
       "  }\n",
       "\n",
       "\n",
       "  function run_callbacks() {\n",
       "    try {\n",
       "      root._bokeh_onload_callbacks.forEach(function(callback) {\n",
       "        if (callback != null)\n",
       "          callback();\n",
       "      });\n",
       "    } finally {\n",
       "      delete root._bokeh_onload_callbacks\n",
       "    }\n",
       "    console.debug(\"Bokeh: all callbacks have finished\");\n",
       "  }\n",
       "\n",
       "  function load_libs(css_urls, js_urls, callback) {\n",
       "    if (css_urls == null) css_urls = [];\n",
       "    if (js_urls == null) js_urls = [];\n",
       "\n",
       "    root._bokeh_onload_callbacks.push(callback);\n",
       "    if (root._bokeh_is_loading > 0) {\n",
       "      console.debug(\"Bokeh: BokehJS is being loaded, scheduling callback at\", now());\n",
       "      return null;\n",
       "    }\n",
       "    if (js_urls == null || js_urls.length === 0) {\n",
       "      run_callbacks();\n",
       "      return null;\n",
       "    }\n",
       "    console.debug(\"Bokeh: BokehJS not loaded, scheduling load and callback at\", now());\n",
       "    root._bokeh_is_loading = css_urls.length + js_urls.length;\n",
       "\n",
       "    function on_load() {\n",
       "      root._bokeh_is_loading--;\n",
       "      if (root._bokeh_is_loading === 0) {\n",
       "        console.debug(\"Bokeh: all BokehJS libraries/stylesheets loaded\");\n",
       "        run_callbacks()\n",
       "      }\n",
       "    }\n",
       "\n",
       "    function on_error() {\n",
       "      console.error(\"failed to load \" + url);\n",
       "    }\n",
       "\n",
       "    for (var i = 0; i < css_urls.length; i++) {\n",
       "      var url = css_urls[i];\n",
       "      const element = document.createElement(\"link\");\n",
       "      element.onload = on_load;\n",
       "      element.onerror = on_error;\n",
       "      element.rel = \"stylesheet\";\n",
       "      element.type = \"text/css\";\n",
       "      element.href = url;\n",
       "      console.debug(\"Bokeh: injecting link tag for BokehJS stylesheet: \", url);\n",
       "      document.body.appendChild(element);\n",
       "    }\n",
       "\n",
       "    for (var i = 0; i < js_urls.length; i++) {\n",
       "      var url = js_urls[i];\n",
       "      var element = document.createElement('script');\n",
       "      element.onload = on_load;\n",
       "      element.onerror = on_error;\n",
       "      element.async = false;\n",
       "      element.src = url;\n",
       "      console.debug(\"Bokeh: injecting script tag for BokehJS library: \", url);\n",
       "      document.head.appendChild(element);\n",
       "    }\n",
       "  };var element = document.getElementById(\"1001\");\n",
       "  if (element == null) {\n",
       "    console.error(\"Bokeh: ERROR: autoload.js configured with elementid '1001' but no matching script tag was found. \")\n",
       "    return false;\n",
       "  }\n",
       "\n",
       "  function inject_raw_css(css) {\n",
       "    const element = document.createElement(\"style\");\n",
       "    element.appendChild(document.createTextNode(css));\n",
       "    document.body.appendChild(element);\n",
       "  }\n",
       "\n",
       "  var js_urls = [\"https://cdn.pydata.org/bokeh/release/bokeh-1.2.0.min.js\", \"https://cdn.pydata.org/bokeh/release/bokeh-widgets-1.2.0.min.js\", \"https://cdn.pydata.org/bokeh/release/bokeh-tables-1.2.0.min.js\", \"https://cdn.pydata.org/bokeh/release/bokeh-gl-1.2.0.min.js\"];\n",
       "  var css_urls = [\"https://cdn.pydata.org/bokeh/release/bokeh-1.2.0.min.css\", \"https://cdn.pydata.org/bokeh/release/bokeh-widgets-1.2.0.min.css\", \"https://cdn.pydata.org/bokeh/release/bokeh-tables-1.2.0.min.css\"];\n",
       "\n",
       "  var inline_js = [\n",
       "    function(Bokeh) {\n",
       "      Bokeh.set_log_level(\"info\");\n",
       "    },\n",
       "    \n",
       "    function(Bokeh) {\n",
       "      \n",
       "    },\n",
       "    function(Bokeh) {} // ensure no trailing comma for IE\n",
       "  ];\n",
       "\n",
       "  function run_inline_js() {\n",
       "    \n",
       "    if ((root.Bokeh !== undefined) || (force === true)) {\n",
       "      for (var i = 0; i < inline_js.length; i++) {\n",
       "        inline_js[i].call(root, root.Bokeh);\n",
       "      }if (force === true) {\n",
       "        display_loaded();\n",
       "      }} else if (Date.now() < root._bokeh_timeout) {\n",
       "      setTimeout(run_inline_js, 100);\n",
       "    } else if (!root._bokeh_failed_load) {\n",
       "      console.log(\"Bokeh: BokehJS failed to load within specified timeout.\");\n",
       "      root._bokeh_failed_load = true;\n",
       "    } else if (force !== true) {\n",
       "      var cell = $(document.getElementById(\"1001\")).parents('.cell').data().cell;\n",
       "      cell.output_area.append_execute_result(NB_LOAD_WARNING)\n",
       "    }\n",
       "\n",
       "  }\n",
       "\n",
       "  if (root._bokeh_is_loading === 0) {\n",
       "    console.debug(\"Bokeh: BokehJS loaded, going straight to plotting\");\n",
       "    run_inline_js();\n",
       "  } else {\n",
       "    load_libs(css_urls, js_urls, function() {\n",
       "      console.debug(\"Bokeh: BokehJS plotting callback run at\", now());\n",
       "      run_inline_js();\n",
       "    });\n",
       "  }\n",
       "}(window));"
      ],
      "application/vnd.bokehjs_load.v0+json": "\n(function(root) {\n  function now() {\n    return new Date();\n  }\n\n  var force = true;\n\n  if (typeof root._bokeh_onload_callbacks === \"undefined\" || force === true) {\n    root._bokeh_onload_callbacks = [];\n    root._bokeh_is_loading = undefined;\n  }\n\n  \n\n  \n  if (typeof (root._bokeh_timeout) === \"undefined\" || force === true) {\n    root._bokeh_timeout = Date.now() + 5000;\n    root._bokeh_failed_load = false;\n  }\n\n  var NB_LOAD_WARNING = {'data': {'text/html':\n     \"<div style='background-color: #fdd'>\\n\"+\n     \"<p>\\n\"+\n     \"BokehJS does not appear to have successfully loaded. If loading BokehJS from CDN, this \\n\"+\n     \"may be due to a slow or bad network connection. Possible fixes:\\n\"+\n     \"</p>\\n\"+\n     \"<ul>\\n\"+\n     \"<li>re-rerun `output_notebook()` to attempt to load from CDN again, or</li>\\n\"+\n     \"<li>use INLINE resources instead, as so:</li>\\n\"+\n     \"</ul>\\n\"+\n     \"<code>\\n\"+\n     \"from bokeh.resources import INLINE\\n\"+\n     \"output_notebook(resources=INLINE)\\n\"+\n     \"</code>\\n\"+\n     \"</div>\"}};\n\n  function display_loaded() {\n    var el = document.getElementById(\"1001\");\n    if (el != null) {\n      el.textContent = \"BokehJS is loading...\";\n    }\n    if (root.Bokeh !== undefined) {\n      if (el != null) {\n        el.textContent = \"BokehJS \" + root.Bokeh.version + \" successfully loaded.\";\n      }\n    } else if (Date.now() < root._bokeh_timeout) {\n      setTimeout(display_loaded, 100)\n    }\n  }\n\n\n  function run_callbacks() {\n    try {\n      root._bokeh_onload_callbacks.forEach(function(callback) {\n        if (callback != null)\n          callback();\n      });\n    } finally {\n      delete root._bokeh_onload_callbacks\n    }\n    console.debug(\"Bokeh: all callbacks have finished\");\n  }\n\n  function load_libs(css_urls, js_urls, callback) {\n    if (css_urls == null) css_urls = [];\n    if (js_urls == null) js_urls = [];\n\n    root._bokeh_onload_callbacks.push(callback);\n    if (root._bokeh_is_loading > 0) {\n      console.debug(\"Bokeh: BokehJS is being loaded, scheduling callback at\", now());\n      return null;\n    }\n    if (js_urls == null || js_urls.length === 0) {\n      run_callbacks();\n      return null;\n    }\n    console.debug(\"Bokeh: BokehJS not loaded, scheduling load and callback at\", now());\n    root._bokeh_is_loading = css_urls.length + js_urls.length;\n\n    function on_load() {\n      root._bokeh_is_loading--;\n      if (root._bokeh_is_loading === 0) {\n        console.debug(\"Bokeh: all BokehJS libraries/stylesheets loaded\");\n        run_callbacks()\n      }\n    }\n\n    function on_error() {\n      console.error(\"failed to load \" + url);\n    }\n\n    for (var i = 0; i < css_urls.length; i++) {\n      var url = css_urls[i];\n      const element = document.createElement(\"link\");\n      element.onload = on_load;\n      element.onerror = on_error;\n      element.rel = \"stylesheet\";\n      element.type = \"text/css\";\n      element.href = url;\n      console.debug(\"Bokeh: injecting link tag for BokehJS stylesheet: \", url);\n      document.body.appendChild(element);\n    }\n\n    for (var i = 0; i < js_urls.length; i++) {\n      var url = js_urls[i];\n      var element = document.createElement('script');\n      element.onload = on_load;\n      element.onerror = on_error;\n      element.async = false;\n      element.src = url;\n      console.debug(\"Bokeh: injecting script tag for BokehJS library: \", url);\n      document.head.appendChild(element);\n    }\n  };var element = document.getElementById(\"1001\");\n  if (element == null) {\n    console.error(\"Bokeh: ERROR: autoload.js configured with elementid '1001' but no matching script tag was found. \")\n    return false;\n  }\n\n  function inject_raw_css(css) {\n    const element = document.createElement(\"style\");\n    element.appendChild(document.createTextNode(css));\n    document.body.appendChild(element);\n  }\n\n  var js_urls = [\"https://cdn.pydata.org/bokeh/release/bokeh-1.2.0.min.js\", \"https://cdn.pydata.org/bokeh/release/bokeh-widgets-1.2.0.min.js\", \"https://cdn.pydata.org/bokeh/release/bokeh-tables-1.2.0.min.js\", \"https://cdn.pydata.org/bokeh/release/bokeh-gl-1.2.0.min.js\"];\n  var css_urls = [\"https://cdn.pydata.org/bokeh/release/bokeh-1.2.0.min.css\", \"https://cdn.pydata.org/bokeh/release/bokeh-widgets-1.2.0.min.css\", \"https://cdn.pydata.org/bokeh/release/bokeh-tables-1.2.0.min.css\"];\n\n  var inline_js = [\n    function(Bokeh) {\n      Bokeh.set_log_level(\"info\");\n    },\n    \n    function(Bokeh) {\n      \n    },\n    function(Bokeh) {} // ensure no trailing comma for IE\n  ];\n\n  function run_inline_js() {\n    \n    if ((root.Bokeh !== undefined) || (force === true)) {\n      for (var i = 0; i < inline_js.length; i++) {\n        inline_js[i].call(root, root.Bokeh);\n      }if (force === true) {\n        display_loaded();\n      }} else if (Date.now() < root._bokeh_timeout) {\n      setTimeout(run_inline_js, 100);\n    } else if (!root._bokeh_failed_load) {\n      console.log(\"Bokeh: BokehJS failed to load within specified timeout.\");\n      root._bokeh_failed_load = true;\n    } else if (force !== true) {\n      var cell = $(document.getElementById(\"1001\")).parents('.cell').data().cell;\n      cell.output_area.append_execute_result(NB_LOAD_WARNING)\n    }\n\n  }\n\n  if (root._bokeh_is_loading === 0) {\n    console.debug(\"Bokeh: BokehJS loaded, going straight to plotting\");\n    run_inline_js();\n  } else {\n    load_libs(css_urls, js_urls, function() {\n      console.debug(\"Bokeh: BokehJS plotting callback run at\", now());\n      run_inline_js();\n    });\n  }\n}(window));"
     },
     "metadata": {},
     "output_type": "display_data"
    }
   ],
   "source": [
    "from bokeh.plotting import figure, output_notebook, show\n",
    "output_notebook()"
   ]
  },
  {
   "cell_type": "code",
   "execution_count": 13,
   "metadata": {
    "slideshow": {
     "slide_type": "fragment"
    }
   },
   "outputs": [],
   "source": [
    "from bokeh.models.sources import ColumnDataSource as cds"
   ]
  },
  {
   "cell_type": "code",
   "execution_count": 14,
   "metadata": {
    "slideshow": {
     "slide_type": "fragment"
    }
   },
   "outputs": [],
   "source": [
    "source = cds(fdf)\n",
    "p = figure(x_axis_type=\"datetime\", height=500, width=500)\n",
    "p.line(source=source, x='month', y=\"W\", color=\"green\")\n",
    "p.line(source=source, x='month', y=\"L\", color=\"red\");"
   ]
  },
  {
   "cell_type": "code",
   "execution_count": 15,
   "metadata": {
    "slideshow": {
     "slide_type": "slide"
    }
   },
   "outputs": [
    {
     "data": {
      "text/html": [
       "\n",
       "\n",
       "\n",
       "\n",
       "\n",
       "\n",
       "  <div class=\"bk-root\" id=\"1577465c-90b2-4602-896b-508d344b7aa8\" data-root-id=\"1003\"></div>\n"
      ]
     },
     "metadata": {},
     "output_type": "display_data"
    },
    {
     "data": {
      "application/javascript": [
       "(function(root) {\n",
       "  function embed_document(root) {\n",
       "    \n",
       "  var docs_json = {\"2a9a9588-aaf1-4cc6-afb9-0fdb0a59d73c\":{\"roots\":{\"references\":[{\"attributes\":{\"below\":[{\"id\":\"1012\",\"type\":\"DatetimeAxis\"}],\"center\":[{\"id\":\"1016\",\"type\":\"Grid\"},{\"id\":\"1021\",\"type\":\"Grid\"}],\"left\":[{\"id\":\"1017\",\"type\":\"LinearAxis\"}],\"plot_height\":500,\"plot_width\":500,\"renderers\":[{\"id\":\"1038\",\"type\":\"GlyphRenderer\"},{\"id\":\"1043\",\"type\":\"GlyphRenderer\"}],\"title\":{\"id\":\"1046\",\"type\":\"Title\"},\"toolbar\":{\"id\":\"1028\",\"type\":\"Toolbar\"},\"x_range\":{\"id\":\"1004\",\"type\":\"DataRange1d\"},\"x_scale\":{\"id\":\"1008\",\"type\":\"LinearScale\"},\"y_range\":{\"id\":\"1006\",\"type\":\"DataRange1d\"},\"y_scale\":{\"id\":\"1010\",\"type\":\"LinearScale\"}},\"id\":\"1003\",\"subtype\":\"Figure\",\"type\":\"Plot\"},{\"attributes\":{},\"id\":\"1026\",\"type\":\"ResetTool\"},{\"attributes\":{\"source\":{\"id\":\"1002\",\"type\":\"ColumnDataSource\"}},\"id\":\"1039\",\"type\":\"CDSView\"},{\"attributes\":{},\"id\":\"1027\",\"type\":\"HelpTool\"},{\"attributes\":{\"active_drag\":\"auto\",\"active_inspect\":\"auto\",\"active_multi\":null,\"active_scroll\":\"auto\",\"active_tap\":\"auto\",\"tools\":[{\"id\":\"1022\",\"type\":\"PanTool\"},{\"id\":\"1023\",\"type\":\"WheelZoomTool\"},{\"id\":\"1024\",\"type\":\"BoxZoomTool\"},{\"id\":\"1025\",\"type\":\"SaveTool\"},{\"id\":\"1026\",\"type\":\"ResetTool\"},{\"id\":\"1027\",\"type\":\"HelpTool\"}]},\"id\":\"1028\",\"type\":\"Toolbar\"},{\"attributes\":{\"line_alpha\":0.1,\"line_color\":\"#1f77b4\",\"x\":{\"field\":\"month\"},\"y\":{\"field\":\"W\"}},\"id\":\"1037\",\"type\":\"Line\"},{\"attributes\":{\"months\":[0,1,2,3,4,5,6,7,8,9,10,11]},\"id\":\"1060\",\"type\":\"MonthsTicker\"},{\"attributes\":{\"data_source\":{\"id\":\"1002\",\"type\":\"ColumnDataSource\"},\"glyph\":{\"id\":\"1036\",\"type\":\"Line\"},\"hover_glyph\":null,\"muted_glyph\":null,\"nonselection_glyph\":{\"id\":\"1037\",\"type\":\"Line\"},\"selection_glyph\":null,\"view\":{\"id\":\"1039\",\"type\":\"CDSView\"}},\"id\":\"1038\",\"type\":\"GlyphRenderer\"},{\"attributes\":{\"months\":[0,4,8]},\"id\":\"1062\",\"type\":\"MonthsTicker\"},{\"attributes\":{\"text\":\"\"},\"id\":\"1046\",\"type\":\"Title\"},{\"attributes\":{},\"id\":\"1008\",\"type\":\"LinearScale\"},{\"attributes\":{\"mantissas\":[1,2,5],\"max_interval\":500.0,\"num_minor_ticks\":0},\"id\":\"1053\",\"type\":\"AdaptiveTicker\"},{\"attributes\":{},\"id\":\"1010\",\"type\":\"LinearScale\"},{\"attributes\":{},\"id\":\"1048\",\"type\":\"BasicTickFormatter\"},{\"attributes\":{\"line_color\":\"red\",\"x\":{\"field\":\"month\"},\"y\":{\"field\":\"L\"}},\"id\":\"1041\",\"type\":\"Line\"},{\"attributes\":{\"formatter\":{\"id\":\"1050\",\"type\":\"DatetimeTickFormatter\"},\"ticker\":{\"id\":\"1013\",\"type\":\"DatetimeTicker\"}},\"id\":\"1012\",\"type\":\"DatetimeAxis\"},{\"attributes\":{},\"id\":\"1050\",\"type\":\"DatetimeTickFormatter\"},{\"attributes\":{\"num_minor_ticks\":5,\"tickers\":[{\"id\":\"1053\",\"type\":\"AdaptiveTicker\"},{\"id\":\"1054\",\"type\":\"AdaptiveTicker\"},{\"id\":\"1055\",\"type\":\"AdaptiveTicker\"},{\"id\":\"1056\",\"type\":\"DaysTicker\"},{\"id\":\"1057\",\"type\":\"DaysTicker\"},{\"id\":\"1058\",\"type\":\"DaysTicker\"},{\"id\":\"1059\",\"type\":\"DaysTicker\"},{\"id\":\"1060\",\"type\":\"MonthsTicker\"},{\"id\":\"1061\",\"type\":\"MonthsTicker\"},{\"id\":\"1062\",\"type\":\"MonthsTicker\"},{\"id\":\"1063\",\"type\":\"MonthsTicker\"},{\"id\":\"1064\",\"type\":\"YearsTicker\"}]},\"id\":\"1013\",\"type\":\"DatetimeTicker\"},{\"attributes\":{\"line_alpha\":0.1,\"line_color\":\"#1f77b4\",\"x\":{\"field\":\"month\"},\"y\":{\"field\":\"L\"}},\"id\":\"1042\",\"type\":\"Line\"},{\"attributes\":{},\"id\":\"1051\",\"type\":\"Selection\"},{\"attributes\":{\"ticker\":{\"id\":\"1013\",\"type\":\"DatetimeTicker\"}},\"id\":\"1016\",\"type\":\"Grid\"},{\"attributes\":{\"data_source\":{\"id\":\"1002\",\"type\":\"ColumnDataSource\"},\"glyph\":{\"id\":\"1041\",\"type\":\"Line\"},\"hover_glyph\":null,\"muted_glyph\":null,\"nonselection_glyph\":{\"id\":\"1042\",\"type\":\"Line\"},\"selection_glyph\":null,\"view\":{\"id\":\"1044\",\"type\":\"CDSView\"}},\"id\":\"1043\",\"type\":\"GlyphRenderer\"},{\"attributes\":{},\"id\":\"1052\",\"type\":\"UnionRenderers\"},{\"attributes\":{\"days\":[1,8,15,22]},\"id\":\"1058\",\"type\":\"DaysTicker\"},{\"attributes\":{\"formatter\":{\"id\":\"1048\",\"type\":\"BasicTickFormatter\"},\"ticker\":{\"id\":\"1018\",\"type\":\"BasicTicker\"}},\"id\":\"1017\",\"type\":\"LinearAxis\"},{\"attributes\":{\"source\":{\"id\":\"1002\",\"type\":\"ColumnDataSource\"}},\"id\":\"1044\",\"type\":\"CDSView\"},{\"attributes\":{\"base\":60,\"mantissas\":[1,2,5,10,15,20,30],\"max_interval\":1800000.0,\"min_interval\":1000.0,\"num_minor_ticks\":0},\"id\":\"1054\",\"type\":\"AdaptiveTicker\"},{\"attributes\":{},\"id\":\"1018\",\"type\":\"BasicTicker\"},{\"attributes\":{\"months\":[0,2,4,6,8,10]},\"id\":\"1061\",\"type\":\"MonthsTicker\"},{\"attributes\":{\"dimension\":1,\"ticker\":{\"id\":\"1018\",\"type\":\"BasicTicker\"}},\"id\":\"1021\",\"type\":\"Grid\"},{\"attributes\":{\"bottom_units\":\"screen\",\"fill_alpha\":{\"value\":0.5},\"fill_color\":{\"value\":\"lightgrey\"},\"left_units\":\"screen\",\"level\":\"overlay\",\"line_alpha\":{\"value\":1.0},\"line_color\":{\"value\":\"black\"},\"line_dash\":[4,4],\"line_width\":{\"value\":2},\"render_mode\":\"css\",\"right_units\":\"screen\",\"top_units\":\"screen\"},\"id\":\"1065\",\"type\":\"BoxAnnotation\"},{\"attributes\":{\"base\":24,\"mantissas\":[1,2,4,6,8,12],\"max_interval\":43200000.0,\"min_interval\":3600000.0,\"num_minor_ticks\":0},\"id\":\"1055\",\"type\":\"AdaptiveTicker\"},{\"attributes\":{},\"id\":\"1064\",\"type\":\"YearsTicker\"},{\"attributes\":{\"days\":[1,4,7,10,13,16,19,22,25,28]},\"id\":\"1057\",\"type\":\"DaysTicker\"},{\"attributes\":{\"days\":[1,2,3,4,5,6,7,8,9,10,11,12,13,14,15,16,17,18,19,20,21,22,23,24,25,26,27,28,29,30,31]},\"id\":\"1056\",\"type\":\"DaysTicker\"},{\"attributes\":{\"line_color\":\"green\",\"x\":{\"field\":\"month\"},\"y\":{\"field\":\"W\"}},\"id\":\"1036\",\"type\":\"Line\"},{\"attributes\":{\"days\":[1,15]},\"id\":\"1059\",\"type\":\"DaysTicker\"},{\"attributes\":{},\"id\":\"1022\",\"type\":\"PanTool\"},{\"attributes\":{},\"id\":\"1023\",\"type\":\"WheelZoomTool\"},{\"attributes\":{\"callback\":null,\"data\":{\"L\":{\"__ndarray__\":\"AAAAAAAAAAAAAAAAAAAAQAAAAAAAABxAAAAAAAAAKEAAAAAAAAAxQAAAAAAAADRAAAAAAAAANEAAAAAAAAD4fwAAAAAAAPh/AAAAAAAA+H8AAAAAAAD4fwAAAAAAAPA/AAAAAAAAHEAAAAAAAAAmQAAAAAAAADFAAAAAAAAANUAAAAAAAAA3QAAAAAAAADtAAAAAAAAAO0AAAAAAAAD4fwAAAAAAAPh/AAAAAAAA+H8AAAAAAAD4fwAAAAAAAPh/AAAAAAAAFEAAAAAAAAAgQAAAAAAAAC5AAAAAAAAANkAAAAAAAAA8QAAAAAAAAEBAAAAAAACAQEAAAAAAAAD4fwAAAAAAAPh/AAAAAAAA+H8AAAAAAAD4fwAAAAAAAPh/AAAAAAAAGEAAAAAAAAAmQAAAAAAAADFAAAAAAAAAN0AAAAAAAAA5QAAAAAAAAD9AAAAAAAAAQEAAAAAAAAD4fwAAAAAAAPh/AAAAAAAA+H8AAAAAAAD4fwAAAAAAAPh/AAAAAAAAHEAAAAAAAAAmQAAAAAAAADFAAAAAAAAANEAAAAAAAAA5QAAAAAAAADxAAAAAAAAAPkAAAAAAAAD4fwAAAAAAAPh/AAAAAAAA+H8AAAAAAAD4fwAAAAAAAPh/AAAAAAAAFEAAAAAAAAAqQAAAAAAAADVAAAAAAAAAN0AAAAAAAAA7QAAAAAAAAEFAAAAAAAAAQkA=\",\"dtype\":\"float64\",\"shape\":[67]},\"W\":{\"__ndarray__\":\"AAAAAAAAIkAAAAAAAAAzQAAAAAAAADxAAAAAAAAAQEAAAAAAAIBCQAAAAAAAgEdAAAAAAAAASEAAAAAAAAD4fwAAAAAAAPh/AAAAAAAA+H8AAAAAAAD4fwAAAAAAAPA/AAAAAAAAEEAAAAAAAAAoQAAAAAAAADNAAAAAAAAAO0AAAAAAAIBCQAAAAAAAgEZAAAAAAACAR0AAAAAAAAD4fwAAAAAAAPh/AAAAAAAA+H8AAAAAAAD4fwAAAAAAAPh/AAAAAAAAGEAAAAAAAAAsQAAAAAAAADNAAAAAAAAAOUAAAAAAAAA/QAAAAAAAgENAAAAAAAAARUAAAAAAAAD4fwAAAAAAAPh/AAAAAAAA+H8AAAAAAAD4fwAAAAAAAPh/AAAAAAAAEEAAAAAAAAAkQAAAAAAAADBAAAAAAAAAOUAAAAAAAAA+QAAAAAAAgEJAAAAAAACAQ0AAAAAAAAD4fwAAAAAAAPh/AAAAAAAA+H8AAAAAAAD4fwAAAAAAAPh/AAAAAAAAEEAAAAAAAAAoQAAAAAAAADRAAAAAAAAAPEAAAAAAAIBAQAAAAAAAAEZAAAAAAACAR0AAAAAAAAD4fwAAAAAAAPh/AAAAAAAA+H8AAAAAAAD4fwAAAAAAAPh/AAAAAAAAFEAAAAAAAAAcQAAAAAAAACRAAAAAAAAAM0AAAAAAAAA7QAAAAAAAgEBAAAAAAAAAQUA=\",\"dtype\":\"float64\",\"shape\":[67]},\"index\":[0,1,2,3,4,5,6,7,8,9,10,11,12,13,14,15,16,17,18,19,20,21,22,23,24,25,26,27,28,29,30,31,32,33,34,35,36,37,38,39,40,41,42,43,44,45,46,47,48,49,50,51,52,53,54,55,56,57,58,59,60,61,62,63,64,65,66],\"month\":{\"__ndarray__\":\"AACAuBLgcEIAAMAKDepwQgAAQPe083BCAACASa/9cEIAAMCbqQdxQgAAwLysEHFCAAAAD6cacUIAAID7TiRxQgAAwE1JLnFCAABAOvE3cUIAAICM60FxQgAAwN7lS3FCAABAy41VcUIAAIAdiF9xQgAAAAowaXFCAABAXCpzcUIAAICuJH1xQgAAQDV6hnFCAACAh3SQcUIAAAB0HJpxQgAAQMYWpHFCAADAsr6tcUIAAAAFubdxQgAAQFezwXFCAADAQ1vLcUIAAACWVdVxQgAAgIL93nFCAADA1PfocUIAAAAn8vJxQgAAAEj1+3FCAABAmu8FckIAAMCGlw9yQgAAANmRGXJCAACAxTkjckIAAMAXNC1yQgAAAGouN3JCAACAVtZAckIAAMCo0EpyQgAAQJV4VHJCAACA53JeckIAAMA5bWhyQgAAwFpwcXJCAAAArWp7ckIAAICZEoVyQgAAwOsMj3JCAABA2LSYckIAAIAqr6JyQgAAwHyprHJCAABAaVG2ckIAAIC7S8ByQgAAAKjzyXJCAABA+u3TckIAAIBM6N1yQgAAgG3r5nJCAADAv+XwckIAAECsjfpyQgAAgP6HBHNCAAAA6y8Oc0IAAEA9KhhzQgAAgI8kInNCAAAAfMwrc0IAAEDOxjVzQgAAwLpuP3NCAAAADWlJc0IAAEBfY1NzQgAAAOa4XHNCAABAOLNmc0I=\",\"dtype\":\"float64\",\"shape\":[67]}},\"selected\":{\"id\":\"1051\",\"type\":\"Selection\"},\"selection_policy\":{\"id\":\"1052\",\"type\":\"UnionRenderers\"}},\"id\":\"1002\",\"type\":\"ColumnDataSource\"},{\"attributes\":{\"months\":[0,6]},\"id\":\"1063\",\"type\":\"MonthsTicker\"},{\"attributes\":{\"overlay\":{\"id\":\"1065\",\"type\":\"BoxAnnotation\"}},\"id\":\"1024\",\"type\":\"BoxZoomTool\"},{\"attributes\":{\"callback\":null},\"id\":\"1004\",\"type\":\"DataRange1d\"},{\"attributes\":{\"callback\":null},\"id\":\"1006\",\"type\":\"DataRange1d\"},{\"attributes\":{},\"id\":\"1025\",\"type\":\"SaveTool\"}],\"root_ids\":[\"1003\"]},\"title\":\"Bokeh Application\",\"version\":\"1.2.0\"}};\n",
       "  var render_items = [{\"docid\":\"2a9a9588-aaf1-4cc6-afb9-0fdb0a59d73c\",\"roots\":{\"1003\":\"1577465c-90b2-4602-896b-508d344b7aa8\"}}];\n",
       "  root.Bokeh.embed.embed_items_notebook(docs_json, render_items);\n",
       "\n",
       "  }\n",
       "  if (root.Bokeh !== undefined) {\n",
       "    embed_document(root);\n",
       "  } else {\n",
       "    var attempts = 0;\n",
       "    var timer = setInterval(function(root) {\n",
       "      if (root.Bokeh !== undefined) {\n",
       "        embed_document(root);\n",
       "        clearInterval(timer);\n",
       "      }\n",
       "      attempts++;\n",
       "      if (attempts > 100) {\n",
       "        console.log(\"Bokeh: ERROR: Unable to run BokehJS code because BokehJS library is missing\");\n",
       "        clearInterval(timer);\n",
       "      }\n",
       "    }, 10, root)\n",
       "  }\n",
       "})(window);"
      ],
      "application/vnd.bokehjs_exec.v0+json": ""
     },
     "metadata": {
      "application/vnd.bokehjs_exec.v0+json": {
       "id": "1003"
      }
     },
     "output_type": "display_data"
    }
   ],
   "source": [
    "show(p)"
   ]
  },
  {
   "cell_type": "code",
   "execution_count": 16,
   "metadata": {
    "slideshow": {
     "slide_type": "slide"
    }
   },
   "outputs": [],
   "source": [
    "source = cds(fdf)\n",
    "p = figure(x_axis_type=\"datetime\", height=500, width=500)\n",
    "p.line(source=source, x='month', y=\"W\", color=\"green\", legend=\"Wins\")\n",
    "p.line(source=source, x='month', y=\"L\", color=\"red\", legend=\"Loses\")\n",
    "p.legend.click_policy=\"hide\";"
   ]
  },
  {
   "cell_type": "code",
   "execution_count": 17,
   "metadata": {
    "slideshow": {
     "slide_type": "slide"
    }
   },
   "outputs": [
    {
     "data": {
      "text/html": [
       "\n",
       "\n",
       "\n",
       "\n",
       "\n",
       "\n",
       "  <div class=\"bk-root\" id=\"25b39f29-3608-43ab-a1af-38f7d6c694f6\" data-root-id=\"1193\"></div>\n"
      ]
     },
     "metadata": {},
     "output_type": "display_data"
    },
    {
     "data": {
      "application/javascript": [
       "(function(root) {\n",
       "  function embed_document(root) {\n",
       "    \n",
       "  var docs_json = {\"c147aa3c-d12f-47e3-9d1d-bd1466efb57e\":{\"roots\":{\"references\":[{\"attributes\":{\"below\":[{\"id\":\"1202\",\"type\":\"DatetimeAxis\"}],\"center\":[{\"id\":\"1206\",\"type\":\"Grid\"},{\"id\":\"1211\",\"type\":\"Grid\"},{\"id\":\"1249\",\"type\":\"Legend\"}],\"left\":[{\"id\":\"1207\",\"type\":\"LinearAxis\"}],\"plot_height\":500,\"plot_width\":500,\"renderers\":[{\"id\":\"1228\",\"type\":\"GlyphRenderer\"},{\"id\":\"1254\",\"type\":\"GlyphRenderer\"}],\"title\":{\"id\":\"1231\",\"type\":\"Title\"},\"toolbar\":{\"id\":\"1218\",\"type\":\"Toolbar\"},\"x_range\":{\"id\":\"1194\",\"type\":\"DataRange1d\"},\"x_scale\":{\"id\":\"1198\",\"type\":\"LinearScale\"},\"y_range\":{\"id\":\"1196\",\"type\":\"DataRange1d\"},\"y_scale\":{\"id\":\"1200\",\"type\":\"LinearScale\"}},\"id\":\"1193\",\"subtype\":\"Figure\",\"type\":\"Plot\"},{\"attributes\":{},\"id\":\"1262\",\"type\":\"Selection\"},{\"attributes\":{\"months\":[0,6]},\"id\":\"1246\",\"type\":\"MonthsTicker\"},{\"attributes\":{\"source\":{\"id\":\"1192\",\"type\":\"ColumnDataSource\"}},\"id\":\"1229\",\"type\":\"CDSView\"},{\"attributes\":{},\"id\":\"1217\",\"type\":\"HelpTool\"},{\"attributes\":{\"text\":\"\"},\"id\":\"1231\",\"type\":\"Title\"},{\"attributes\":{},\"id\":\"1247\",\"type\":\"YearsTicker\"},{\"attributes\":{\"months\":[0,4,8]},\"id\":\"1245\",\"type\":\"MonthsTicker\"},{\"attributes\":{\"bottom_units\":\"screen\",\"fill_alpha\":{\"value\":0.5},\"fill_color\":{\"value\":\"lightgrey\"},\"left_units\":\"screen\",\"level\":\"overlay\",\"line_alpha\":{\"value\":1.0},\"line_color\":{\"value\":\"black\"},\"line_dash\":[4,4],\"line_width\":{\"value\":2},\"render_mode\":\"css\",\"right_units\":\"screen\",\"top_units\":\"screen\"},\"id\":\"1248\",\"type\":\"BoxAnnotation\"},{\"attributes\":{\"mantissas\":[1,2,5],\"max_interval\":500.0,\"num_minor_ticks\":0},\"id\":\"1236\",\"type\":\"AdaptiveTicker\"},{\"attributes\":{\"callback\":null},\"id\":\"1194\",\"type\":\"DataRange1d\"},{\"attributes\":{\"click_policy\":\"hide\",\"items\":[{\"id\":\"1250\",\"type\":\"LegendItem\"},{\"id\":\"1277\",\"type\":\"LegendItem\"}]},\"id\":\"1249\",\"type\":\"Legend\"},{\"attributes\":{\"callback\":null},\"id\":\"1196\",\"type\":\"DataRange1d\"},{\"attributes\":{\"months\":[0,2,4,6,8,10]},\"id\":\"1244\",\"type\":\"MonthsTicker\"},{\"attributes\":{},\"id\":\"1198\",\"type\":\"LinearScale\"},{\"attributes\":{\"label\":{\"value\":\"Wins\"},\"renderers\":[{\"id\":\"1228\",\"type\":\"GlyphRenderer\"}]},\"id\":\"1250\",\"type\":\"LegendItem\"},{\"attributes\":{},\"id\":\"1200\",\"type\":\"LinearScale\"},{\"attributes\":{},\"id\":\"1216\",\"type\":\"ResetTool\"},{\"attributes\":{\"line_color\":\"red\",\"x\":{\"field\":\"month\"},\"y\":{\"field\":\"L\"}},\"id\":\"1252\",\"type\":\"Line\"},{\"attributes\":{\"num_minor_ticks\":5,\"tickers\":[{\"id\":\"1236\",\"type\":\"AdaptiveTicker\"},{\"id\":\"1237\",\"type\":\"AdaptiveTicker\"},{\"id\":\"1238\",\"type\":\"AdaptiveTicker\"},{\"id\":\"1239\",\"type\":\"DaysTicker\"},{\"id\":\"1240\",\"type\":\"DaysTicker\"},{\"id\":\"1241\",\"type\":\"DaysTicker\"},{\"id\":\"1242\",\"type\":\"DaysTicker\"},{\"id\":\"1243\",\"type\":\"MonthsTicker\"},{\"id\":\"1244\",\"type\":\"MonthsTicker\"},{\"id\":\"1245\",\"type\":\"MonthsTicker\"},{\"id\":\"1246\",\"type\":\"MonthsTicker\"},{\"id\":\"1247\",\"type\":\"YearsTicker\"}]},\"id\":\"1203\",\"type\":\"DatetimeTicker\"},{\"attributes\":{\"formatter\":{\"id\":\"1235\",\"type\":\"DatetimeTickFormatter\"},\"ticker\":{\"id\":\"1203\",\"type\":\"DatetimeTicker\"}},\"id\":\"1202\",\"type\":\"DatetimeAxis\"},{\"attributes\":{\"line_alpha\":0.1,\"line_color\":\"#1f77b4\",\"x\":{\"field\":\"month\"},\"y\":{\"field\":\"L\"}},\"id\":\"1253\",\"type\":\"Line\"},{\"attributes\":{\"ticker\":{\"id\":\"1203\",\"type\":\"DatetimeTicker\"}},\"id\":\"1206\",\"type\":\"Grid\"},{\"attributes\":{\"formatter\":{\"id\":\"1233\",\"type\":\"BasicTickFormatter\"},\"ticker\":{\"id\":\"1208\",\"type\":\"BasicTicker\"}},\"id\":\"1207\",\"type\":\"LinearAxis\"},{\"attributes\":{\"data_source\":{\"id\":\"1192\",\"type\":\"ColumnDataSource\"},\"glyph\":{\"id\":\"1252\",\"type\":\"Line\"},\"hover_glyph\":null,\"muted_glyph\":null,\"nonselection_glyph\":{\"id\":\"1253\",\"type\":\"Line\"},\"selection_glyph\":null,\"view\":{\"id\":\"1255\",\"type\":\"CDSView\"}},\"id\":\"1254\",\"type\":\"GlyphRenderer\"},{\"attributes\":{\"days\":[1,2,3,4,5,6,7,8,9,10,11,12,13,14,15,16,17,18,19,20,21,22,23,24,25,26,27,28,29,30,31]},\"id\":\"1239\",\"type\":\"DaysTicker\"},{\"attributes\":{\"active_drag\":\"auto\",\"active_inspect\":\"auto\",\"active_multi\":null,\"active_scroll\":\"auto\",\"active_tap\":\"auto\",\"tools\":[{\"id\":\"1212\",\"type\":\"PanTool\"},{\"id\":\"1213\",\"type\":\"WheelZoomTool\"},{\"id\":\"1214\",\"type\":\"BoxZoomTool\"},{\"id\":\"1215\",\"type\":\"SaveTool\"},{\"id\":\"1216\",\"type\":\"ResetTool\"},{\"id\":\"1217\",\"type\":\"HelpTool\"}]},\"id\":\"1218\",\"type\":\"Toolbar\"},{\"attributes\":{\"source\":{\"id\":\"1192\",\"type\":\"ColumnDataSource\"}},\"id\":\"1255\",\"type\":\"CDSView\"},{\"attributes\":{\"days\":[1,4,7,10,13,16,19,22,25,28]},\"id\":\"1240\",\"type\":\"DaysTicker\"},{\"attributes\":{\"callback\":null,\"data\":{\"L\":{\"__ndarray__\":\"AAAAAAAAAAAAAAAAAAAAQAAAAAAAABxAAAAAAAAAKEAAAAAAAAAxQAAAAAAAADRAAAAAAAAANEAAAAAAAAD4fwAAAAAAAPh/AAAAAAAA+H8AAAAAAAD4fwAAAAAAAPA/AAAAAAAAHEAAAAAAAAAmQAAAAAAAADFAAAAAAAAANUAAAAAAAAA3QAAAAAAAADtAAAAAAAAAO0AAAAAAAAD4fwAAAAAAAPh/AAAAAAAA+H8AAAAAAAD4fwAAAAAAAPh/AAAAAAAAFEAAAAAAAAAgQAAAAAAAAC5AAAAAAAAANkAAAAAAAAA8QAAAAAAAAEBAAAAAAACAQEAAAAAAAAD4fwAAAAAAAPh/AAAAAAAA+H8AAAAAAAD4fwAAAAAAAPh/AAAAAAAAGEAAAAAAAAAmQAAAAAAAADFAAAAAAAAAN0AAAAAAAAA5QAAAAAAAAD9AAAAAAAAAQEAAAAAAAAD4fwAAAAAAAPh/AAAAAAAA+H8AAAAAAAD4fwAAAAAAAPh/AAAAAAAAHEAAAAAAAAAmQAAAAAAAADFAAAAAAAAANEAAAAAAAAA5QAAAAAAAADxAAAAAAAAAPkAAAAAAAAD4fwAAAAAAAPh/AAAAAAAA+H8AAAAAAAD4fwAAAAAAAPh/AAAAAAAAFEAAAAAAAAAqQAAAAAAAADVAAAAAAAAAN0AAAAAAAAA7QAAAAAAAAEFAAAAAAAAAQkA=\",\"dtype\":\"float64\",\"shape\":[67]},\"W\":{\"__ndarray__\":\"AAAAAAAAIkAAAAAAAAAzQAAAAAAAADxAAAAAAAAAQEAAAAAAAIBCQAAAAAAAgEdAAAAAAAAASEAAAAAAAAD4fwAAAAAAAPh/AAAAAAAA+H8AAAAAAAD4fwAAAAAAAPA/AAAAAAAAEEAAAAAAAAAoQAAAAAAAADNAAAAAAAAAO0AAAAAAAIBCQAAAAAAAgEZAAAAAAACAR0AAAAAAAAD4fwAAAAAAAPh/AAAAAAAA+H8AAAAAAAD4fwAAAAAAAPh/AAAAAAAAGEAAAAAAAAAsQAAAAAAAADNAAAAAAAAAOUAAAAAAAAA/QAAAAAAAgENAAAAAAAAARUAAAAAAAAD4fwAAAAAAAPh/AAAAAAAA+H8AAAAAAAD4fwAAAAAAAPh/AAAAAAAAEEAAAAAAAAAkQAAAAAAAADBAAAAAAAAAOUAAAAAAAAA+QAAAAAAAgEJAAAAAAACAQ0AAAAAAAAD4fwAAAAAAAPh/AAAAAAAA+H8AAAAAAAD4fwAAAAAAAPh/AAAAAAAAEEAAAAAAAAAoQAAAAAAAADRAAAAAAAAAPEAAAAAAAIBAQAAAAAAAAEZAAAAAAACAR0AAAAAAAAD4fwAAAAAAAPh/AAAAAAAA+H8AAAAAAAD4fwAAAAAAAPh/AAAAAAAAFEAAAAAAAAAcQAAAAAAAACRAAAAAAAAAM0AAAAAAAAA7QAAAAAAAgEBAAAAAAAAAQUA=\",\"dtype\":\"float64\",\"shape\":[67]},\"index\":[0,1,2,3,4,5,6,7,8,9,10,11,12,13,14,15,16,17,18,19,20,21,22,23,24,25,26,27,28,29,30,31,32,33,34,35,36,37,38,39,40,41,42,43,44,45,46,47,48,49,50,51,52,53,54,55,56,57,58,59,60,61,62,63,64,65,66],\"month\":{\"__ndarray__\":\"AACAuBLgcEIAAMAKDepwQgAAQPe083BCAACASa/9cEIAAMCbqQdxQgAAwLysEHFCAAAAD6cacUIAAID7TiRxQgAAwE1JLnFCAABAOvE3cUIAAICM60FxQgAAwN7lS3FCAABAy41VcUIAAIAdiF9xQgAAAAowaXFCAABAXCpzcUIAAICuJH1xQgAAQDV6hnFCAACAh3SQcUIAAAB0HJpxQgAAQMYWpHFCAADAsr6tcUIAAAAFubdxQgAAQFezwXFCAADAQ1vLcUIAAACWVdVxQgAAgIL93nFCAADA1PfocUIAAAAn8vJxQgAAAEj1+3FCAABAmu8FckIAAMCGlw9yQgAAANmRGXJCAACAxTkjckIAAMAXNC1yQgAAAGouN3JCAACAVtZAckIAAMCo0EpyQgAAQJV4VHJCAACA53JeckIAAMA5bWhyQgAAwFpwcXJCAAAArWp7ckIAAICZEoVyQgAAwOsMj3JCAABA2LSYckIAAIAqr6JyQgAAwHyprHJCAABAaVG2ckIAAIC7S8ByQgAAAKjzyXJCAABA+u3TckIAAIBM6N1yQgAAgG3r5nJCAADAv+XwckIAAECsjfpyQgAAgP6HBHNCAAAA6y8Oc0IAAEA9KhhzQgAAgI8kInNCAAAAfMwrc0IAAEDOxjVzQgAAwLpuP3NCAAAADWlJc0IAAEBfY1NzQgAAAOa4XHNCAABAOLNmc0I=\",\"dtype\":\"float64\",\"shape\":[67]}},\"selected\":{\"id\":\"1262\",\"type\":\"Selection\"},\"selection_policy\":{\"id\":\"1263\",\"type\":\"UnionRenderers\"}},\"id\":\"1192\",\"type\":\"ColumnDataSource\"},{\"attributes\":{\"data_source\":{\"id\":\"1192\",\"type\":\"ColumnDataSource\"},\"glyph\":{\"id\":\"1226\",\"type\":\"Line\"},\"hover_glyph\":null,\"muted_glyph\":null,\"nonselection_glyph\":{\"id\":\"1227\",\"type\":\"Line\"},\"selection_glyph\":null,\"view\":{\"id\":\"1229\",\"type\":\"CDSView\"}},\"id\":\"1228\",\"type\":\"GlyphRenderer\"},{\"attributes\":{},\"id\":\"1263\",\"type\":\"UnionRenderers\"},{\"attributes\":{\"label\":{\"value\":\"Loses\"},\"renderers\":[{\"id\":\"1254\",\"type\":\"GlyphRenderer\"}]},\"id\":\"1277\",\"type\":\"LegendItem\"},{\"attributes\":{},\"id\":\"1235\",\"type\":\"DatetimeTickFormatter\"},{\"attributes\":{},\"id\":\"1213\",\"type\":\"WheelZoomTool\"},{\"attributes\":{\"base\":24,\"mantissas\":[1,2,4,6,8,12],\"max_interval\":43200000.0,\"min_interval\":3600000.0,\"num_minor_ticks\":0},\"id\":\"1238\",\"type\":\"AdaptiveTicker\"},{\"attributes\":{\"line_color\":\"green\",\"x\":{\"field\":\"month\"},\"y\":{\"field\":\"W\"}},\"id\":\"1226\",\"type\":\"Line\"},{\"attributes\":{},\"id\":\"1215\",\"type\":\"SaveTool\"},{\"attributes\":{},\"id\":\"1233\",\"type\":\"BasicTickFormatter\"},{\"attributes\":{\"base\":60,\"mantissas\":[1,2,5,10,15,20,30],\"max_interval\":1800000.0,\"min_interval\":1000.0,\"num_minor_ticks\":0},\"id\":\"1237\",\"type\":\"AdaptiveTicker\"},{\"attributes\":{\"dimension\":1,\"ticker\":{\"id\":\"1208\",\"type\":\"BasicTicker\"}},\"id\":\"1211\",\"type\":\"Grid\"},{\"attributes\":{\"days\":[1,8,15,22]},\"id\":\"1241\",\"type\":\"DaysTicker\"},{\"attributes\":{\"months\":[0,1,2,3,4,5,6,7,8,9,10,11]},\"id\":\"1243\",\"type\":\"MonthsTicker\"},{\"attributes\":{},\"id\":\"1208\",\"type\":\"BasicTicker\"},{\"attributes\":{\"line_alpha\":0.1,\"line_color\":\"#1f77b4\",\"x\":{\"field\":\"month\"},\"y\":{\"field\":\"W\"}},\"id\":\"1227\",\"type\":\"Line\"},{\"attributes\":{},\"id\":\"1212\",\"type\":\"PanTool\"},{\"attributes\":{\"days\":[1,15]},\"id\":\"1242\",\"type\":\"DaysTicker\"},{\"attributes\":{\"overlay\":{\"id\":\"1248\",\"type\":\"BoxAnnotation\"}},\"id\":\"1214\",\"type\":\"BoxZoomTool\"}],\"root_ids\":[\"1193\"]},\"title\":\"Bokeh Application\",\"version\":\"1.2.0\"}};\n",
       "  var render_items = [{\"docid\":\"c147aa3c-d12f-47e3-9d1d-bd1466efb57e\",\"roots\":{\"1193\":\"25b39f29-3608-43ab-a1af-38f7d6c694f6\"}}];\n",
       "  root.Bokeh.embed.embed_items_notebook(docs_json, render_items);\n",
       "\n",
       "  }\n",
       "  if (root.Bokeh !== undefined) {\n",
       "    embed_document(root);\n",
       "  } else {\n",
       "    var attempts = 0;\n",
       "    var timer = setInterval(function(root) {\n",
       "      if (root.Bokeh !== undefined) {\n",
       "        embed_document(root);\n",
       "        clearInterval(timer);\n",
       "      }\n",
       "      attempts++;\n",
       "      if (attempts > 100) {\n",
       "        console.log(\"Bokeh: ERROR: Unable to run BokehJS code because BokehJS library is missing\");\n",
       "        clearInterval(timer);\n",
       "      }\n",
       "    }, 10, root)\n",
       "  }\n",
       "})(window);"
      ],
      "application/vnd.bokehjs_exec.v0+json": ""
     },
     "metadata": {
      "application/vnd.bokehjs_exec.v0+json": {
       "id": "1193"
      }
     },
     "output_type": "display_data"
    }
   ],
   "source": [
    "show(p)"
   ]
  },
  {
   "cell_type": "code",
   "execution_count": 18,
   "metadata": {
    "slideshow": {
     "slide_type": "slide"
    }
   },
   "outputs": [],
   "source": [
    "source = cds(fdf)\n",
    "p = figure(x_axis_type=\"datetime\", height=500, width=500)\n",
    "p.line(source=source, x='month', y=\"W\", color=\"green\", legend=\"Wins\")\n",
    "p.line(source=source, x='month', y=\"L\", color=\"red\", legend=\"Loses\")\n",
    "p.legend.click_policy=\"hide\"\n",
    "p.title.text = \"Anaheim Ducks Performance by Season\"\n",
    "p.title.text_font_size = \"25px\"\n",
    "p.title.align = \"center\";"
   ]
  },
  {
   "cell_type": "code",
   "execution_count": 19,
   "metadata": {
    "slideshow": {
     "slide_type": "slide"
    }
   },
   "outputs": [
    {
     "data": {
      "text/html": [
       "\n",
       "\n",
       "\n",
       "\n",
       "\n",
       "\n",
       "  <div class=\"bk-root\" id=\"3e694a6c-c334-4200-a43c-0763a3c2dfa1\" data-root-id=\"1447\"></div>\n"
      ]
     },
     "metadata": {},
     "output_type": "display_data"
    },
    {
     "data": {
      "application/javascript": [
       "(function(root) {\n",
       "  function embed_document(root) {\n",
       "    \n",
       "  var docs_json = {\"c381f462-46a1-40a3-b810-cd8ae429a50c\":{\"roots\":{\"references\":[{\"attributes\":{\"below\":[{\"id\":\"1456\",\"type\":\"DatetimeAxis\"}],\"center\":[{\"id\":\"1460\",\"type\":\"Grid\"},{\"id\":\"1465\",\"type\":\"Grid\"},{\"id\":\"1503\",\"type\":\"Legend\"}],\"left\":[{\"id\":\"1461\",\"type\":\"LinearAxis\"}],\"plot_height\":500,\"plot_width\":500,\"renderers\":[{\"id\":\"1482\",\"type\":\"GlyphRenderer\"},{\"id\":\"1508\",\"type\":\"GlyphRenderer\"}],\"title\":{\"id\":\"1485\",\"type\":\"Title\"},\"toolbar\":{\"id\":\"1472\",\"type\":\"Toolbar\"},\"x_range\":{\"id\":\"1448\",\"type\":\"DataRange1d\"},\"x_scale\":{\"id\":\"1452\",\"type\":\"LinearScale\"},\"y_range\":{\"id\":\"1450\",\"type\":\"DataRange1d\"},\"y_scale\":{\"id\":\"1454\",\"type\":\"LinearScale\"}},\"id\":\"1447\",\"subtype\":\"Figure\",\"type\":\"Plot\"},{\"attributes\":{\"days\":[1,15]},\"id\":\"1496\",\"type\":\"DaysTicker\"},{\"attributes\":{\"ticker\":{\"id\":\"1457\",\"type\":\"DatetimeTicker\"}},\"id\":\"1460\",\"type\":\"Grid\"},{\"attributes\":{\"months\":[0,1,2,3,4,5,6,7,8,9,10,11]},\"id\":\"1497\",\"type\":\"MonthsTicker\"},{\"attributes\":{\"formatter\":{\"id\":\"1487\",\"type\":\"BasicTickFormatter\"},\"ticker\":{\"id\":\"1462\",\"type\":\"BasicTicker\"}},\"id\":\"1461\",\"type\":\"LinearAxis\"},{\"attributes\":{\"months\":[0,2,4,6,8,10]},\"id\":\"1498\",\"type\":\"MonthsTicker\"},{\"attributes\":{},\"id\":\"1462\",\"type\":\"BasicTicker\"},{\"attributes\":{\"source\":{\"id\":\"1446\",\"type\":\"ColumnDataSource\"}},\"id\":\"1483\",\"type\":\"CDSView\"},{\"attributes\":{\"months\":[0,4,8]},\"id\":\"1499\",\"type\":\"MonthsTicker\"},{\"attributes\":{\"dimension\":1,\"ticker\":{\"id\":\"1462\",\"type\":\"BasicTicker\"}},\"id\":\"1465\",\"type\":\"Grid\"},{\"attributes\":{},\"id\":\"1452\",\"type\":\"LinearScale\"},{\"attributes\":{\"months\":[0,6]},\"id\":\"1500\",\"type\":\"MonthsTicker\"},{\"attributes\":{\"callback\":null},\"id\":\"1448\",\"type\":\"DataRange1d\"},{\"attributes\":{},\"id\":\"1487\",\"type\":\"BasicTickFormatter\"},{\"attributes\":{\"line_alpha\":0.1,\"line_color\":\"#1f77b4\",\"x\":{\"field\":\"month\"},\"y\":{\"field\":\"W\"}},\"id\":\"1481\",\"type\":\"Line\"},{\"attributes\":{},\"id\":\"1501\",\"type\":\"YearsTicker\"},{\"attributes\":{\"mantissas\":[1,2,5],\"max_interval\":500.0,\"num_minor_ticks\":0},\"id\":\"1490\",\"type\":\"AdaptiveTicker\"},{\"attributes\":{\"line_color\":\"green\",\"x\":{\"field\":\"month\"},\"y\":{\"field\":\"W\"}},\"id\":\"1480\",\"type\":\"Line\"},{\"attributes\":{\"formatter\":{\"id\":\"1489\",\"type\":\"DatetimeTickFormatter\"},\"ticker\":{\"id\":\"1457\",\"type\":\"DatetimeTicker\"}},\"id\":\"1456\",\"type\":\"DatetimeAxis\"},{\"attributes\":{\"bottom_units\":\"screen\",\"fill_alpha\":{\"value\":0.5},\"fill_color\":{\"value\":\"lightgrey\"},\"left_units\":\"screen\",\"level\":\"overlay\",\"line_alpha\":{\"value\":1.0},\"line_color\":{\"value\":\"black\"},\"line_dash\":[4,4],\"line_width\":{\"value\":2},\"render_mode\":\"css\",\"right_units\":\"screen\",\"top_units\":\"screen\"},\"id\":\"1502\",\"type\":\"BoxAnnotation\"},{\"attributes\":{},\"id\":\"1466\",\"type\":\"PanTool\"},{\"attributes\":{\"click_policy\":\"hide\",\"items\":[{\"id\":\"1504\",\"type\":\"LegendItem\"},{\"id\":\"1531\",\"type\":\"LegendItem\"}]},\"id\":\"1503\",\"type\":\"Legend\"},{\"attributes\":{},\"id\":\"1467\",\"type\":\"WheelZoomTool\"},{\"attributes\":{\"label\":{\"value\":\"Wins\"},\"renderers\":[{\"id\":\"1482\",\"type\":\"GlyphRenderer\"}]},\"id\":\"1504\",\"type\":\"LegendItem\"},{\"attributes\":{\"overlay\":{\"id\":\"1502\",\"type\":\"BoxAnnotation\"}},\"id\":\"1468\",\"type\":\"BoxZoomTool\"},{\"attributes\":{\"line_color\":\"red\",\"x\":{\"field\":\"month\"},\"y\":{\"field\":\"L\"}},\"id\":\"1506\",\"type\":\"Line\"},{\"attributes\":{\"base\":24,\"mantissas\":[1,2,4,6,8,12],\"max_interval\":43200000.0,\"min_interval\":3600000.0,\"num_minor_ticks\":0},\"id\":\"1492\",\"type\":\"AdaptiveTicker\"},{\"attributes\":{},\"id\":\"1469\",\"type\":\"SaveTool\"},{\"attributes\":{},\"id\":\"1470\",\"type\":\"ResetTool\"},{\"attributes\":{},\"id\":\"1454\",\"type\":\"LinearScale\"},{\"attributes\":{\"base\":60,\"mantissas\":[1,2,5,10,15,20,30],\"max_interval\":1800000.0,\"min_interval\":1000.0,\"num_minor_ticks\":0},\"id\":\"1491\",\"type\":\"AdaptiveTicker\"},{\"attributes\":{},\"id\":\"1471\",\"type\":\"HelpTool\"},{\"attributes\":{\"line_alpha\":0.1,\"line_color\":\"#1f77b4\",\"x\":{\"field\":\"month\"},\"y\":{\"field\":\"L\"}},\"id\":\"1507\",\"type\":\"Line\"},{\"attributes\":{\"days\":[1,4,7,10,13,16,19,22,25,28]},\"id\":\"1494\",\"type\":\"DaysTicker\"},{\"attributes\":{\"active_drag\":\"auto\",\"active_inspect\":\"auto\",\"active_multi\":null,\"active_scroll\":\"auto\",\"active_tap\":\"auto\",\"tools\":[{\"id\":\"1466\",\"type\":\"PanTool\"},{\"id\":\"1467\",\"type\":\"WheelZoomTool\"},{\"id\":\"1468\",\"type\":\"BoxZoomTool\"},{\"id\":\"1469\",\"type\":\"SaveTool\"},{\"id\":\"1470\",\"type\":\"ResetTool\"},{\"id\":\"1471\",\"type\":\"HelpTool\"}]},\"id\":\"1472\",\"type\":\"Toolbar\"},{\"attributes\":{\"num_minor_ticks\":5,\"tickers\":[{\"id\":\"1490\",\"type\":\"AdaptiveTicker\"},{\"id\":\"1491\",\"type\":\"AdaptiveTicker\"},{\"id\":\"1492\",\"type\":\"AdaptiveTicker\"},{\"id\":\"1493\",\"type\":\"DaysTicker\"},{\"id\":\"1494\",\"type\":\"DaysTicker\"},{\"id\":\"1495\",\"type\":\"DaysTicker\"},{\"id\":\"1496\",\"type\":\"DaysTicker\"},{\"id\":\"1497\",\"type\":\"MonthsTicker\"},{\"id\":\"1498\",\"type\":\"MonthsTicker\"},{\"id\":\"1499\",\"type\":\"MonthsTicker\"},{\"id\":\"1500\",\"type\":\"MonthsTicker\"},{\"id\":\"1501\",\"type\":\"YearsTicker\"}]},\"id\":\"1457\",\"type\":\"DatetimeTicker\"},{\"attributes\":{\"data_source\":{\"id\":\"1446\",\"type\":\"ColumnDataSource\"},\"glyph\":{\"id\":\"1506\",\"type\":\"Line\"},\"hover_glyph\":null,\"muted_glyph\":null,\"nonselection_glyph\":{\"id\":\"1507\",\"type\":\"Line\"},\"selection_glyph\":null,\"view\":{\"id\":\"1509\",\"type\":\"CDSView\"}},\"id\":\"1508\",\"type\":\"GlyphRenderer\"},{\"attributes\":{\"data_source\":{\"id\":\"1446\",\"type\":\"ColumnDataSource\"},\"glyph\":{\"id\":\"1480\",\"type\":\"Line\"},\"hover_glyph\":null,\"muted_glyph\":null,\"nonselection_glyph\":{\"id\":\"1481\",\"type\":\"Line\"},\"selection_glyph\":null,\"view\":{\"id\":\"1483\",\"type\":\"CDSView\"}},\"id\":\"1482\",\"type\":\"GlyphRenderer\"},{\"attributes\":{\"source\":{\"id\":\"1446\",\"type\":\"ColumnDataSource\"}},\"id\":\"1509\",\"type\":\"CDSView\"},{\"attributes\":{\"days\":[1,2,3,4,5,6,7,8,9,10,11,12,13,14,15,16,17,18,19,20,21,22,23,24,25,26,27,28,29,30,31]},\"id\":\"1493\",\"type\":\"DaysTicker\"},{\"attributes\":{\"align\":\"center\",\"text\":\"Anaheim Ducks Performance by Season\",\"text_font_size\":{\"value\":\"25px\"}},\"id\":\"1485\",\"type\":\"Title\"},{\"attributes\":{},\"id\":\"1516\",\"type\":\"Selection\"},{\"attributes\":{\"callback\":null},\"id\":\"1450\",\"type\":\"DataRange1d\"},{\"attributes\":{\"callback\":null,\"data\":{\"L\":{\"__ndarray__\":\"AAAAAAAAAAAAAAAAAAAAQAAAAAAAABxAAAAAAAAAKEAAAAAAAAAxQAAAAAAAADRAAAAAAAAANEAAAAAAAAD4fwAAAAAAAPh/AAAAAAAA+H8AAAAAAAD4fwAAAAAAAPA/AAAAAAAAHEAAAAAAAAAmQAAAAAAAADFAAAAAAAAANUAAAAAAAAA3QAAAAAAAADtAAAAAAAAAO0AAAAAAAAD4fwAAAAAAAPh/AAAAAAAA+H8AAAAAAAD4fwAAAAAAAPh/AAAAAAAAFEAAAAAAAAAgQAAAAAAAAC5AAAAAAAAANkAAAAAAAAA8QAAAAAAAAEBAAAAAAACAQEAAAAAAAAD4fwAAAAAAAPh/AAAAAAAA+H8AAAAAAAD4fwAAAAAAAPh/AAAAAAAAGEAAAAAAAAAmQAAAAAAAADFAAAAAAAAAN0AAAAAAAAA5QAAAAAAAAD9AAAAAAAAAQEAAAAAAAAD4fwAAAAAAAPh/AAAAAAAA+H8AAAAAAAD4fwAAAAAAAPh/AAAAAAAAHEAAAAAAAAAmQAAAAAAAADFAAAAAAAAANEAAAAAAAAA5QAAAAAAAADxAAAAAAAAAPkAAAAAAAAD4fwAAAAAAAPh/AAAAAAAA+H8AAAAAAAD4fwAAAAAAAPh/AAAAAAAAFEAAAAAAAAAqQAAAAAAAADVAAAAAAAAAN0AAAAAAAAA7QAAAAAAAAEFAAAAAAAAAQkA=\",\"dtype\":\"float64\",\"shape\":[67]},\"W\":{\"__ndarray__\":\"AAAAAAAAIkAAAAAAAAAzQAAAAAAAADxAAAAAAAAAQEAAAAAAAIBCQAAAAAAAgEdAAAAAAAAASEAAAAAAAAD4fwAAAAAAAPh/AAAAAAAA+H8AAAAAAAD4fwAAAAAAAPA/AAAAAAAAEEAAAAAAAAAoQAAAAAAAADNAAAAAAAAAO0AAAAAAAIBCQAAAAAAAgEZAAAAAAACAR0AAAAAAAAD4fwAAAAAAAPh/AAAAAAAA+H8AAAAAAAD4fwAAAAAAAPh/AAAAAAAAGEAAAAAAAAAsQAAAAAAAADNAAAAAAAAAOUAAAAAAAAA/QAAAAAAAgENAAAAAAAAARUAAAAAAAAD4fwAAAAAAAPh/AAAAAAAA+H8AAAAAAAD4fwAAAAAAAPh/AAAAAAAAEEAAAAAAAAAkQAAAAAAAADBAAAAAAAAAOUAAAAAAAAA+QAAAAAAAgEJAAAAAAACAQ0AAAAAAAAD4fwAAAAAAAPh/AAAAAAAA+H8AAAAAAAD4fwAAAAAAAPh/AAAAAAAAEEAAAAAAAAAoQAAAAAAAADRAAAAAAAAAPEAAAAAAAIBAQAAAAAAAAEZAAAAAAACAR0AAAAAAAAD4fwAAAAAAAPh/AAAAAAAA+H8AAAAAAAD4fwAAAAAAAPh/AAAAAAAAFEAAAAAAAAAcQAAAAAAAACRAAAAAAAAAM0AAAAAAAAA7QAAAAAAAgEBAAAAAAAAAQUA=\",\"dtype\":\"float64\",\"shape\":[67]},\"index\":[0,1,2,3,4,5,6,7,8,9,10,11,12,13,14,15,16,17,18,19,20,21,22,23,24,25,26,27,28,29,30,31,32,33,34,35,36,37,38,39,40,41,42,43,44,45,46,47,48,49,50,51,52,53,54,55,56,57,58,59,60,61,62,63,64,65,66],\"month\":{\"__ndarray__\":\"AACAuBLgcEIAAMAKDepwQgAAQPe083BCAACASa/9cEIAAMCbqQdxQgAAwLysEHFCAAAAD6cacUIAAID7TiRxQgAAwE1JLnFCAABAOvE3cUIAAICM60FxQgAAwN7lS3FCAABAy41VcUIAAIAdiF9xQgAAAAowaXFCAABAXCpzcUIAAICuJH1xQgAAQDV6hnFCAACAh3SQcUIAAAB0HJpxQgAAQMYWpHFCAADAsr6tcUIAAAAFubdxQgAAQFezwXFCAADAQ1vLcUIAAACWVdVxQgAAgIL93nFCAADA1PfocUIAAAAn8vJxQgAAAEj1+3FCAABAmu8FckIAAMCGlw9yQgAAANmRGXJCAACAxTkjckIAAMAXNC1yQgAAAGouN3JCAACAVtZAckIAAMCo0EpyQgAAQJV4VHJCAACA53JeckIAAMA5bWhyQgAAwFpwcXJCAAAArWp7ckIAAICZEoVyQgAAwOsMj3JCAABA2LSYckIAAIAqr6JyQgAAwHyprHJCAABAaVG2ckIAAIC7S8ByQgAAAKjzyXJCAABA+u3TckIAAIBM6N1yQgAAgG3r5nJCAADAv+XwckIAAECsjfpyQgAAgP6HBHNCAAAA6y8Oc0IAAEA9KhhzQgAAgI8kInNCAAAAfMwrc0IAAEDOxjVzQgAAwLpuP3NCAAAADWlJc0IAAEBfY1NzQgAAAOa4XHNCAABAOLNmc0I=\",\"dtype\":\"float64\",\"shape\":[67]}},\"selected\":{\"id\":\"1516\",\"type\":\"Selection\"},\"selection_policy\":{\"id\":\"1517\",\"type\":\"UnionRenderers\"}},\"id\":\"1446\",\"type\":\"ColumnDataSource\"},{\"attributes\":{},\"id\":\"1517\",\"type\":\"UnionRenderers\"},{\"attributes\":{},\"id\":\"1489\",\"type\":\"DatetimeTickFormatter\"},{\"attributes\":{\"label\":{\"value\":\"Loses\"},\"renderers\":[{\"id\":\"1508\",\"type\":\"GlyphRenderer\"}]},\"id\":\"1531\",\"type\":\"LegendItem\"},{\"attributes\":{\"days\":[1,8,15,22]},\"id\":\"1495\",\"type\":\"DaysTicker\"}],\"root_ids\":[\"1447\"]},\"title\":\"Bokeh Application\",\"version\":\"1.2.0\"}};\n",
       "  var render_items = [{\"docid\":\"c381f462-46a1-40a3-b810-cd8ae429a50c\",\"roots\":{\"1447\":\"3e694a6c-c334-4200-a43c-0763a3c2dfa1\"}}];\n",
       "  root.Bokeh.embed.embed_items_notebook(docs_json, render_items);\n",
       "\n",
       "  }\n",
       "  if (root.Bokeh !== undefined) {\n",
       "    embed_document(root);\n",
       "  } else {\n",
       "    var attempts = 0;\n",
       "    var timer = setInterval(function(root) {\n",
       "      if (root.Bokeh !== undefined) {\n",
       "        embed_document(root);\n",
       "        clearInterval(timer);\n",
       "      }\n",
       "      attempts++;\n",
       "      if (attempts > 100) {\n",
       "        console.log(\"Bokeh: ERROR: Unable to run BokehJS code because BokehJS library is missing\");\n",
       "        clearInterval(timer);\n",
       "      }\n",
       "    }, 10, root)\n",
       "  }\n",
       "})(window);"
      ],
      "application/vnd.bokehjs_exec.v0+json": ""
     },
     "metadata": {
      "application/vnd.bokehjs_exec.v0+json": {
       "id": "1447"
      }
     },
     "output_type": "display_data"
    }
   ],
   "source": [
    "show(p)"
   ]
  },
  {
   "cell_type": "code",
   "execution_count": 20,
   "metadata": {
    "slideshow": {
     "slide_type": "slide"
    }
   },
   "outputs": [
    {
     "data": {
      "text/html": [
       "<div>\n",
       "<style scoped>\n",
       "    .dataframe tbody tr th:only-of-type {\n",
       "        vertical-align: middle;\n",
       "    }\n",
       "\n",
       "    .dataframe tbody tr th {\n",
       "        vertical-align: top;\n",
       "    }\n",
       "\n",
       "    .dataframe thead th {\n",
       "        text-align: right;\n",
       "    }\n",
       "</style>\n",
       "<table border=\"1\" class=\"dataframe\">\n",
       "  <thead>\n",
       "    <tr style=\"text-align: right;\">\n",
       "      <th></th>\n",
       "      <th>firstName</th>\n",
       "      <th>lastName</th>\n",
       "      <th>pos</th>\n",
       "      <th>year</th>\n",
       "      <th>tmID</th>\n",
       "      <th>GP</th>\n",
       "      <th>G</th>\n",
       "      <th>A</th>\n",
       "      <th>Pts</th>\n",
       "      <th>SOG</th>\n",
       "    </tr>\n",
       "    <tr>\n",
       "      <th>playerID</th>\n",
       "      <th></th>\n",
       "      <th></th>\n",
       "      <th></th>\n",
       "      <th></th>\n",
       "      <th></th>\n",
       "      <th></th>\n",
       "      <th></th>\n",
       "      <th></th>\n",
       "      <th></th>\n",
       "      <th></th>\n",
       "    </tr>\n",
       "  </thead>\n",
       "  <tbody>\n",
       "    <tr>\n",
       "      <th>gretzwa01</th>\n",
       "      <td>Wayne</td>\n",
       "      <td>Gretzky</td>\n",
       "      <td>C</td>\n",
       "      <td>1980</td>\n",
       "      <td>EDM</td>\n",
       "      <td>80.0</td>\n",
       "      <td>55.0</td>\n",
       "      <td>109.0</td>\n",
       "      <td>164.0</td>\n",
       "      <td>261.0</td>\n",
       "    </tr>\n",
       "    <tr>\n",
       "      <th>gretzwa01</th>\n",
       "      <td>Wayne</td>\n",
       "      <td>Gretzky</td>\n",
       "      <td>C</td>\n",
       "      <td>1981</td>\n",
       "      <td>EDM</td>\n",
       "      <td>80.0</td>\n",
       "      <td>92.0</td>\n",
       "      <td>120.0</td>\n",
       "      <td>212.0</td>\n",
       "      <td>369.0</td>\n",
       "    </tr>\n",
       "    <tr>\n",
       "      <th>gretzwa01</th>\n",
       "      <td>Wayne</td>\n",
       "      <td>Gretzky</td>\n",
       "      <td>C</td>\n",
       "      <td>1982</td>\n",
       "      <td>EDM</td>\n",
       "      <td>80.0</td>\n",
       "      <td>71.0</td>\n",
       "      <td>125.0</td>\n",
       "      <td>196.0</td>\n",
       "      <td>348.0</td>\n",
       "    </tr>\n",
       "    <tr>\n",
       "      <th>gretzwa01</th>\n",
       "      <td>Wayne</td>\n",
       "      <td>Gretzky</td>\n",
       "      <td>C</td>\n",
       "      <td>1983</td>\n",
       "      <td>EDM</td>\n",
       "      <td>74.0</td>\n",
       "      <td>87.0</td>\n",
       "      <td>118.0</td>\n",
       "      <td>205.0</td>\n",
       "      <td>324.0</td>\n",
       "    </tr>\n",
       "    <tr>\n",
       "      <th>gretzwa01</th>\n",
       "      <td>Wayne</td>\n",
       "      <td>Gretzky</td>\n",
       "      <td>C</td>\n",
       "      <td>1984</td>\n",
       "      <td>EDM</td>\n",
       "      <td>80.0</td>\n",
       "      <td>73.0</td>\n",
       "      <td>135.0</td>\n",
       "      <td>208.0</td>\n",
       "      <td>358.0</td>\n",
       "    </tr>\n",
       "  </tbody>\n",
       "</table>\n",
       "</div>"
      ],
      "text/plain": [
       "          firstName lastName pos  year tmID    GP     G      A    Pts    SOG\n",
       "playerID                                                                    \n",
       "gretzwa01     Wayne  Gretzky   C  1980  EDM  80.0  55.0  109.0  164.0  261.0\n",
       "gretzwa01     Wayne  Gretzky   C  1981  EDM  80.0  92.0  120.0  212.0  369.0\n",
       "gretzwa01     Wayne  Gretzky   C  1982  EDM  80.0  71.0  125.0  196.0  348.0\n",
       "gretzwa01     Wayne  Gretzky   C  1983  EDM  74.0  87.0  118.0  205.0  324.0\n",
       "gretzwa01     Wayne  Gretzky   C  1984  EDM  80.0  73.0  135.0  208.0  358.0"
      ]
     },
     "execution_count": 20,
     "metadata": {},
     "output_type": "execute_result"
    }
   ],
   "source": [
    "wayne = scoring.set_index(\"playerID\").loc['gretzwa01']\n",
    "wayne.head()"
   ]
  },
  {
   "cell_type": "code",
   "execution_count": 21,
   "metadata": {
    "slideshow": {
     "slide_type": "slide"
    }
   },
   "outputs": [
    {
     "data": {
      "text/html": [
       "<div>\n",
       "<style scoped>\n",
       "    .dataframe tbody tr th:only-of-type {\n",
       "        vertical-align: middle;\n",
       "    }\n",
       "\n",
       "    .dataframe tbody tr th {\n",
       "        vertical-align: top;\n",
       "    }\n",
       "\n",
       "    .dataframe thead th {\n",
       "        text-align: right;\n",
       "    }\n",
       "</style>\n",
       "<table border=\"1\" class=\"dataframe\">\n",
       "  <thead>\n",
       "    <tr style=\"text-align: right;\">\n",
       "      <th></th>\n",
       "      <th>year</th>\n",
       "      <th>tmID</th>\n",
       "      <th>GP</th>\n",
       "      <th>Pts</th>\n",
       "      <th>pts_per_game</th>\n",
       "    </tr>\n",
       "    <tr>\n",
       "      <th>playerID</th>\n",
       "      <th></th>\n",
       "      <th></th>\n",
       "      <th></th>\n",
       "      <th></th>\n",
       "      <th></th>\n",
       "    </tr>\n",
       "  </thead>\n",
       "  <tbody>\n",
       "    <tr>\n",
       "      <th>gretzwa01</th>\n",
       "      <td>1980</td>\n",
       "      <td>EDM</td>\n",
       "      <td>80.0</td>\n",
       "      <td>164.0</td>\n",
       "      <td>2.05000</td>\n",
       "    </tr>\n",
       "    <tr>\n",
       "      <th>gretzwa01</th>\n",
       "      <td>1981</td>\n",
       "      <td>EDM</td>\n",
       "      <td>80.0</td>\n",
       "      <td>212.0</td>\n",
       "      <td>2.65000</td>\n",
       "    </tr>\n",
       "    <tr>\n",
       "      <th>gretzwa01</th>\n",
       "      <td>1982</td>\n",
       "      <td>EDM</td>\n",
       "      <td>80.0</td>\n",
       "      <td>196.0</td>\n",
       "      <td>2.45000</td>\n",
       "    </tr>\n",
       "    <tr>\n",
       "      <th>gretzwa01</th>\n",
       "      <td>1983</td>\n",
       "      <td>EDM</td>\n",
       "      <td>74.0</td>\n",
       "      <td>205.0</td>\n",
       "      <td>2.77027</td>\n",
       "    </tr>\n",
       "    <tr>\n",
       "      <th>gretzwa01</th>\n",
       "      <td>1984</td>\n",
       "      <td>EDM</td>\n",
       "      <td>80.0</td>\n",
       "      <td>208.0</td>\n",
       "      <td>2.60000</td>\n",
       "    </tr>\n",
       "  </tbody>\n",
       "</table>\n",
       "</div>"
      ],
      "text/plain": [
       "           year tmID    GP    Pts  pts_per_game\n",
       "playerID                                       \n",
       "gretzwa01  1980  EDM  80.0  164.0       2.05000\n",
       "gretzwa01  1981  EDM  80.0  212.0       2.65000\n",
       "gretzwa01  1982  EDM  80.0  196.0       2.45000\n",
       "gretzwa01  1983  EDM  74.0  205.0       2.77027\n",
       "gretzwa01  1984  EDM  80.0  208.0       2.60000"
      ]
     },
     "execution_count": 21,
     "metadata": {},
     "output_type": "execute_result"
    }
   ],
   "source": [
    "wayne = wayne[['year', 'tmID', 'GP', 'Pts']]\n",
    "wayne = wayne.assign(pts_per_game = lambda x: x['Pts'] / x['GP'])\n",
    "wayne.head()"
   ]
  },
  {
   "cell_type": "code",
   "execution_count": 22,
   "metadata": {
    "slideshow": {
     "slide_type": "slide"
    }
   },
   "outputs": [
    {
     "data": {
      "text/plain": [
       "playerID\n",
       "gretzwa01    EDM\n",
       "gretzwa01    EDM\n",
       "gretzwa01    EDM\n",
       "gretzwa01    EDM\n",
       "gretzwa01    EDM\n",
       "Name: tmID, dtype: category\n",
       "Categories (37, object): [ANA, AND, ATL, BOS, ..., VAN, WAS, WIN, WPG]"
      ]
     },
     "execution_count": 22,
     "metadata": {},
     "output_type": "execute_result"
    }
   ],
   "source": [
    "wayne.tmID.head()"
   ]
  },
  {
   "cell_type": "code",
   "execution_count": 23,
   "metadata": {
    "slideshow": {
     "slide_type": "slide"
    }
   },
   "outputs": [
    {
     "data": {
      "text/plain": [
       "playerID\n",
       "gretzwa01    EDM\n",
       "gretzwa01    EDM\n",
       "gretzwa01    EDM\n",
       "gretzwa01    EDM\n",
       "gretzwa01    EDM\n",
       "Name: tmID, dtype: category\n",
       "Categories (4, object): [EDM, LAK, NYR, STL]"
      ]
     },
     "execution_count": 23,
     "metadata": {},
     "output_type": "execute_result"
    }
   ],
   "source": [
    "wayne.loc[:, \"tmID\"] = wayne.tmID.cat.remove_unused_categories()\n",
    "wayne.tmID.head()"
   ]
  },
  {
   "cell_type": "code",
   "execution_count": 24,
   "metadata": {
    "slideshow": {
     "slide_type": "slide"
    }
   },
   "outputs": [
    {
     "data": {
      "text/html": [
       "<div>\n",
       "<style scoped>\n",
       "    .dataframe tbody tr th:only-of-type {\n",
       "        vertical-align: middle;\n",
       "    }\n",
       "\n",
       "    .dataframe tbody tr th {\n",
       "        vertical-align: top;\n",
       "    }\n",
       "\n",
       "    .dataframe thead th {\n",
       "        text-align: right;\n",
       "    }\n",
       "</style>\n",
       "<table border=\"1\" class=\"dataframe\">\n",
       "  <thead>\n",
       "    <tr style=\"text-align: right;\">\n",
       "      <th></th>\n",
       "      <th>year</th>\n",
       "      <th>tmID</th>\n",
       "      <th>GP</th>\n",
       "      <th>Pts</th>\n",
       "      <th>pts_per_game</th>\n",
       "      <th>tmCode</th>\n",
       "    </tr>\n",
       "    <tr>\n",
       "      <th>playerID</th>\n",
       "      <th></th>\n",
       "      <th></th>\n",
       "      <th></th>\n",
       "      <th></th>\n",
       "      <th></th>\n",
       "      <th></th>\n",
       "    </tr>\n",
       "  </thead>\n",
       "  <tbody>\n",
       "    <tr>\n",
       "      <th>gretzwa01</th>\n",
       "      <td>1993</td>\n",
       "      <td>LAK</td>\n",
       "      <td>81.0</td>\n",
       "      <td>130.0</td>\n",
       "      <td>1.604938</td>\n",
       "      <td>1</td>\n",
       "    </tr>\n",
       "    <tr>\n",
       "      <th>gretzwa01</th>\n",
       "      <td>1996</td>\n",
       "      <td>NYR</td>\n",
       "      <td>82.0</td>\n",
       "      <td>97.0</td>\n",
       "      <td>1.182927</td>\n",
       "      <td>2</td>\n",
       "    </tr>\n",
       "    <tr>\n",
       "      <th>gretzwa01</th>\n",
       "      <td>1992</td>\n",
       "      <td>LAK</td>\n",
       "      <td>45.0</td>\n",
       "      <td>65.0</td>\n",
       "      <td>1.444444</td>\n",
       "      <td>1</td>\n",
       "    </tr>\n",
       "    <tr>\n",
       "      <th>gretzwa01</th>\n",
       "      <td>1986</td>\n",
       "      <td>EDM</td>\n",
       "      <td>79.0</td>\n",
       "      <td>183.0</td>\n",
       "      <td>2.316456</td>\n",
       "      <td>0</td>\n",
       "    </tr>\n",
       "    <tr>\n",
       "      <th>gretzwa01</th>\n",
       "      <td>1995</td>\n",
       "      <td>LAK</td>\n",
       "      <td>62.0</td>\n",
       "      <td>81.0</td>\n",
       "      <td>1.306452</td>\n",
       "      <td>1</td>\n",
       "    </tr>\n",
       "  </tbody>\n",
       "</table>\n",
       "</div>"
      ],
      "text/plain": [
       "           year tmID    GP    Pts  pts_per_game  tmCode\n",
       "playerID                                               \n",
       "gretzwa01  1993  LAK  81.0  130.0      1.604938       1\n",
       "gretzwa01  1996  NYR  82.0   97.0      1.182927       2\n",
       "gretzwa01  1992  LAK  45.0   65.0      1.444444       1\n",
       "gretzwa01  1986  EDM  79.0  183.0      2.316456       0\n",
       "gretzwa01  1995  LAK  62.0   81.0      1.306452       1"
      ]
     },
     "execution_count": 24,
     "metadata": {},
     "output_type": "execute_result"
    }
   ],
   "source": [
    "wayne.loc[:, \"tmCode\"] = wayne[\"tmID\"].cat.codes\n",
    "wayne.sample(5)"
   ]
  },
  {
   "cell_type": "code",
   "execution_count": 25,
   "metadata": {
    "slideshow": {
     "slide_type": "fragment"
    }
   },
   "outputs": [],
   "source": [
    "wayne.loc[:, \"year\"] = pd.to_datetime(wayne.year, format=\"%Y\")"
   ]
  },
  {
   "cell_type": "code",
   "execution_count": 26,
   "metadata": {
    "slideshow": {
     "slide_type": "slide"
    }
   },
   "outputs": [],
   "source": [
    "gp_max = wayne.GP.max()\n",
    "gp_min = wayne.GP.min()\n",
    "pts_per_game_max = wayne.pts_per_game.max()\n",
    "pts_per_game_min = wayne.pts_per_game.min()"
   ]
  },
  {
   "cell_type": "code",
   "execution_count": 27,
   "metadata": {
    "slideshow": {
     "slide_type": "fragment"
    }
   },
   "outputs": [
    {
     "data": {
      "text/html": [
       "<div>\n",
       "<style scoped>\n",
       "    .dataframe tbody tr th:only-of-type {\n",
       "        vertical-align: middle;\n",
       "    }\n",
       "\n",
       "    .dataframe tbody tr th {\n",
       "        vertical-align: top;\n",
       "    }\n",
       "\n",
       "    .dataframe thead th {\n",
       "        text-align: right;\n",
       "    }\n",
       "</style>\n",
       "<table border=\"1\" class=\"dataframe\">\n",
       "  <thead>\n",
       "    <tr style=\"text-align: right;\">\n",
       "      <th></th>\n",
       "      <th>year</th>\n",
       "      <th>tmID</th>\n",
       "      <th>GP</th>\n",
       "      <th>Pts</th>\n",
       "      <th>pts_per_game</th>\n",
       "      <th>tmCode</th>\n",
       "      <th>height</th>\n",
       "      <th>bottom</th>\n",
       "      <th>top</th>\n",
       "    </tr>\n",
       "    <tr>\n",
       "      <th>playerID</th>\n",
       "      <th></th>\n",
       "      <th></th>\n",
       "      <th></th>\n",
       "      <th></th>\n",
       "      <th></th>\n",
       "      <th></th>\n",
       "      <th></th>\n",
       "      <th></th>\n",
       "      <th></th>\n",
       "    </tr>\n",
       "  </thead>\n",
       "  <tbody>\n",
       "    <tr>\n",
       "      <th>gretzwa01</th>\n",
       "      <td>1980-01-01</td>\n",
       "      <td>EDM</td>\n",
       "      <td>80.0</td>\n",
       "      <td>164.0</td>\n",
       "      <td>2.05000</td>\n",
       "      <td>0</td>\n",
       "      <td>0.975610</td>\n",
       "      <td>0</td>\n",
       "      <td>0.975610</td>\n",
       "    </tr>\n",
       "    <tr>\n",
       "      <th>gretzwa01</th>\n",
       "      <td>1981-01-01</td>\n",
       "      <td>EDM</td>\n",
       "      <td>80.0</td>\n",
       "      <td>212.0</td>\n",
       "      <td>2.65000</td>\n",
       "      <td>0</td>\n",
       "      <td>0.975610</td>\n",
       "      <td>0</td>\n",
       "      <td>0.975610</td>\n",
       "    </tr>\n",
       "    <tr>\n",
       "      <th>gretzwa01</th>\n",
       "      <td>1982-01-01</td>\n",
       "      <td>EDM</td>\n",
       "      <td>80.0</td>\n",
       "      <td>196.0</td>\n",
       "      <td>2.45000</td>\n",
       "      <td>0</td>\n",
       "      <td>0.975610</td>\n",
       "      <td>0</td>\n",
       "      <td>0.975610</td>\n",
       "    </tr>\n",
       "    <tr>\n",
       "      <th>gretzwa01</th>\n",
       "      <td>1983-01-01</td>\n",
       "      <td>EDM</td>\n",
       "      <td>74.0</td>\n",
       "      <td>205.0</td>\n",
       "      <td>2.77027</td>\n",
       "      <td>0</td>\n",
       "      <td>0.902439</td>\n",
       "      <td>0</td>\n",
       "      <td>0.902439</td>\n",
       "    </tr>\n",
       "    <tr>\n",
       "      <th>gretzwa01</th>\n",
       "      <td>1984-01-01</td>\n",
       "      <td>EDM</td>\n",
       "      <td>80.0</td>\n",
       "      <td>208.0</td>\n",
       "      <td>2.60000</td>\n",
       "      <td>0</td>\n",
       "      <td>0.975610</td>\n",
       "      <td>0</td>\n",
       "      <td>0.975610</td>\n",
       "    </tr>\n",
       "  </tbody>\n",
       "</table>\n",
       "</div>"
      ],
      "text/plain": [
       "                year tmID    GP    Pts  pts_per_game  tmCode    height  \\\n",
       "playerID                                                                 \n",
       "gretzwa01 1980-01-01  EDM  80.0  164.0       2.05000       0  0.975610   \n",
       "gretzwa01 1981-01-01  EDM  80.0  212.0       2.65000       0  0.975610   \n",
       "gretzwa01 1982-01-01  EDM  80.0  196.0       2.45000       0  0.975610   \n",
       "gretzwa01 1983-01-01  EDM  74.0  205.0       2.77027       0  0.902439   \n",
       "gretzwa01 1984-01-01  EDM  80.0  208.0       2.60000       0  0.975610   \n",
       "\n",
       "           bottom       top  \n",
       "playerID                     \n",
       "gretzwa01       0  0.975610  \n",
       "gretzwa01       0  0.975610  \n",
       "gretzwa01       0  0.975610  \n",
       "gretzwa01       0  0.902439  \n",
       "gretzwa01       0  0.975610  "
      ]
     },
     "execution_count": 27,
     "metadata": {},
     "output_type": "execute_result"
    }
   ],
   "source": [
    "wayne.loc[:, \"height\"] = wayne.GP / gp_max\n",
    "wayne.loc[:, \"bottom\"] = wayne.tmCode\n",
    "wayne.loc[:, \"top\"] = wayne.bottom + wayne.height\n",
    "wayne.head()"
   ]
  },
  {
   "cell_type": "code",
   "execution_count": 28,
   "metadata": {
    "slideshow": {
     "slide_type": "slide"
    }
   },
   "outputs": [],
   "source": [
    "src = cds(wayne)\n",
    "p = figure(x_axis_type='datetime',\n",
    "           height=500, width=500,\n",
    "           y_range=list(wayne.tmID.cat.categories))\n",
    "p.vbar(bottom='bottom',\n",
    "       top='top', x='year',\n",
    "       width=1, source=src);"
   ]
  },
  {
   "cell_type": "code",
   "execution_count": 29,
   "metadata": {
    "slideshow": {
     "slide_type": "slide"
    }
   },
   "outputs": [
    {
     "data": {
      "text/html": [
       "\n",
       "\n",
       "\n",
       "\n",
       "\n",
       "\n",
       "  <div class=\"bk-root\" id=\"234fd219-196c-4d6e-b7eb-47114fdc1800\" data-root-id=\"1725\"></div>\n"
      ]
     },
     "metadata": {},
     "output_type": "display_data"
    },
    {
     "data": {
      "application/javascript": [
       "(function(root) {\n",
       "  function embed_document(root) {\n",
       "    \n",
       "  var docs_json = {\"de5612a3-e6c4-4093-8cf5-efbde2f83856\":{\"roots\":{\"references\":[{\"attributes\":{\"below\":[{\"id\":\"1734\",\"type\":\"DatetimeAxis\"}],\"center\":[{\"id\":\"1738\",\"type\":\"Grid\"},{\"id\":\"1742\",\"type\":\"Grid\"}],\"left\":[{\"id\":\"1739\",\"type\":\"CategoricalAxis\"}],\"plot_height\":500,\"plot_width\":500,\"renderers\":[{\"id\":\"1759\",\"type\":\"GlyphRenderer\"}],\"title\":{\"id\":\"1825\",\"type\":\"Title\"},\"toolbar\":{\"id\":\"1749\",\"type\":\"Toolbar\"},\"x_range\":{\"id\":\"1726\",\"type\":\"DataRange1d\"},\"x_scale\":{\"id\":\"1730\",\"type\":\"LinearScale\"},\"y_range\":{\"id\":\"1728\",\"type\":\"FactorRange\"},\"y_scale\":{\"id\":\"1732\",\"type\":\"CategoricalScale\"}},\"id\":\"1725\",\"subtype\":\"Figure\",\"type\":\"Plot\"},{\"attributes\":{\"num_minor_ticks\":5,\"tickers\":[{\"id\":\"1832\",\"type\":\"AdaptiveTicker\"},{\"id\":\"1833\",\"type\":\"AdaptiveTicker\"},{\"id\":\"1834\",\"type\":\"AdaptiveTicker\"},{\"id\":\"1835\",\"type\":\"DaysTicker\"},{\"id\":\"1836\",\"type\":\"DaysTicker\"},{\"id\":\"1837\",\"type\":\"DaysTicker\"},{\"id\":\"1838\",\"type\":\"DaysTicker\"},{\"id\":\"1839\",\"type\":\"MonthsTicker\"},{\"id\":\"1840\",\"type\":\"MonthsTicker\"},{\"id\":\"1841\",\"type\":\"MonthsTicker\"},{\"id\":\"1842\",\"type\":\"MonthsTicker\"},{\"id\":\"1843\",\"type\":\"YearsTicker\"}]},\"id\":\"1735\",\"type\":\"DatetimeTicker\"},{\"attributes\":{\"days\":[1,4,7,10,13,16,19,22,25,28]},\"id\":\"1836\",\"type\":\"DaysTicker\"},{\"attributes\":{\"bottom_units\":\"screen\",\"fill_alpha\":{\"value\":0.5},\"fill_color\":{\"value\":\"lightgrey\"},\"left_units\":\"screen\",\"level\":\"overlay\",\"line_alpha\":{\"value\":1.0},\"line_color\":{\"value\":\"black\"},\"line_dash\":[4,4],\"line_width\":{\"value\":2},\"render_mode\":\"css\",\"right_units\":\"screen\",\"top_units\":\"screen\"},\"id\":\"1844\",\"type\":\"BoxAnnotation\"},{\"attributes\":{},\"id\":\"1730\",\"type\":\"LinearScale\"},{\"attributes\":{\"mantissas\":[1,2,5],\"max_interval\":500.0,\"num_minor_ticks\":0},\"id\":\"1832\",\"type\":\"AdaptiveTicker\"},{\"attributes\":{},\"id\":\"1831\",\"type\":\"UnionRenderers\"},{\"attributes\":{},\"id\":\"1748\",\"type\":\"HelpTool\"},{\"attributes\":{\"formatter\":{\"id\":\"1827\",\"type\":\"CategoricalTickFormatter\"},\"ticker\":{\"id\":\"1740\",\"type\":\"CategoricalTicker\"}},\"id\":\"1739\",\"type\":\"CategoricalAxis\"},{\"attributes\":{\"text\":\"\"},\"id\":\"1825\",\"type\":\"Title\"},{\"attributes\":{\"source\":{\"id\":\"1724\",\"type\":\"ColumnDataSource\"}},\"id\":\"1760\",\"type\":\"CDSView\"},{\"attributes\":{},\"id\":\"1843\",\"type\":\"YearsTicker\"},{\"attributes\":{\"base\":60,\"mantissas\":[1,2,5,10,15,20,30],\"max_interval\":1800000.0,\"min_interval\":1000.0,\"num_minor_ticks\":0},\"id\":\"1833\",\"type\":\"AdaptiveTicker\"},{\"attributes\":{\"dimension\":1,\"ticker\":{\"id\":\"1740\",\"type\":\"CategoricalTicker\"}},\"id\":\"1742\",\"type\":\"Grid\"},{\"attributes\":{\"base\":24,\"mantissas\":[1,2,4,6,8,12],\"max_interval\":43200000.0,\"min_interval\":3600000.0,\"num_minor_ticks\":0},\"id\":\"1834\",\"type\":\"AdaptiveTicker\"},{\"attributes\":{\"months\":[0,1,2,3,4,5,6,7,8,9,10,11]},\"id\":\"1839\",\"type\":\"MonthsTicker\"},{\"attributes\":{},\"id\":\"1732\",\"type\":\"CategoricalScale\"},{\"attributes\":{\"months\":[0,4,8]},\"id\":\"1841\",\"type\":\"MonthsTicker\"},{\"attributes\":{},\"id\":\"1827\",\"type\":\"CategoricalTickFormatter\"},{\"attributes\":{\"data_source\":{\"id\":\"1724\",\"type\":\"ColumnDataSource\"},\"glyph\":{\"id\":\"1757\",\"type\":\"VBar\"},\"hover_glyph\":null,\"muted_glyph\":null,\"nonselection_glyph\":{\"id\":\"1758\",\"type\":\"VBar\"},\"selection_glyph\":null,\"view\":{\"id\":\"1760\",\"type\":\"CDSView\"}},\"id\":\"1759\",\"type\":\"GlyphRenderer\"},{\"attributes\":{\"formatter\":{\"id\":\"1829\",\"type\":\"DatetimeTickFormatter\"},\"ticker\":{\"id\":\"1735\",\"type\":\"DatetimeTicker\"}},\"id\":\"1734\",\"type\":\"DatetimeAxis\"},{\"attributes\":{\"overlay\":{\"id\":\"1844\",\"type\":\"BoxAnnotation\"}},\"id\":\"1745\",\"type\":\"BoxZoomTool\"},{\"attributes\":{\"ticker\":{\"id\":\"1735\",\"type\":\"DatetimeTicker\"}},\"id\":\"1738\",\"type\":\"Grid\"},{\"attributes\":{\"active_drag\":\"auto\",\"active_inspect\":\"auto\",\"active_multi\":null,\"active_scroll\":\"auto\",\"active_tap\":\"auto\",\"tools\":[{\"id\":\"1743\",\"type\":\"PanTool\"},{\"id\":\"1744\",\"type\":\"WheelZoomTool\"},{\"id\":\"1745\",\"type\":\"BoxZoomTool\"},{\"id\":\"1746\",\"type\":\"SaveTool\"},{\"id\":\"1747\",\"type\":\"ResetTool\"},{\"id\":\"1748\",\"type\":\"HelpTool\"}]},\"id\":\"1749\",\"type\":\"Toolbar\"},{\"attributes\":{\"callback\":null},\"id\":\"1726\",\"type\":\"DataRange1d\"},{\"attributes\":{\"callback\":null,\"factors\":[\"EDM\",\"LAK\",\"NYR\",\"STL\"]},\"id\":\"1728\",\"type\":\"FactorRange\"},{\"attributes\":{},\"id\":\"1743\",\"type\":\"PanTool\"},{\"attributes\":{\"months\":[0,2,4,6,8,10]},\"id\":\"1840\",\"type\":\"MonthsTicker\"},{\"attributes\":{},\"id\":\"1747\",\"type\":\"ResetTool\"},{\"attributes\":{},\"id\":\"1744\",\"type\":\"WheelZoomTool\"},{\"attributes\":{\"days\":[1,15]},\"id\":\"1838\",\"type\":\"DaysTicker\"},{\"attributes\":{\"days\":[1,8,15,22]},\"id\":\"1837\",\"type\":\"DaysTicker\"},{\"attributes\":{},\"id\":\"1746\",\"type\":\"SaveTool\"},{\"attributes\":{\"days\":[1,2,3,4,5,6,7,8,9,10,11,12,13,14,15,16,17,18,19,20,21,22,23,24,25,26,27,28,29,30,31]},\"id\":\"1835\",\"type\":\"DaysTicker\"},{\"attributes\":{},\"id\":\"1740\",\"type\":\"CategoricalTicker\"},{\"attributes\":{\"months\":[0,6]},\"id\":\"1842\",\"type\":\"MonthsTicker\"},{\"attributes\":{\"bottom\":{\"field\":\"bottom\"},\"fill_alpha\":{\"value\":0.1},\"fill_color\":{\"value\":\"#1f77b4\"},\"line_alpha\":{\"value\":0.1},\"line_color\":{\"value\":\"#1f77b4\"},\"top\":{\"field\":\"top\"},\"width\":{\"value\":1},\"x\":{\"field\":\"year\"}},\"id\":\"1758\",\"type\":\"VBar\"},{\"attributes\":{\"callback\":null,\"data\":{\"GP\":{\"__ndarray__\":\"AAAAAAAAVEAAAAAAAABUQAAAAAAAAFRAAAAAAACAUkAAAAAAAABUQAAAAAAAAFRAAAAAAADAU0AAAAAAAABQQAAAAAAAgFNAAAAAAABAUkAAAAAAAIBTQAAAAAAAgFJAAAAAAACARkAAAAAAAEBUQAAAAAAAAEhAAAAAAAAAT0AAAAAAAAAyQAAAAAAAgFRAAAAAAACAVEAAAAAAAIBRQA==\",\"dtype\":\"float64\",\"shape\":[20]},\"Pts\":{\"__ndarray__\":\"AAAAAACAZEAAAAAAAIBqQAAAAAAAgGhAAAAAAACgaUAAAAAAAABqQAAAAAAA4GpAAAAAAADgZkAAAAAAAKBiQAAAAAAAAGVAAAAAAADAYUAAAAAAAGBkQAAAAAAAQF5AAAAAAABAUEAAAAAAAEBgQAAAAAAAAEhAAAAAAABAVEAAAAAAAAA1QAAAAAAAQFhAAAAAAACAVkAAAAAAAABPQA==\",\"dtype\":\"float64\",\"shape\":[20]},\"bottom\":{\"__ndarray__\":\"AAAAAAAAAAABAQEBAQEBAQMCAgI=\",\"dtype\":\"int8\",\"shape\":[20]},\"height\":{\"__ndarray__\":\"OB+D8zE47z84H4PzMTjvPzgfg/MxOO8/4XwMzsfg7D84H4PzMTjvPzgfg/MxOO8/1K5E7UrU7j/6GJyPwfnoP3A+BudjcO4/fQzOx+B87D9wPgbnY3DuP+F8DM7H4Ow/kMH5GJyP4T+cj8H5GJzvP7sStStRu+I/Mjgfg/Mx6D8ZnI/B+RjMPwAAAAAAAPA/AAAAAAAA8D9RuxK1K1HrPw==\",\"dtype\":\"float64\",\"shape\":[20]},\"playerID\":[\"gretzwa01\",\"gretzwa01\",\"gretzwa01\",\"gretzwa01\",\"gretzwa01\",\"gretzwa01\",\"gretzwa01\",\"gretzwa01\",\"gretzwa01\",\"gretzwa01\",\"gretzwa01\",\"gretzwa01\",\"gretzwa01\",\"gretzwa01\",\"gretzwa01\",\"gretzwa01\",\"gretzwa01\",\"gretzwa01\",\"gretzwa01\",\"gretzwa01\"],\"pts_per_game\":{\"__ndarray__\":\"ZmZmZmZmAEAzMzMzMzMFQJqZmZmZmQNAmCKfdYMpBkDNzMzMzMwEQAAAAAAAgAVAEJWO7BmIAkAAAAAAAKACQLETO7ETOwFA+fHjx48f/z99y7d8y7cAQJgin3WDKfo/x3Ecx3Ec9z+IRcrA0635PwAAAAAAAPA/55xzzjnn9D+rqqqqqqryP+1K1K5E7fI/kMH5GJyP8T98xVd8xVfsPw==\",\"dtype\":\"float64\",\"shape\":[20]},\"tmCode\":{\"__ndarray__\":\"AAAAAAAAAAABAQEBAQEBAQMCAgI=\",\"dtype\":\"int8\",\"shape\":[20]},\"tmID\":[\"EDM\",\"EDM\",\"EDM\",\"EDM\",\"EDM\",\"EDM\",\"EDM\",\"EDM\",\"LAK\",\"LAK\",\"LAK\",\"LAK\",\"LAK\",\"LAK\",\"LAK\",\"LAK\",\"STL\",\"NYR\",\"NYR\",\"NYR\"],\"top\":{\"__ndarray__\":\"OB+D8zE47z84H4PzMTjvPzgfg/MxOO8/4XwMzsfg7D84H4PzMTjvPzgfg/MxOO8/1K5E7UrU7j/6GJyPwfnoPzgfg/MxOP8/PgbnY3A+/j84H4PzMTj/P3A+BudjcP4/yOB8DM7H+D/Ox+B8DM7/P16J2pWoXfk/GZyPwfkY/D/C+Ricj8EJQAAAAAAAAAhAAAAAAAAACEDUrkTtStQGQA==\",\"dtype\":\"float64\",\"shape\":[20]},\"year\":{\"__ndarray__\":\"AAAAHM5dUkIAAAD+AzVUQgAAAEnwClZCAAAAlNzgV0IAAADfyLZZQgAAAMH+jVtCAAAADOtjXUIAAABX1zlfQgAAANHhh2BCAAAAwnxzYUIAAIDncl5iQgAAAA1pSWNCAACAMl80ZEIAAIAj+h9lQgAAAEnwCmZCAACAbub1ZkIAAIBu5vVmQgAAAJTc4GdCAAAAhXfMaEIAAICqbbdpQg==\",\"dtype\":\"float64\",\"shape\":[20]}},\"selected\":{\"id\":\"1830\",\"type\":\"Selection\"},\"selection_policy\":{\"id\":\"1831\",\"type\":\"UnionRenderers\"}},\"id\":\"1724\",\"type\":\"ColumnDataSource\"},{\"attributes\":{},\"id\":\"1830\",\"type\":\"Selection\"},{\"attributes\":{\"bottom\":{\"field\":\"bottom\"},\"fill_color\":{\"value\":\"#1f77b4\"},\"line_color\":{\"value\":\"#1f77b4\"},\"top\":{\"field\":\"top\"},\"width\":{\"value\":1},\"x\":{\"field\":\"year\"}},\"id\":\"1757\",\"type\":\"VBar\"},{\"attributes\":{},\"id\":\"1829\",\"type\":\"DatetimeTickFormatter\"}],\"root_ids\":[\"1725\"]},\"title\":\"Bokeh Application\",\"version\":\"1.2.0\"}};\n",
       "  var render_items = [{\"docid\":\"de5612a3-e6c4-4093-8cf5-efbde2f83856\",\"roots\":{\"1725\":\"234fd219-196c-4d6e-b7eb-47114fdc1800\"}}];\n",
       "  root.Bokeh.embed.embed_items_notebook(docs_json, render_items);\n",
       "\n",
       "  }\n",
       "  if (root.Bokeh !== undefined) {\n",
       "    embed_document(root);\n",
       "  } else {\n",
       "    var attempts = 0;\n",
       "    var timer = setInterval(function(root) {\n",
       "      if (root.Bokeh !== undefined) {\n",
       "        embed_document(root);\n",
       "        clearInterval(timer);\n",
       "      }\n",
       "      attempts++;\n",
       "      if (attempts > 100) {\n",
       "        console.log(\"Bokeh: ERROR: Unable to run BokehJS code because BokehJS library is missing\");\n",
       "        clearInterval(timer);\n",
       "      }\n",
       "    }, 10, root)\n",
       "  }\n",
       "})(window);"
      ],
      "application/vnd.bokehjs_exec.v0+json": ""
     },
     "metadata": {
      "application/vnd.bokehjs_exec.v0+json": {
       "id": "1725"
      }
     },
     "output_type": "display_data"
    }
   ],
   "source": [
    "show(p)"
   ]
  },
  {
   "cell_type": "code",
   "execution_count": 30,
   "metadata": {
    "slideshow": {
     "slide_type": "slide"
    }
   },
   "outputs": [],
   "source": [
    "p = figure(x_axis_type='datetime',\n",
    "           height=500, width=500,\n",
    "           y_range=list(wayne.tmID.cat.categories))\n",
    "p.vbar(bottom='bottom',\n",
    "       top='top', x='year',\n",
    "       width=1, source=src)\n",
    "p.xaxis.major_label_text_font_size = \"12pt\"\n",
    "p.yaxis.major_label_text_font_size = \"12pt\""
   ]
  },
  {
   "cell_type": "code",
   "execution_count": 31,
   "metadata": {
    "slideshow": {
     "slide_type": "slide"
    }
   },
   "outputs": [
    {
     "data": {
      "text/html": [
       "\n",
       "\n",
       "\n",
       "\n",
       "\n",
       "\n",
       "  <div class=\"bk-root\" id=\"4bcda4c6-8795-4b3e-9f54-3c04e7f05e15\" data-root-id=\"1971\"></div>\n"
      ]
     },
     "metadata": {},
     "output_type": "display_data"
    },
    {
     "data": {
      "application/javascript": [
       "(function(root) {\n",
       "  function embed_document(root) {\n",
       "    \n",
       "  var docs_json = {\"7442985b-cdd3-480e-915d-4306a0672438\":{\"roots\":{\"references\":[{\"attributes\":{\"below\":[{\"id\":\"1980\",\"type\":\"DatetimeAxis\"}],\"center\":[{\"id\":\"1984\",\"type\":\"Grid\"},{\"id\":\"1988\",\"type\":\"Grid\"}],\"left\":[{\"id\":\"1985\",\"type\":\"CategoricalAxis\"}],\"plot_height\":500,\"plot_width\":500,\"renderers\":[{\"id\":\"2005\",\"type\":\"GlyphRenderer\"}],\"title\":{\"id\":\"2092\",\"type\":\"Title\"},\"toolbar\":{\"id\":\"1995\",\"type\":\"Toolbar\"},\"x_range\":{\"id\":\"1972\",\"type\":\"DataRange1d\"},\"x_scale\":{\"id\":\"1976\",\"type\":\"LinearScale\"},\"y_range\":{\"id\":\"1974\",\"type\":\"FactorRange\"},\"y_scale\":{\"id\":\"1978\",\"type\":\"CategoricalScale\"}},\"id\":\"1971\",\"subtype\":\"Figure\",\"type\":\"Plot\"},{\"attributes\":{\"bottom\":{\"field\":\"bottom\"},\"fill_alpha\":{\"value\":0.1},\"fill_color\":{\"value\":\"#1f77b4\"},\"line_alpha\":{\"value\":0.1},\"line_color\":{\"value\":\"#1f77b4\"},\"top\":{\"field\":\"top\"},\"width\":{\"value\":1},\"x\":{\"field\":\"year\"}},\"id\":\"2004\",\"type\":\"VBar\"},{\"attributes\":{},\"id\":\"1986\",\"type\":\"CategoricalTicker\"},{\"attributes\":{},\"id\":\"2094\",\"type\":\"CategoricalTickFormatter\"},{\"attributes\":{},\"id\":\"1831\",\"type\":\"UnionRenderers\"},{\"attributes\":{\"days\":[1,8,15,22]},\"id\":\"2104\",\"type\":\"DaysTicker\"},{\"attributes\":{\"num_minor_ticks\":5,\"tickers\":[{\"id\":\"2099\",\"type\":\"AdaptiveTicker\"},{\"id\":\"2100\",\"type\":\"AdaptiveTicker\"},{\"id\":\"2101\",\"type\":\"AdaptiveTicker\"},{\"id\":\"2102\",\"type\":\"DaysTicker\"},{\"id\":\"2103\",\"type\":\"DaysTicker\"},{\"id\":\"2104\",\"type\":\"DaysTicker\"},{\"id\":\"2105\",\"type\":\"DaysTicker\"},{\"id\":\"2106\",\"type\":\"MonthsTicker\"},{\"id\":\"2107\",\"type\":\"MonthsTicker\"},{\"id\":\"2108\",\"type\":\"MonthsTicker\"},{\"id\":\"2109\",\"type\":\"MonthsTicker\"},{\"id\":\"2110\",\"type\":\"YearsTicker\"}]},\"id\":\"1981\",\"type\":\"DatetimeTicker\"},{\"attributes\":{},\"id\":\"1989\",\"type\":\"PanTool\"},{\"attributes\":{},\"id\":\"2096\",\"type\":\"DatetimeTickFormatter\"},{\"attributes\":{},\"id\":\"1990\",\"type\":\"WheelZoomTool\"},{\"attributes\":{\"formatter\":{\"id\":\"2096\",\"type\":\"DatetimeTickFormatter\"},\"major_label_text_font_size\":{\"value\":\"12pt\"},\"ticker\":{\"id\":\"1981\",\"type\":\"DatetimeTicker\"}},\"id\":\"1980\",\"type\":\"DatetimeAxis\"},{\"attributes\":{\"overlay\":{\"id\":\"2111\",\"type\":\"BoxAnnotation\"}},\"id\":\"1991\",\"type\":\"BoxZoomTool\"},{\"attributes\":{\"ticker\":{\"id\":\"1981\",\"type\":\"DatetimeTicker\"}},\"id\":\"1984\",\"type\":\"Grid\"},{\"attributes\":{},\"id\":\"1978\",\"type\":\"CategoricalScale\"},{\"attributes\":{},\"id\":\"1992\",\"type\":\"SaveTool\"},{\"attributes\":{\"days\":[1,2,3,4,5,6,7,8,9,10,11,12,13,14,15,16,17,18,19,20,21,22,23,24,25,26,27,28,29,30,31]},\"id\":\"2102\",\"type\":\"DaysTicker\"},{\"attributes\":{},\"id\":\"1993\",\"type\":\"ResetTool\"},{\"attributes\":{\"base\":60,\"mantissas\":[1,2,5,10,15,20,30],\"max_interval\":1800000.0,\"min_interval\":1000.0,\"num_minor_ticks\":0},\"id\":\"2100\",\"type\":\"AdaptiveTicker\"},{\"attributes\":{\"months\":[0,6]},\"id\":\"2109\",\"type\":\"MonthsTicker\"},{\"attributes\":{\"formatter\":{\"id\":\"2094\",\"type\":\"CategoricalTickFormatter\"},\"major_label_text_font_size\":{\"value\":\"12pt\"},\"ticker\":{\"id\":\"1986\",\"type\":\"CategoricalTicker\"}},\"id\":\"1985\",\"type\":\"CategoricalAxis\"},{\"attributes\":{},\"id\":\"1994\",\"type\":\"HelpTool\"},{\"attributes\":{\"months\":[0,2,4,6,8,10]},\"id\":\"2107\",\"type\":\"MonthsTicker\"},{\"attributes\":{\"active_drag\":\"auto\",\"active_inspect\":\"auto\",\"active_multi\":null,\"active_scroll\":\"auto\",\"active_tap\":\"auto\",\"tools\":[{\"id\":\"1989\",\"type\":\"PanTool\"},{\"id\":\"1990\",\"type\":\"WheelZoomTool\"},{\"id\":\"1991\",\"type\":\"BoxZoomTool\"},{\"id\":\"1992\",\"type\":\"SaveTool\"},{\"id\":\"1993\",\"type\":\"ResetTool\"},{\"id\":\"1994\",\"type\":\"HelpTool\"}]},\"id\":\"1995\",\"type\":\"Toolbar\"},{\"attributes\":{\"data_source\":{\"id\":\"1724\",\"type\":\"ColumnDataSource\"},\"glyph\":{\"id\":\"2003\",\"type\":\"VBar\"},\"hover_glyph\":null,\"muted_glyph\":null,\"nonselection_glyph\":{\"id\":\"2004\",\"type\":\"VBar\"},\"selection_glyph\":null,\"view\":{\"id\":\"2006\",\"type\":\"CDSView\"}},\"id\":\"2005\",\"type\":\"GlyphRenderer\"},{\"attributes\":{\"days\":[1,15]},\"id\":\"2105\",\"type\":\"DaysTicker\"},{\"attributes\":{\"mantissas\":[1,2,5],\"max_interval\":500.0,\"num_minor_ticks\":0},\"id\":\"2099\",\"type\":\"AdaptiveTicker\"},{\"attributes\":{\"source\":{\"id\":\"1724\",\"type\":\"ColumnDataSource\"}},\"id\":\"2006\",\"type\":\"CDSView\"},{\"attributes\":{\"months\":[0,4,8]},\"id\":\"2108\",\"type\":\"MonthsTicker\"},{\"attributes\":{\"callback\":null,\"factors\":[\"EDM\",\"LAK\",\"NYR\",\"STL\"]},\"id\":\"1974\",\"type\":\"FactorRange\"},{\"attributes\":{\"months\":[0,1,2,3,4,5,6,7,8,9,10,11]},\"id\":\"2106\",\"type\":\"MonthsTicker\"},{\"attributes\":{\"days\":[1,4,7,10,13,16,19,22,25,28]},\"id\":\"2103\",\"type\":\"DaysTicker\"},{\"attributes\":{},\"id\":\"2110\",\"type\":\"YearsTicker\"},{\"attributes\":{\"bottom\":{\"field\":\"bottom\"},\"fill_color\":{\"value\":\"#1f77b4\"},\"line_color\":{\"value\":\"#1f77b4\"},\"top\":{\"field\":\"top\"},\"width\":{\"value\":1},\"x\":{\"field\":\"year\"}},\"id\":\"2003\",\"type\":\"VBar\"},{\"attributes\":{\"text\":\"\"},\"id\":\"2092\",\"type\":\"Title\"},{\"attributes\":{\"base\":24,\"mantissas\":[1,2,4,6,8,12],\"max_interval\":43200000.0,\"min_interval\":3600000.0,\"num_minor_ticks\":0},\"id\":\"2101\",\"type\":\"AdaptiveTicker\"},{\"attributes\":{\"bottom_units\":\"screen\",\"fill_alpha\":{\"value\":0.5},\"fill_color\":{\"value\":\"lightgrey\"},\"left_units\":\"screen\",\"level\":\"overlay\",\"line_alpha\":{\"value\":1.0},\"line_color\":{\"value\":\"black\"},\"line_dash\":[4,4],\"line_width\":{\"value\":2},\"render_mode\":\"css\",\"right_units\":\"screen\",\"top_units\":\"screen\"},\"id\":\"2111\",\"type\":\"BoxAnnotation\"},{\"attributes\":{\"dimension\":1,\"ticker\":{\"id\":\"1986\",\"type\":\"CategoricalTicker\"}},\"id\":\"1988\",\"type\":\"Grid\"},{\"attributes\":{\"callback\":null,\"data\":{\"GP\":{\"__ndarray__\":\"AAAAAAAAVEAAAAAAAABUQAAAAAAAAFRAAAAAAACAUkAAAAAAAABUQAAAAAAAAFRAAAAAAADAU0AAAAAAAABQQAAAAAAAgFNAAAAAAABAUkAAAAAAAIBTQAAAAAAAgFJAAAAAAACARkAAAAAAAEBUQAAAAAAAAEhAAAAAAAAAT0AAAAAAAAAyQAAAAAAAgFRAAAAAAACAVEAAAAAAAIBRQA==\",\"dtype\":\"float64\",\"shape\":[20]},\"Pts\":{\"__ndarray__\":\"AAAAAACAZEAAAAAAAIBqQAAAAAAAgGhAAAAAAACgaUAAAAAAAABqQAAAAAAA4GpAAAAAAADgZkAAAAAAAKBiQAAAAAAAAGVAAAAAAADAYUAAAAAAAGBkQAAAAAAAQF5AAAAAAABAUEAAAAAAAEBgQAAAAAAAAEhAAAAAAABAVEAAAAAAAAA1QAAAAAAAQFhAAAAAAACAVkAAAAAAAABPQA==\",\"dtype\":\"float64\",\"shape\":[20]},\"bottom\":{\"__ndarray__\":\"AAAAAAAAAAABAQEBAQEBAQMCAgI=\",\"dtype\":\"int8\",\"shape\":[20]},\"height\":{\"__ndarray__\":\"OB+D8zE47z84H4PzMTjvPzgfg/MxOO8/4XwMzsfg7D84H4PzMTjvPzgfg/MxOO8/1K5E7UrU7j/6GJyPwfnoP3A+BudjcO4/fQzOx+B87D9wPgbnY3DuP+F8DM7H4Ow/kMH5GJyP4T+cj8H5GJzvP7sStStRu+I/Mjgfg/Mx6D8ZnI/B+RjMPwAAAAAAAPA/AAAAAAAA8D9RuxK1K1HrPw==\",\"dtype\":\"float64\",\"shape\":[20]},\"playerID\":[\"gretzwa01\",\"gretzwa01\",\"gretzwa01\",\"gretzwa01\",\"gretzwa01\",\"gretzwa01\",\"gretzwa01\",\"gretzwa01\",\"gretzwa01\",\"gretzwa01\",\"gretzwa01\",\"gretzwa01\",\"gretzwa01\",\"gretzwa01\",\"gretzwa01\",\"gretzwa01\",\"gretzwa01\",\"gretzwa01\",\"gretzwa01\",\"gretzwa01\"],\"pts_per_game\":{\"__ndarray__\":\"ZmZmZmZmAEAzMzMzMzMFQJqZmZmZmQNAmCKfdYMpBkDNzMzMzMwEQAAAAAAAgAVAEJWO7BmIAkAAAAAAAKACQLETO7ETOwFA+fHjx48f/z99y7d8y7cAQJgin3WDKfo/x3Ecx3Ec9z+IRcrA0635PwAAAAAAAPA/55xzzjnn9D+rqqqqqqryP+1K1K5E7fI/kMH5GJyP8T98xVd8xVfsPw==\",\"dtype\":\"float64\",\"shape\":[20]},\"tmCode\":{\"__ndarray__\":\"AAAAAAAAAAABAQEBAQEBAQMCAgI=\",\"dtype\":\"int8\",\"shape\":[20]},\"tmID\":[\"EDM\",\"EDM\",\"EDM\",\"EDM\",\"EDM\",\"EDM\",\"EDM\",\"EDM\",\"LAK\",\"LAK\",\"LAK\",\"LAK\",\"LAK\",\"LAK\",\"LAK\",\"LAK\",\"STL\",\"NYR\",\"NYR\",\"NYR\"],\"top\":{\"__ndarray__\":\"OB+D8zE47z84H4PzMTjvPzgfg/MxOO8/4XwMzsfg7D84H4PzMTjvPzgfg/MxOO8/1K5E7UrU7j/6GJyPwfnoPzgfg/MxOP8/PgbnY3A+/j84H4PzMTj/P3A+BudjcP4/yOB8DM7H+D/Ox+B8DM7/P16J2pWoXfk/GZyPwfkY/D/C+Ricj8EJQAAAAAAAAAhAAAAAAAAACEDUrkTtStQGQA==\",\"dtype\":\"float64\",\"shape\":[20]},\"year\":{\"__ndarray__\":\"AAAAHM5dUkIAAAD+AzVUQgAAAEnwClZCAAAAlNzgV0IAAADfyLZZQgAAAMH+jVtCAAAADOtjXUIAAABX1zlfQgAAANHhh2BCAAAAwnxzYUIAAIDncl5iQgAAAA1pSWNCAACAMl80ZEIAAIAj+h9lQgAAAEnwCmZCAACAbub1ZkIAAIBu5vVmQgAAAJTc4GdCAAAAhXfMaEIAAICqbbdpQg==\",\"dtype\":\"float64\",\"shape\":[20]}},\"selected\":{\"id\":\"1830\",\"type\":\"Selection\"},\"selection_policy\":{\"id\":\"1831\",\"type\":\"UnionRenderers\"}},\"id\":\"1724\",\"type\":\"ColumnDataSource\"},{\"attributes\":{},\"id\":\"1830\",\"type\":\"Selection\"},{\"attributes\":{\"callback\":null},\"id\":\"1972\",\"type\":\"DataRange1d\"},{\"attributes\":{},\"id\":\"1976\",\"type\":\"LinearScale\"}],\"root_ids\":[\"1971\"]},\"title\":\"Bokeh Application\",\"version\":\"1.2.0\"}};\n",
       "  var render_items = [{\"docid\":\"7442985b-cdd3-480e-915d-4306a0672438\",\"roots\":{\"1971\":\"4bcda4c6-8795-4b3e-9f54-3c04e7f05e15\"}}];\n",
       "  root.Bokeh.embed.embed_items_notebook(docs_json, render_items);\n",
       "\n",
       "  }\n",
       "  if (root.Bokeh !== undefined) {\n",
       "    embed_document(root);\n",
       "  } else {\n",
       "    var attempts = 0;\n",
       "    var timer = setInterval(function(root) {\n",
       "      if (root.Bokeh !== undefined) {\n",
       "        embed_document(root);\n",
       "        clearInterval(timer);\n",
       "      }\n",
       "      attempts++;\n",
       "      if (attempts > 100) {\n",
       "        console.log(\"Bokeh: ERROR: Unable to run BokehJS code because BokehJS library is missing\");\n",
       "        clearInterval(timer);\n",
       "      }\n",
       "    }, 10, root)\n",
       "  }\n",
       "})(window);"
      ],
      "application/vnd.bokehjs_exec.v0+json": ""
     },
     "metadata": {
      "application/vnd.bokehjs_exec.v0+json": {
       "id": "1971"
      }
     },
     "output_type": "display_data"
    }
   ],
   "source": [
    "show(p)"
   ]
  },
  {
   "cell_type": "code",
   "execution_count": 32,
   "metadata": {
    "slideshow": {
     "slide_type": "slide"
    }
   },
   "outputs": [
    {
     "data": {
      "text/plain": [
       "[EDM, LAK, STL, NYR]\n",
       "Categories (4, object): [EDM, LAK, STL, NYR]"
      ]
     },
     "execution_count": 32,
     "metadata": {},
     "output_type": "execute_result"
    }
   ],
   "source": [
    "reordered = wayne.sort_values('year').tmID.unique()\n",
    "reordered"
   ]
  },
  {
   "cell_type": "code",
   "execution_count": 33,
   "metadata": {
    "slideshow": {
     "slide_type": "fragment"
    }
   },
   "outputs": [],
   "source": [
    "wayne.loc[:, \"tmID\"] = wayne.tmID.cat.reorder_categories(reordered)\n",
    "wayne.loc[:, \"tmCode\"] = wayne[\"tmID\"].cat.codes\n",
    "wayne.loc[:, \"bottom\"] = wayne.tmCode\n",
    "wayne.loc[:, \"top\"] = wayne.bottom + wayne.height"
   ]
  },
  {
   "cell_type": "code",
   "execution_count": 34,
   "metadata": {
    "slideshow": {
     "slide_type": "fragment"
    }
   },
   "outputs": [],
   "source": [
    "width = 320 * 24 * 60 * 60 * 1000"
   ]
  },
  {
   "cell_type": "code",
   "execution_count": 35,
   "metadata": {
    "slideshow": {
     "slide_type": "slide"
    }
   },
   "outputs": [],
   "source": [
    "src = cds(wayne)\n",
    "p = figure(x_axis_type='datetime',\n",
    "           height=500, width=500,\n",
    "           y_range=list(wayne.tmID.cat.categories))\n",
    "p.vbar(bottom='bottom',\n",
    "       top='top', x='year',\n",
    "       width=width, source=src)\n",
    "p.xaxis.major_label_text_font_size = \"12pt\"\n",
    "p.yaxis.major_label_text_font_size = \"12pt\""
   ]
  },
  {
   "cell_type": "code",
   "execution_count": 36,
   "metadata": {
    "slideshow": {
     "slide_type": "slide"
    }
   },
   "outputs": [
    {
     "data": {
      "text/html": [
       "\n",
       "\n",
       "\n",
       "\n",
       "\n",
       "\n",
       "  <div class=\"bk-root\" id=\"ecd60333-e8d3-4a39-b23c-85cabb37396a\" data-root-id=\"2239\"></div>\n"
      ]
     },
     "metadata": {},
     "output_type": "display_data"
    },
    {
     "data": {
      "application/javascript": [
       "(function(root) {\n",
       "  function embed_document(root) {\n",
       "    \n",
       "  var docs_json = {\"115ce929-1707-4683-abd6-741408a548e6\":{\"roots\":{\"references\":[{\"attributes\":{\"below\":[{\"id\":\"2248\",\"type\":\"DatetimeAxis\"}],\"center\":[{\"id\":\"2252\",\"type\":\"Grid\"},{\"id\":\"2256\",\"type\":\"Grid\"}],\"left\":[{\"id\":\"2253\",\"type\":\"CategoricalAxis\"}],\"plot_height\":500,\"plot_width\":500,\"renderers\":[{\"id\":\"2273\",\"type\":\"GlyphRenderer\"}],\"title\":{\"id\":\"2381\",\"type\":\"Title\"},\"toolbar\":{\"id\":\"2263\",\"type\":\"Toolbar\"},\"x_range\":{\"id\":\"2240\",\"type\":\"DataRange1d\"},\"x_scale\":{\"id\":\"2244\",\"type\":\"LinearScale\"},\"y_range\":{\"id\":\"2242\",\"type\":\"FactorRange\"},\"y_scale\":{\"id\":\"2246\",\"type\":\"CategoricalScale\"}},\"id\":\"2239\",\"subtype\":\"Figure\",\"type\":\"Plot\"},{\"attributes\":{\"months\":[0,6]},\"id\":\"2398\",\"type\":\"MonthsTicker\"},{\"attributes\":{\"months\":[0,4,8]},\"id\":\"2397\",\"type\":\"MonthsTicker\"},{\"attributes\":{},\"id\":\"2246\",\"type\":\"CategoricalScale\"},{\"attributes\":{\"formatter\":{\"id\":\"2385\",\"type\":\"DatetimeTickFormatter\"},\"major_label_text_font_size\":{\"value\":\"12pt\"},\"ticker\":{\"id\":\"2249\",\"type\":\"DatetimeTicker\"}},\"id\":\"2248\",\"type\":\"DatetimeAxis\"},{\"attributes\":{},\"id\":\"2386\",\"type\":\"Selection\"},{\"attributes\":{\"num_minor_ticks\":5,\"tickers\":[{\"id\":\"2388\",\"type\":\"AdaptiveTicker\"},{\"id\":\"2389\",\"type\":\"AdaptiveTicker\"},{\"id\":\"2390\",\"type\":\"AdaptiveTicker\"},{\"id\":\"2391\",\"type\":\"DaysTicker\"},{\"id\":\"2392\",\"type\":\"DaysTicker\"},{\"id\":\"2393\",\"type\":\"DaysTicker\"},{\"id\":\"2394\",\"type\":\"DaysTicker\"},{\"id\":\"2395\",\"type\":\"MonthsTicker\"},{\"id\":\"2396\",\"type\":\"MonthsTicker\"},{\"id\":\"2397\",\"type\":\"MonthsTicker\"},{\"id\":\"2398\",\"type\":\"MonthsTicker\"},{\"id\":\"2399\",\"type\":\"YearsTicker\"}]},\"id\":\"2249\",\"type\":\"DatetimeTicker\"},{\"attributes\":{\"days\":[1,15]},\"id\":\"2394\",\"type\":\"DaysTicker\"},{\"attributes\":{},\"id\":\"2399\",\"type\":\"YearsTicker\"},{\"attributes\":{\"ticker\":{\"id\":\"2249\",\"type\":\"DatetimeTicker\"}},\"id\":\"2252\",\"type\":\"Grid\"},{\"attributes\":{\"bottom_units\":\"screen\",\"fill_alpha\":{\"value\":0.5},\"fill_color\":{\"value\":\"lightgrey\"},\"left_units\":\"screen\",\"level\":\"overlay\",\"line_alpha\":{\"value\":1.0},\"line_color\":{\"value\":\"black\"},\"line_dash\":[4,4],\"line_width\":{\"value\":2},\"render_mode\":\"css\",\"right_units\":\"screen\",\"top_units\":\"screen\"},\"id\":\"2400\",\"type\":\"BoxAnnotation\"},{\"attributes\":{\"formatter\":{\"id\":\"2383\",\"type\":\"CategoricalTickFormatter\"},\"major_label_text_font_size\":{\"value\":\"12pt\"},\"ticker\":{\"id\":\"2254\",\"type\":\"CategoricalTicker\"}},\"id\":\"2253\",\"type\":\"CategoricalAxis\"},{\"attributes\":{\"days\":[1,4,7,10,13,16,19,22,25,28]},\"id\":\"2392\",\"type\":\"DaysTicker\"},{\"attributes\":{\"months\":[0,2,4,6,8,10]},\"id\":\"2396\",\"type\":\"MonthsTicker\"},{\"attributes\":{},\"id\":\"2254\",\"type\":\"CategoricalTicker\"},{\"attributes\":{\"mantissas\":[1,2,5],\"max_interval\":500.0,\"num_minor_ticks\":0},\"id\":\"2388\",\"type\":\"AdaptiveTicker\"},{\"attributes\":{\"callback\":null,\"data\":{\"GP\":{\"__ndarray__\":\"AAAAAAAAVEAAAAAAAABUQAAAAAAAAFRAAAAAAACAUkAAAAAAAABUQAAAAAAAAFRAAAAAAADAU0AAAAAAAABQQAAAAAAAgFNAAAAAAABAUkAAAAAAAIBTQAAAAAAAgFJAAAAAAACARkAAAAAAAEBUQAAAAAAAAEhAAAAAAAAAT0AAAAAAAAAyQAAAAAAAgFRAAAAAAACAVEAAAAAAAIBRQA==\",\"dtype\":\"float64\",\"shape\":[20]},\"Pts\":{\"__ndarray__\":\"AAAAAACAZEAAAAAAAIBqQAAAAAAAgGhAAAAAAACgaUAAAAAAAABqQAAAAAAA4GpAAAAAAADgZkAAAAAAAKBiQAAAAAAAAGVAAAAAAADAYUAAAAAAAGBkQAAAAAAAQF5AAAAAAABAUEAAAAAAAEBgQAAAAAAAAEhAAAAAAABAVEAAAAAAAAA1QAAAAAAAQFhAAAAAAACAVkAAAAAAAABPQA==\",\"dtype\":\"float64\",\"shape\":[20]},\"bottom\":{\"__ndarray__\":\"AAAAAAAAAAABAQEBAQEBAQIDAwM=\",\"dtype\":\"int8\",\"shape\":[20]},\"height\":{\"__ndarray__\":\"OB+D8zE47z84H4PzMTjvPzgfg/MxOO8/4XwMzsfg7D84H4PzMTjvPzgfg/MxOO8/1K5E7UrU7j/6GJyPwfnoP3A+BudjcO4/fQzOx+B87D9wPgbnY3DuP+F8DM7H4Ow/kMH5GJyP4T+cj8H5GJzvP7sStStRu+I/Mjgfg/Mx6D8ZnI/B+RjMPwAAAAAAAPA/AAAAAAAA8D9RuxK1K1HrPw==\",\"dtype\":\"float64\",\"shape\":[20]},\"playerID\":[\"gretzwa01\",\"gretzwa01\",\"gretzwa01\",\"gretzwa01\",\"gretzwa01\",\"gretzwa01\",\"gretzwa01\",\"gretzwa01\",\"gretzwa01\",\"gretzwa01\",\"gretzwa01\",\"gretzwa01\",\"gretzwa01\",\"gretzwa01\",\"gretzwa01\",\"gretzwa01\",\"gretzwa01\",\"gretzwa01\",\"gretzwa01\",\"gretzwa01\"],\"pts_per_game\":{\"__ndarray__\":\"ZmZmZmZmAEAzMzMzMzMFQJqZmZmZmQNAmCKfdYMpBkDNzMzMzMwEQAAAAAAAgAVAEJWO7BmIAkAAAAAAAKACQLETO7ETOwFA+fHjx48f/z99y7d8y7cAQJgin3WDKfo/x3Ecx3Ec9z+IRcrA0635PwAAAAAAAPA/55xzzjnn9D+rqqqqqqryP+1K1K5E7fI/kMH5GJyP8T98xVd8xVfsPw==\",\"dtype\":\"float64\",\"shape\":[20]},\"tmCode\":{\"__ndarray__\":\"AAAAAAAAAAABAQEBAQEBAQIDAwM=\",\"dtype\":\"int8\",\"shape\":[20]},\"tmID\":[\"EDM\",\"EDM\",\"EDM\",\"EDM\",\"EDM\",\"EDM\",\"EDM\",\"EDM\",\"LAK\",\"LAK\",\"LAK\",\"LAK\",\"LAK\",\"LAK\",\"LAK\",\"LAK\",\"STL\",\"NYR\",\"NYR\",\"NYR\"],\"top\":{\"__ndarray__\":\"OB+D8zE47z84H4PzMTjvPzgfg/MxOO8/4XwMzsfg7D84H4PzMTjvPzgfg/MxOO8/1K5E7UrU7j/6GJyPwfnoPzgfg/MxOP8/PgbnY3A+/j84H4PzMTj/P3A+BudjcP4/yOB8DM7H+D/Ox+B8DM7/P16J2pWoXfk/GZyPwfkY/D/C+Ricj8EBQAAAAAAAABBAAAAAAAAAEEDUrkTtStQOQA==\",\"dtype\":\"float64\",\"shape\":[20]},\"year\":{\"__ndarray__\":\"AAAAHM5dUkIAAAD+AzVUQgAAAEnwClZCAAAAlNzgV0IAAADfyLZZQgAAAMH+jVtCAAAADOtjXUIAAABX1zlfQgAAANHhh2BCAAAAwnxzYUIAAIDncl5iQgAAAA1pSWNCAACAMl80ZEIAAIAj+h9lQgAAAEnwCmZCAACAbub1ZkIAAIBu5vVmQgAAAJTc4GdCAAAAhXfMaEIAAICqbbdpQg==\",\"dtype\":\"float64\",\"shape\":[20]}},\"selected\":{\"id\":\"2386\",\"type\":\"Selection\"},\"selection_policy\":{\"id\":\"2387\",\"type\":\"UnionRenderers\"}},\"id\":\"2238\",\"type\":\"ColumnDataSource\"},{\"attributes\":{\"days\":[1,8,15,22]},\"id\":\"2393\",\"type\":\"DaysTicker\"},{\"attributes\":{\"dimension\":1,\"ticker\":{\"id\":\"2254\",\"type\":\"CategoricalTicker\"}},\"id\":\"2256\",\"type\":\"Grid\"},{\"attributes\":{\"bottom\":{\"field\":\"bottom\"},\"fill_alpha\":{\"value\":0.1},\"fill_color\":{\"value\":\"#1f77b4\"},\"line_alpha\":{\"value\":0.1},\"line_color\":{\"value\":\"#1f77b4\"},\"top\":{\"field\":\"top\"},\"width\":{\"value\":27648000000},\"x\":{\"field\":\"year\"}},\"id\":\"2272\",\"type\":\"VBar\"},{\"attributes\":{\"bottom\":{\"field\":\"bottom\"},\"fill_color\":{\"value\":\"#1f77b4\"},\"line_color\":{\"value\":\"#1f77b4\"},\"top\":{\"field\":\"top\"},\"width\":{\"value\":27648000000},\"x\":{\"field\":\"year\"}},\"id\":\"2271\",\"type\":\"VBar\"},{\"attributes\":{\"source\":{\"id\":\"2238\",\"type\":\"ColumnDataSource\"}},\"id\":\"2274\",\"type\":\"CDSView\"},{\"attributes\":{},\"id\":\"2257\",\"type\":\"PanTool\"},{\"attributes\":{},\"id\":\"2258\",\"type\":\"WheelZoomTool\"},{\"attributes\":{\"text\":\"\"},\"id\":\"2381\",\"type\":\"Title\"},{\"attributes\":{\"overlay\":{\"id\":\"2400\",\"type\":\"BoxAnnotation\"}},\"id\":\"2259\",\"type\":\"BoxZoomTool\"},{\"attributes\":{},\"id\":\"2385\",\"type\":\"DatetimeTickFormatter\"},{\"attributes\":{\"months\":[0,1,2,3,4,5,6,7,8,9,10,11]},\"id\":\"2395\",\"type\":\"MonthsTicker\"},{\"attributes\":{},\"id\":\"2260\",\"type\":\"SaveTool\"},{\"attributes\":{\"base\":60,\"mantissas\":[1,2,5,10,15,20,30],\"max_interval\":1800000.0,\"min_interval\":1000.0,\"num_minor_ticks\":0},\"id\":\"2389\",\"type\":\"AdaptiveTicker\"},{\"attributes\":{},\"id\":\"2244\",\"type\":\"LinearScale\"},{\"attributes\":{},\"id\":\"2261\",\"type\":\"ResetTool\"},{\"attributes\":{},\"id\":\"2383\",\"type\":\"CategoricalTickFormatter\"},{\"attributes\":{\"days\":[1,2,3,4,5,6,7,8,9,10,11,12,13,14,15,16,17,18,19,20,21,22,23,24,25,26,27,28,29,30,31]},\"id\":\"2391\",\"type\":\"DaysTicker\"},{\"attributes\":{\"base\":24,\"mantissas\":[1,2,4,6,8,12],\"max_interval\":43200000.0,\"min_interval\":3600000.0,\"num_minor_ticks\":0},\"id\":\"2390\",\"type\":\"AdaptiveTicker\"},{\"attributes\":{},\"id\":\"2262\",\"type\":\"HelpTool\"},{\"attributes\":{\"callback\":null,\"factors\":[\"EDM\",\"LAK\",\"STL\",\"NYR\"]},\"id\":\"2242\",\"type\":\"FactorRange\"},{\"attributes\":{},\"id\":\"2387\",\"type\":\"UnionRenderers\"},{\"attributes\":{\"active_drag\":\"auto\",\"active_inspect\":\"auto\",\"active_multi\":null,\"active_scroll\":\"auto\",\"active_tap\":\"auto\",\"tools\":[{\"id\":\"2257\",\"type\":\"PanTool\"},{\"id\":\"2258\",\"type\":\"WheelZoomTool\"},{\"id\":\"2259\",\"type\":\"BoxZoomTool\"},{\"id\":\"2260\",\"type\":\"SaveTool\"},{\"id\":\"2261\",\"type\":\"ResetTool\"},{\"id\":\"2262\",\"type\":\"HelpTool\"}]},\"id\":\"2263\",\"type\":\"Toolbar\"},{\"attributes\":{\"data_source\":{\"id\":\"2238\",\"type\":\"ColumnDataSource\"},\"glyph\":{\"id\":\"2271\",\"type\":\"VBar\"},\"hover_glyph\":null,\"muted_glyph\":null,\"nonselection_glyph\":{\"id\":\"2272\",\"type\":\"VBar\"},\"selection_glyph\":null,\"view\":{\"id\":\"2274\",\"type\":\"CDSView\"}},\"id\":\"2273\",\"type\":\"GlyphRenderer\"},{\"attributes\":{\"callback\":null},\"id\":\"2240\",\"type\":\"DataRange1d\"}],\"root_ids\":[\"2239\"]},\"title\":\"Bokeh Application\",\"version\":\"1.2.0\"}};\n",
       "  var render_items = [{\"docid\":\"115ce929-1707-4683-abd6-741408a548e6\",\"roots\":{\"2239\":\"ecd60333-e8d3-4a39-b23c-85cabb37396a\"}}];\n",
       "  root.Bokeh.embed.embed_items_notebook(docs_json, render_items);\n",
       "\n",
       "  }\n",
       "  if (root.Bokeh !== undefined) {\n",
       "    embed_document(root);\n",
       "  } else {\n",
       "    var attempts = 0;\n",
       "    var timer = setInterval(function(root) {\n",
       "      if (root.Bokeh !== undefined) {\n",
       "        embed_document(root);\n",
       "        clearInterval(timer);\n",
       "      }\n",
       "      attempts++;\n",
       "      if (attempts > 100) {\n",
       "        console.log(\"Bokeh: ERROR: Unable to run BokehJS code because BokehJS library is missing\");\n",
       "        clearInterval(timer);\n",
       "      }\n",
       "    }, 10, root)\n",
       "  }\n",
       "})(window);"
      ],
      "application/vnd.bokehjs_exec.v0+json": ""
     },
     "metadata": {
      "application/vnd.bokehjs_exec.v0+json": {
       "id": "2239"
      }
     },
     "output_type": "display_data"
    }
   ],
   "source": [
    "show(p)"
   ]
  },
  {
   "cell_type": "code",
   "execution_count": 37,
   "metadata": {
    "slideshow": {
     "slide_type": "slide"
    }
   },
   "outputs": [],
   "source": [
    "wayne.loc[:, \"bottom\"] = wayne.tmCode - (wayne.height / 2.0 ) + 0.5\n",
    "wayne.loc[:, \"top\"] = wayne.bottom + wayne.height"
   ]
  },
  {
   "cell_type": "code",
   "execution_count": 38,
   "metadata": {
    "slideshow": {
     "slide_type": "slide"
    }
   },
   "outputs": [],
   "source": [
    "src = cds(wayne)\n",
    "p = figure(x_axis_type='datetime',\n",
    "           height=500, width=500,\n",
    "           y_range=list(wayne.tmID.cat.categories))\n",
    "p.vbar(bottom='bottom',\n",
    "       top='top', x='year',\n",
    "       width=width, source=src)\n",
    "p.xaxis.major_label_text_font_size = \"12pt\"\n",
    "p.yaxis.major_label_text_font_size = \"12pt\""
   ]
  },
  {
   "cell_type": "code",
   "execution_count": 39,
   "metadata": {
    "slideshow": {
     "slide_type": "slide"
    }
   },
   "outputs": [
    {
     "data": {
      "text/html": [
       "\n",
       "\n",
       "\n",
       "\n",
       "\n",
       "\n",
       "  <div class=\"bk-root\" id=\"11345fab-12bd-4578-a237-354a020eea11\" data-root-id=\"2528\"></div>\n"
      ]
     },
     "metadata": {},
     "output_type": "display_data"
    },
    {
     "data": {
      "application/javascript": [
       "(function(root) {\n",
       "  function embed_document(root) {\n",
       "    \n",
       "  var docs_json = {\"f7e65880-01be-4dcc-b2d5-b94aa43159d6\":{\"roots\":{\"references\":[{\"attributes\":{\"below\":[{\"id\":\"2537\",\"type\":\"DatetimeAxis\"}],\"center\":[{\"id\":\"2541\",\"type\":\"Grid\"},{\"id\":\"2545\",\"type\":\"Grid\"}],\"left\":[{\"id\":\"2542\",\"type\":\"CategoricalAxis\"}],\"plot_height\":500,\"plot_width\":500,\"renderers\":[{\"id\":\"2562\",\"type\":\"GlyphRenderer\"}],\"title\":{\"id\":\"2691\",\"type\":\"Title\"},\"toolbar\":{\"id\":\"2552\",\"type\":\"Toolbar\"},\"x_range\":{\"id\":\"2529\",\"type\":\"DataRange1d\"},\"x_scale\":{\"id\":\"2533\",\"type\":\"LinearScale\"},\"y_range\":{\"id\":\"2531\",\"type\":\"FactorRange\"},\"y_scale\":{\"id\":\"2535\",\"type\":\"CategoricalScale\"}},\"id\":\"2528\",\"subtype\":\"Figure\",\"type\":\"Plot\"},{\"attributes\":{},\"id\":\"2551\",\"type\":\"HelpTool\"},{\"attributes\":{\"active_drag\":\"auto\",\"active_inspect\":\"auto\",\"active_multi\":null,\"active_scroll\":\"auto\",\"active_tap\":\"auto\",\"tools\":[{\"id\":\"2546\",\"type\":\"PanTool\"},{\"id\":\"2547\",\"type\":\"WheelZoomTool\"},{\"id\":\"2548\",\"type\":\"BoxZoomTool\"},{\"id\":\"2549\",\"type\":\"SaveTool\"},{\"id\":\"2550\",\"type\":\"ResetTool\"},{\"id\":\"2551\",\"type\":\"HelpTool\"}]},\"id\":\"2552\",\"type\":\"Toolbar\"},{\"attributes\":{},\"id\":\"2546\",\"type\":\"PanTool\"},{\"attributes\":{\"ticker\":{\"id\":\"2538\",\"type\":\"DatetimeTicker\"}},\"id\":\"2541\",\"type\":\"Grid\"},{\"attributes\":{\"callback\":null,\"factors\":[\"EDM\",\"LAK\",\"STL\",\"NYR\"]},\"id\":\"2531\",\"type\":\"FactorRange\"},{\"attributes\":{\"callback\":null},\"id\":\"2529\",\"type\":\"DataRange1d\"},{\"attributes\":{\"overlay\":{\"id\":\"2710\",\"type\":\"BoxAnnotation\"}},\"id\":\"2548\",\"type\":\"BoxZoomTool\"},{\"attributes\":{},\"id\":\"2547\",\"type\":\"WheelZoomTool\"},{\"attributes\":{},\"id\":\"2535\",\"type\":\"CategoricalScale\"},{\"attributes\":{\"days\":[1,8,15,22]},\"id\":\"2703\",\"type\":\"DaysTicker\"},{\"attributes\":{\"months\":[0,2,4,6,8,10]},\"id\":\"2706\",\"type\":\"MonthsTicker\"},{\"attributes\":{},\"id\":\"2550\",\"type\":\"ResetTool\"},{\"attributes\":{},\"id\":\"2696\",\"type\":\"Selection\"},{\"attributes\":{\"mantissas\":[1,2,5],\"max_interval\":500.0,\"num_minor_ticks\":0},\"id\":\"2698\",\"type\":\"AdaptiveTicker\"},{\"attributes\":{\"bottom\":{\"field\":\"bottom\"},\"fill_alpha\":{\"value\":0.1},\"fill_color\":{\"value\":\"#1f77b4\"},\"line_alpha\":{\"value\":0.1},\"line_color\":{\"value\":\"#1f77b4\"},\"top\":{\"field\":\"top\"},\"width\":{\"value\":27648000000},\"x\":{\"field\":\"year\"}},\"id\":\"2561\",\"type\":\"VBar\"},{\"attributes\":{\"data_source\":{\"id\":\"2527\",\"type\":\"ColumnDataSource\"},\"glyph\":{\"id\":\"2560\",\"type\":\"VBar\"},\"hover_glyph\":null,\"muted_glyph\":null,\"nonselection_glyph\":{\"id\":\"2561\",\"type\":\"VBar\"},\"selection_glyph\":null,\"view\":{\"id\":\"2563\",\"type\":\"CDSView\"}},\"id\":\"2562\",\"type\":\"GlyphRenderer\"},{\"attributes\":{\"base\":60,\"mantissas\":[1,2,5,10,15,20,30],\"max_interval\":1800000.0,\"min_interval\":1000.0,\"num_minor_ticks\":0},\"id\":\"2699\",\"type\":\"AdaptiveTicker\"},{\"attributes\":{},\"id\":\"2697\",\"type\":\"UnionRenderers\"},{\"attributes\":{\"days\":[1,2,3,4,5,6,7,8,9,10,11,12,13,14,15,16,17,18,19,20,21,22,23,24,25,26,27,28,29,30,31]},\"id\":\"2701\",\"type\":\"DaysTicker\"},{\"attributes\":{},\"id\":\"2693\",\"type\":\"CategoricalTickFormatter\"},{\"attributes\":{\"num_minor_ticks\":5,\"tickers\":[{\"id\":\"2698\",\"type\":\"AdaptiveTicker\"},{\"id\":\"2699\",\"type\":\"AdaptiveTicker\"},{\"id\":\"2700\",\"type\":\"AdaptiveTicker\"},{\"id\":\"2701\",\"type\":\"DaysTicker\"},{\"id\":\"2702\",\"type\":\"DaysTicker\"},{\"id\":\"2703\",\"type\":\"DaysTicker\"},{\"id\":\"2704\",\"type\":\"DaysTicker\"},{\"id\":\"2705\",\"type\":\"MonthsTicker\"},{\"id\":\"2706\",\"type\":\"MonthsTicker\"},{\"id\":\"2707\",\"type\":\"MonthsTicker\"},{\"id\":\"2708\",\"type\":\"MonthsTicker\"},{\"id\":\"2709\",\"type\":\"YearsTicker\"}]},\"id\":\"2538\",\"type\":\"DatetimeTicker\"},{\"attributes\":{\"formatter\":{\"id\":\"2695\",\"type\":\"DatetimeTickFormatter\"},\"major_label_text_font_size\":{\"value\":\"12pt\"},\"ticker\":{\"id\":\"2538\",\"type\":\"DatetimeTicker\"}},\"id\":\"2537\",\"type\":\"DatetimeAxis\"},{\"attributes\":{},\"id\":\"2549\",\"type\":\"SaveTool\"},{\"attributes\":{\"months\":[0,1,2,3,4,5,6,7,8,9,10,11]},\"id\":\"2705\",\"type\":\"MonthsTicker\"},{\"attributes\":{\"dimension\":1,\"ticker\":{\"id\":\"2543\",\"type\":\"CategoricalTicker\"}},\"id\":\"2545\",\"type\":\"Grid\"},{\"attributes\":{},\"id\":\"2533\",\"type\":\"LinearScale\"},{\"attributes\":{\"days\":[1,4,7,10,13,16,19,22,25,28]},\"id\":\"2702\",\"type\":\"DaysTicker\"},{\"attributes\":{},\"id\":\"2543\",\"type\":\"CategoricalTicker\"},{\"attributes\":{\"source\":{\"id\":\"2527\",\"type\":\"ColumnDataSource\"}},\"id\":\"2563\",\"type\":\"CDSView\"},{\"attributes\":{\"base\":24,\"mantissas\":[1,2,4,6,8,12],\"max_interval\":43200000.0,\"min_interval\":3600000.0,\"num_minor_ticks\":0},\"id\":\"2700\",\"type\":\"AdaptiveTicker\"},{\"attributes\":{\"months\":[0,4,8]},\"id\":\"2707\",\"type\":\"MonthsTicker\"},{\"attributes\":{\"bottom_units\":\"screen\",\"fill_alpha\":{\"value\":0.5},\"fill_color\":{\"value\":\"lightgrey\"},\"left_units\":\"screen\",\"level\":\"overlay\",\"line_alpha\":{\"value\":1.0},\"line_color\":{\"value\":\"black\"},\"line_dash\":[4,4],\"line_width\":{\"value\":2},\"render_mode\":\"css\",\"right_units\":\"screen\",\"top_units\":\"screen\"},\"id\":\"2710\",\"type\":\"BoxAnnotation\"},{\"attributes\":{\"callback\":null,\"data\":{\"GP\":{\"__ndarray__\":\"AAAAAAAAVEAAAAAAAABUQAAAAAAAAFRAAAAAAACAUkAAAAAAAABUQAAAAAAAAFRAAAAAAADAU0AAAAAAAABQQAAAAAAAgFNAAAAAAABAUkAAAAAAAIBTQAAAAAAAgFJAAAAAAACARkAAAAAAAEBUQAAAAAAAAEhAAAAAAAAAT0AAAAAAAAAyQAAAAAAAgFRAAAAAAACAVEAAAAAAAIBRQA==\",\"dtype\":\"float64\",\"shape\":[20]},\"Pts\":{\"__ndarray__\":\"AAAAAACAZEAAAAAAAIBqQAAAAAAAgGhAAAAAAACgaUAAAAAAAABqQAAAAAAA4GpAAAAAAADgZkAAAAAAAKBiQAAAAAAAAGVAAAAAAADAYUAAAAAAAGBkQAAAAAAAQF5AAAAAAABAUEAAAAAAAEBgQAAAAAAAAEhAAAAAAABAVEAAAAAAAAA1QAAAAAAAQFhAAAAAAACAVkAAAAAAAABPQA==\",\"dtype\":\"float64\",\"shape\":[20]},\"bottom\":{\"__ndarray__\":\"ABmcj8H5iD8AGZyPwfmIPwAZnI/B+Yg/+Bicj8H5qD8AGZyPwfmIPwAZnI/B+Yg/wBK1K1G7kj8YnI/B+Ri8P2RwPgbnY/A/4XwMzsfg8D9kcD4G52PwP8jgfAzOx/A/nI/B+Ric8z8ZnI/B+RjwP1G7ErUrUfM/9DE4H4Pz8T8fg/MxOB8DQAAAAAAAAAhAAAAAAAAACECWqF2J2pUIQA==\",\"dtype\":\"float64\",\"shape\":[20]},\"height\":{\"__ndarray__\":\"OB+D8zE47z84H4PzMTjvPzgfg/MxOO8/4XwMzsfg7D84H4PzMTjvPzgfg/MxOO8/1K5E7UrU7j/6GJyPwfnoP3A+BudjcO4/fQzOx+B87D9wPgbnY3DuP+F8DM7H4Ow/kMH5GJyP4T+cj8H5GJzvP7sStStRu+I/Mjgfg/Mx6D8ZnI/B+RjMPwAAAAAAAPA/AAAAAAAA8D9RuxK1K1HrPw==\",\"dtype\":\"float64\",\"shape\":[20]},\"playerID\":[\"gretzwa01\",\"gretzwa01\",\"gretzwa01\",\"gretzwa01\",\"gretzwa01\",\"gretzwa01\",\"gretzwa01\",\"gretzwa01\",\"gretzwa01\",\"gretzwa01\",\"gretzwa01\",\"gretzwa01\",\"gretzwa01\",\"gretzwa01\",\"gretzwa01\",\"gretzwa01\",\"gretzwa01\",\"gretzwa01\",\"gretzwa01\",\"gretzwa01\"],\"pts_per_game\":{\"__ndarray__\":\"ZmZmZmZmAEAzMzMzMzMFQJqZmZmZmQNAmCKfdYMpBkDNzMzMzMwEQAAAAAAAgAVAEJWO7BmIAkAAAAAAAKACQLETO7ETOwFA+fHjx48f/z99y7d8y7cAQJgin3WDKfo/x3Ecx3Ec9z+IRcrA0635PwAAAAAAAPA/55xzzjnn9D+rqqqqqqryP+1K1K5E7fI/kMH5GJyP8T98xVd8xVfsPw==\",\"dtype\":\"float64\",\"shape\":[20]},\"tmCode\":{\"__ndarray__\":\"AAAAAAAAAAABAQEBAQEBAQIDAwM=\",\"dtype\":\"int8\",\"shape\":[20]},\"tmID\":[\"EDM\",\"EDM\",\"EDM\",\"EDM\",\"EDM\",\"EDM\",\"EDM\",\"EDM\",\"LAK\",\"LAK\",\"LAK\",\"LAK\",\"LAK\",\"LAK\",\"LAK\",\"LAK\",\"STL\",\"NYR\",\"NYR\",\"NYR\"],\"top\":{\"__ndarray__\":\"nI/B+Ric7z+cj8H5GJzvP5yPwfkYnO8/cD4G52Nw7j+cj8H5GJzvP5yPwfkYnO8/aleidiVq7z99DM7H4HzsP5yPwfkYnP8/IIPzMTgf/z+cj8H5GJz/Pzgfg/MxOP8/ZHA+Budj/D/nY3A+Buf/P65E7UrUrvw/Dc7H4HwM/j/hfAzOx+AEQAAAAAAAABBAAAAAAAAAEEBqV6J2JWoPQA==\",\"dtype\":\"float64\",\"shape\":[20]},\"year\":{\"__ndarray__\":\"AAAAHM5dUkIAAAD+AzVUQgAAAEnwClZCAAAAlNzgV0IAAADfyLZZQgAAAMH+jVtCAAAADOtjXUIAAABX1zlfQgAAANHhh2BCAAAAwnxzYUIAAIDncl5iQgAAAA1pSWNCAACAMl80ZEIAAIAj+h9lQgAAAEnwCmZCAACAbub1ZkIAAIBu5vVmQgAAAJTc4GdCAAAAhXfMaEIAAICqbbdpQg==\",\"dtype\":\"float64\",\"shape\":[20]}},\"selected\":{\"id\":\"2696\",\"type\":\"Selection\"},\"selection_policy\":{\"id\":\"2697\",\"type\":\"UnionRenderers\"}},\"id\":\"2527\",\"type\":\"ColumnDataSource\"},{\"attributes\":{},\"id\":\"2709\",\"type\":\"YearsTicker\"},{\"attributes\":{\"formatter\":{\"id\":\"2693\",\"type\":\"CategoricalTickFormatter\"},\"major_label_text_font_size\":{\"value\":\"12pt\"},\"ticker\":{\"id\":\"2543\",\"type\":\"CategoricalTicker\"}},\"id\":\"2542\",\"type\":\"CategoricalAxis\"},{\"attributes\":{\"months\":[0,6]},\"id\":\"2708\",\"type\":\"MonthsTicker\"},{\"attributes\":{},\"id\":\"2695\",\"type\":\"DatetimeTickFormatter\"},{\"attributes\":{\"text\":\"\"},\"id\":\"2691\",\"type\":\"Title\"},{\"attributes\":{\"days\":[1,15]},\"id\":\"2704\",\"type\":\"DaysTicker\"},{\"attributes\":{\"bottom\":{\"field\":\"bottom\"},\"fill_color\":{\"value\":\"#1f77b4\"},\"line_color\":{\"value\":\"#1f77b4\"},\"top\":{\"field\":\"top\"},\"width\":{\"value\":27648000000},\"x\":{\"field\":\"year\"}},\"id\":\"2560\",\"type\":\"VBar\"}],\"root_ids\":[\"2528\"]},\"title\":\"Bokeh Application\",\"version\":\"1.2.0\"}};\n",
       "  var render_items = [{\"docid\":\"f7e65880-01be-4dcc-b2d5-b94aa43159d6\",\"roots\":{\"2528\":\"11345fab-12bd-4578-a237-354a020eea11\"}}];\n",
       "  root.Bokeh.embed.embed_items_notebook(docs_json, render_items);\n",
       "\n",
       "  }\n",
       "  if (root.Bokeh !== undefined) {\n",
       "    embed_document(root);\n",
       "  } else {\n",
       "    var attempts = 0;\n",
       "    var timer = setInterval(function(root) {\n",
       "      if (root.Bokeh !== undefined) {\n",
       "        embed_document(root);\n",
       "        clearInterval(timer);\n",
       "      }\n",
       "      attempts++;\n",
       "      if (attempts > 100) {\n",
       "        console.log(\"Bokeh: ERROR: Unable to run BokehJS code because BokehJS library is missing\");\n",
       "        clearInterval(timer);\n",
       "      }\n",
       "    }, 10, root)\n",
       "  }\n",
       "})(window);"
      ],
      "application/vnd.bokehjs_exec.v0+json": ""
     },
     "metadata": {
      "application/vnd.bokehjs_exec.v0+json": {
       "id": "2528"
      }
     },
     "output_type": "display_data"
    }
   ],
   "source": [
    "show(p)"
   ]
  },
  {
   "cell_type": "code",
   "execution_count": 40,
   "metadata": {
    "slideshow": {
     "slide_type": "slide"
    }
   },
   "outputs": [],
   "source": [
    "wayne.loc[:, \"height\"] = wayne.GP / gp_max * 0.8\n",
    "wayne.loc[:, \"bottom\"] = wayne.tmCode - (wayne.height / 2.0 ) + 0.5\n",
    "wayne.loc[:, \"top\"] = wayne.bottom + wayne.height"
   ]
  },
  {
   "cell_type": "code",
   "execution_count": 41,
   "metadata": {
    "slideshow": {
     "slide_type": "slide"
    }
   },
   "outputs": [],
   "source": [
    "src = cds(wayne)\n",
    "p = figure(x_axis_type='datetime',\n",
    "           height=500, width=500,\n",
    "           y_range=list(wayne.tmID.cat.categories))\n",
    "p.vbar(bottom='bottom',\n",
    "       top='top', x='year',\n",
    "       width=width, source=src)\n",
    "p.xaxis.major_label_text_font_size = \"12pt\"\n",
    "p.yaxis.major_label_text_font_size = \"12pt\""
   ]
  },
  {
   "cell_type": "code",
   "execution_count": 42,
   "metadata": {
    "slideshow": {
     "slide_type": "slide"
    }
   },
   "outputs": [
    {
     "data": {
      "text/html": [
       "\n",
       "\n",
       "\n",
       "\n",
       "\n",
       "\n",
       "  <div class=\"bk-root\" id=\"dab433a7-fb25-4bfb-850a-840263ec6fa9\" data-root-id=\"2838\"></div>\n"
      ]
     },
     "metadata": {},
     "output_type": "display_data"
    },
    {
     "data": {
      "application/javascript": [
       "(function(root) {\n",
       "  function embed_document(root) {\n",
       "    \n",
       "  var docs_json = {\"f65c01b0-89e3-410e-82e9-6856045bc96b\":{\"roots\":{\"references\":[{\"attributes\":{\"below\":[{\"id\":\"2847\",\"type\":\"DatetimeAxis\"}],\"center\":[{\"id\":\"2851\",\"type\":\"Grid\"},{\"id\":\"2855\",\"type\":\"Grid\"}],\"left\":[{\"id\":\"2852\",\"type\":\"CategoricalAxis\"}],\"plot_height\":500,\"plot_width\":500,\"renderers\":[{\"id\":\"2872\",\"type\":\"GlyphRenderer\"}],\"title\":{\"id\":\"3022\",\"type\":\"Title\"},\"toolbar\":{\"id\":\"2862\",\"type\":\"Toolbar\"},\"x_range\":{\"id\":\"2839\",\"type\":\"DataRange1d\"},\"x_scale\":{\"id\":\"2843\",\"type\":\"LinearScale\"},\"y_range\":{\"id\":\"2841\",\"type\":\"FactorRange\"},\"y_scale\":{\"id\":\"2845\",\"type\":\"CategoricalScale\"}},\"id\":\"2838\",\"subtype\":\"Figure\",\"type\":\"Plot\"},{\"attributes\":{\"formatter\":{\"id\":\"3024\",\"type\":\"CategoricalTickFormatter\"},\"major_label_text_font_size\":{\"value\":\"12pt\"},\"ticker\":{\"id\":\"2853\",\"type\":\"CategoricalTicker\"}},\"id\":\"2852\",\"type\":\"CategoricalAxis\"},{\"attributes\":{},\"id\":\"2853\",\"type\":\"CategoricalTicker\"},{\"attributes\":{},\"id\":\"3024\",\"type\":\"CategoricalTickFormatter\"},{\"attributes\":{\"dimension\":1,\"ticker\":{\"id\":\"2853\",\"type\":\"CategoricalTicker\"}},\"id\":\"2855\",\"type\":\"Grid\"},{\"attributes\":{\"bottom\":{\"field\":\"bottom\"},\"fill_alpha\":{\"value\":0.1},\"fill_color\":{\"value\":\"#1f77b4\"},\"line_alpha\":{\"value\":0.1},\"line_color\":{\"value\":\"#1f77b4\"},\"top\":{\"field\":\"top\"},\"width\":{\"value\":27648000000},\"x\":{\"field\":\"year\"}},\"id\":\"2871\",\"type\":\"VBar\"},{\"attributes\":{\"callback\":null},\"id\":\"2839\",\"type\":\"DataRange1d\"},{\"attributes\":{\"months\":[0,2,4,6,8,10]},\"id\":\"3037\",\"type\":\"MonthsTicker\"},{\"attributes\":{\"bottom\":{\"field\":\"bottom\"},\"fill_color\":{\"value\":\"#1f77b4\"},\"line_color\":{\"value\":\"#1f77b4\"},\"top\":{\"field\":\"top\"},\"width\":{\"value\":27648000000},\"x\":{\"field\":\"year\"}},\"id\":\"2870\",\"type\":\"VBar\"},{\"attributes\":{\"months\":[0,6]},\"id\":\"3039\",\"type\":\"MonthsTicker\"},{\"attributes\":{},\"id\":\"3028\",\"type\":\"UnionRenderers\"},{\"attributes\":{\"callback\":null,\"factors\":[\"EDM\",\"LAK\",\"STL\",\"NYR\"]},\"id\":\"2841\",\"type\":\"FactorRange\"},{\"attributes\":{},\"id\":\"2856\",\"type\":\"PanTool\"},{\"attributes\":{},\"id\":\"2845\",\"type\":\"CategoricalScale\"},{\"attributes\":{\"base\":60,\"mantissas\":[1,2,5,10,15,20,30],\"max_interval\":1800000.0,\"min_interval\":1000.0,\"num_minor_ticks\":0},\"id\":\"3030\",\"type\":\"AdaptiveTicker\"},{\"attributes\":{},\"id\":\"2857\",\"type\":\"WheelZoomTool\"},{\"attributes\":{\"days\":[1,4,7,10,13,16,19,22,25,28]},\"id\":\"3033\",\"type\":\"DaysTicker\"},{\"attributes\":{\"formatter\":{\"id\":\"3026\",\"type\":\"DatetimeTickFormatter\"},\"major_label_text_font_size\":{\"value\":\"12pt\"},\"ticker\":{\"id\":\"2848\",\"type\":\"DatetimeTicker\"}},\"id\":\"2847\",\"type\":\"DatetimeAxis\"},{\"attributes\":{\"overlay\":{\"id\":\"3041\",\"type\":\"BoxAnnotation\"}},\"id\":\"2858\",\"type\":\"BoxZoomTool\"},{\"attributes\":{\"mantissas\":[1,2,5],\"max_interval\":500.0,\"num_minor_ticks\":0},\"id\":\"3029\",\"type\":\"AdaptiveTicker\"},{\"attributes\":{},\"id\":\"3040\",\"type\":\"YearsTicker\"},{\"attributes\":{},\"id\":\"3026\",\"type\":\"DatetimeTickFormatter\"},{\"attributes\":{},\"id\":\"2859\",\"type\":\"SaveTool\"},{\"attributes\":{},\"id\":\"3027\",\"type\":\"Selection\"},{\"attributes\":{\"callback\":null,\"data\":{\"GP\":{\"__ndarray__\":\"AAAAAAAAVEAAAAAAAABUQAAAAAAAAFRAAAAAAACAUkAAAAAAAABUQAAAAAAAAFRAAAAAAADAU0AAAAAAAABQQAAAAAAAgFNAAAAAAABAUkAAAAAAAIBTQAAAAAAAgFJAAAAAAACARkAAAAAAAEBUQAAAAAAAAEhAAAAAAAAAT0AAAAAAAAAyQAAAAAAAgFRAAAAAAACAVEAAAAAAAIBRQA==\",\"dtype\":\"float64\",\"shape\":[20]},\"Pts\":{\"__ndarray__\":\"AAAAAACAZEAAAAAAAIBqQAAAAAAAgGhAAAAAAACgaUAAAAAAAABqQAAAAAAA4GpAAAAAAADgZkAAAAAAAKBiQAAAAAAAAGVAAAAAAADAYUAAAAAAAGBkQAAAAAAAQF5AAAAAAABAUEAAAAAAAEBgQAAAAAAAAEhAAAAAAABAVEAAAAAAAAA1QAAAAAAAQFhAAAAAAACAVkAAAAAAAABPQA==\",\"dtype\":\"float64\",\"shape\":[20]},\"bottom\":{\"__ndarray__\":\"GJyPwfkYvD8YnI/B+Ri8Pxicj8H5GLw/ytG4HI3LwT8YnI/B+Ri8Pxicj8H5GLw/WJ2K1alYvT8I2J+A/QnIP+pZmJ6F6fE/TcrWpGxN8j/qWZiehenxPzkal6NxOfI/fQzOx+B89D+uSdmalK3xP0H8DsTvQPQ/KVuTsjUp8z9Mz8L0LEwDQM3MzMzMzAhAzczMzMzMCEBF7UrUrkQJQA==\",\"dtype\":\"float64\",\"shape\":[20]},\"height\":{\"__ndarray__\":\"+hicj8H56D/6GJyPwfnoP/oYnI/B+eg/G5ejcTka5z/6GJyPwfnoP/oYnI/B+eg/qliditWp6D/8E7A/AfvjP1qYnoXpWeg/y9akbE3K5j9amJ6F6VnoPxuXo3E5Guc/GpyPwfkY3D9K2ZqUrUnpP/gdiN+B+N0/XJOyNSlb4z97FqZnYXrGP5qZmZmZmek/mpmZmZmZ6T/blahdidrlPw==\",\"dtype\":\"float64\",\"shape\":[20]},\"playerID\":[\"gretzwa01\",\"gretzwa01\",\"gretzwa01\",\"gretzwa01\",\"gretzwa01\",\"gretzwa01\",\"gretzwa01\",\"gretzwa01\",\"gretzwa01\",\"gretzwa01\",\"gretzwa01\",\"gretzwa01\",\"gretzwa01\",\"gretzwa01\",\"gretzwa01\",\"gretzwa01\",\"gretzwa01\",\"gretzwa01\",\"gretzwa01\",\"gretzwa01\"],\"pts_per_game\":{\"__ndarray__\":\"ZmZmZmZmAEAzMzMzMzMFQJqZmZmZmQNAmCKfdYMpBkDNzMzMzMwEQAAAAAAAgAVAEJWO7BmIAkAAAAAAAKACQLETO7ETOwFA+fHjx48f/z99y7d8y7cAQJgin3WDKfo/x3Ecx3Ec9z+IRcrA0635PwAAAAAAAPA/55xzzjnn9D+rqqqqqqryP+1K1K5E7fI/kMH5GJyP8T98xVd8xVfsPw==\",\"dtype\":\"float64\",\"shape\":[20]},\"tmCode\":{\"__ndarray__\":\"AAAAAAAAAAABAQEBAQEBAQIDAwM=\",\"dtype\":\"int8\",\"shape\":[20]},\"tmID\":[\"EDM\",\"EDM\",\"EDM\",\"EDM\",\"EDM\",\"EDM\",\"EDM\",\"EDM\",\"LAK\",\"LAK\",\"LAK\",\"LAK\",\"LAK\",\"LAK\",\"LAK\",\"LAK\",\"STL\",\"NYR\",\"NYR\",\"NYR\"],\"top\":{\"__ndarray__\":\"fQzOx+B87D99DM7H4HzsP30MzsfgfOw/jsvRuByN6z99DM7H4HzsP30MzsfgfOw/VaxOxepU7D/+CdifgP3pPxemZ2F6Fv4/sjUpW5Oy/T8Xpmdhehb+P8blaFyOxv0/hPMxOB+D+z9TtiZla1L+P78D8TsQv/s/16RsTcrW/D+0MD0L07MEQDQzMzMzMw9ANDMzMzMzD0C8ErUrUbsOQA==\",\"dtype\":\"float64\",\"shape\":[20]},\"year\":{\"__ndarray__\":\"AAAAHM5dUkIAAAD+AzVUQgAAAEnwClZCAAAAlNzgV0IAAADfyLZZQgAAAMH+jVtCAAAADOtjXUIAAABX1zlfQgAAANHhh2BCAAAAwnxzYUIAAIDncl5iQgAAAA1pSWNCAACAMl80ZEIAAIAj+h9lQgAAAEnwCmZCAACAbub1ZkIAAIBu5vVmQgAAAJTc4GdCAAAAhXfMaEIAAICqbbdpQg==\",\"dtype\":\"float64\",\"shape\":[20]}},\"selected\":{\"id\":\"3027\",\"type\":\"Selection\"},\"selection_policy\":{\"id\":\"3028\",\"type\":\"UnionRenderers\"}},\"id\":\"2837\",\"type\":\"ColumnDataSource\"},{\"attributes\":{\"ticker\":{\"id\":\"2848\",\"type\":\"DatetimeTicker\"}},\"id\":\"2851\",\"type\":\"Grid\"},{\"attributes\":{\"text\":\"\"},\"id\":\"3022\",\"type\":\"Title\"},{\"attributes\":{},\"id\":\"2860\",\"type\":\"ResetTool\"},{\"attributes\":{},\"id\":\"2861\",\"type\":\"HelpTool\"},{\"attributes\":{\"months\":[0,4,8]},\"id\":\"3038\",\"type\":\"MonthsTicker\"},{\"attributes\":{\"active_drag\":\"auto\",\"active_inspect\":\"auto\",\"active_multi\":null,\"active_scroll\":\"auto\",\"active_tap\":\"auto\",\"tools\":[{\"id\":\"2856\",\"type\":\"PanTool\"},{\"id\":\"2857\",\"type\":\"WheelZoomTool\"},{\"id\":\"2858\",\"type\":\"BoxZoomTool\"},{\"id\":\"2859\",\"type\":\"SaveTool\"},{\"id\":\"2860\",\"type\":\"ResetTool\"},{\"id\":\"2861\",\"type\":\"HelpTool\"}]},\"id\":\"2862\",\"type\":\"Toolbar\"},{\"attributes\":{\"bottom_units\":\"screen\",\"fill_alpha\":{\"value\":0.5},\"fill_color\":{\"value\":\"lightgrey\"},\"left_units\":\"screen\",\"level\":\"overlay\",\"line_alpha\":{\"value\":1.0},\"line_color\":{\"value\":\"black\"},\"line_dash\":[4,4],\"line_width\":{\"value\":2},\"render_mode\":\"css\",\"right_units\":\"screen\",\"top_units\":\"screen\"},\"id\":\"3041\",\"type\":\"BoxAnnotation\"},{\"attributes\":{\"data_source\":{\"id\":\"2837\",\"type\":\"ColumnDataSource\"},\"glyph\":{\"id\":\"2870\",\"type\":\"VBar\"},\"hover_glyph\":null,\"muted_glyph\":null,\"nonselection_glyph\":{\"id\":\"2871\",\"type\":\"VBar\"},\"selection_glyph\":null,\"view\":{\"id\":\"2873\",\"type\":\"CDSView\"}},\"id\":\"2872\",\"type\":\"GlyphRenderer\"},{\"attributes\":{},\"id\":\"2843\",\"type\":\"LinearScale\"},{\"attributes\":{\"num_minor_ticks\":5,\"tickers\":[{\"id\":\"3029\",\"type\":\"AdaptiveTicker\"},{\"id\":\"3030\",\"type\":\"AdaptiveTicker\"},{\"id\":\"3031\",\"type\":\"AdaptiveTicker\"},{\"id\":\"3032\",\"type\":\"DaysTicker\"},{\"id\":\"3033\",\"type\":\"DaysTicker\"},{\"id\":\"3034\",\"type\":\"DaysTicker\"},{\"id\":\"3035\",\"type\":\"DaysTicker\"},{\"id\":\"3036\",\"type\":\"MonthsTicker\"},{\"id\":\"3037\",\"type\":\"MonthsTicker\"},{\"id\":\"3038\",\"type\":\"MonthsTicker\"},{\"id\":\"3039\",\"type\":\"MonthsTicker\"},{\"id\":\"3040\",\"type\":\"YearsTicker\"}]},\"id\":\"2848\",\"type\":\"DatetimeTicker\"},{\"attributes\":{\"days\":[1,15]},\"id\":\"3035\",\"type\":\"DaysTicker\"},{\"attributes\":{\"days\":[1,2,3,4,5,6,7,8,9,10,11,12,13,14,15,16,17,18,19,20,21,22,23,24,25,26,27,28,29,30,31]},\"id\":\"3032\",\"type\":\"DaysTicker\"},{\"attributes\":{\"base\":24,\"mantissas\":[1,2,4,6,8,12],\"max_interval\":43200000.0,\"min_interval\":3600000.0,\"num_minor_ticks\":0},\"id\":\"3031\",\"type\":\"AdaptiveTicker\"},{\"attributes\":{\"days\":[1,8,15,22]},\"id\":\"3034\",\"type\":\"DaysTicker\"},{\"attributes\":{\"source\":{\"id\":\"2837\",\"type\":\"ColumnDataSource\"}},\"id\":\"2873\",\"type\":\"CDSView\"},{\"attributes\":{\"months\":[0,1,2,3,4,5,6,7,8,9,10,11]},\"id\":\"3036\",\"type\":\"MonthsTicker\"}],\"root_ids\":[\"2838\"]},\"title\":\"Bokeh Application\",\"version\":\"1.2.0\"}};\n",
       "  var render_items = [{\"docid\":\"f65c01b0-89e3-410e-82e9-6856045bc96b\",\"roots\":{\"2838\":\"dab433a7-fb25-4bfb-850a-840263ec6fa9\"}}];\n",
       "  root.Bokeh.embed.embed_items_notebook(docs_json, render_items);\n",
       "\n",
       "  }\n",
       "  if (root.Bokeh !== undefined) {\n",
       "    embed_document(root);\n",
       "  } else {\n",
       "    var attempts = 0;\n",
       "    var timer = setInterval(function(root) {\n",
       "      if (root.Bokeh !== undefined) {\n",
       "        embed_document(root);\n",
       "        clearInterval(timer);\n",
       "      }\n",
       "      attempts++;\n",
       "      if (attempts > 100) {\n",
       "        console.log(\"Bokeh: ERROR: Unable to run BokehJS code because BokehJS library is missing\");\n",
       "        clearInterval(timer);\n",
       "      }\n",
       "    }, 10, root)\n",
       "  }\n",
       "})(window);"
      ],
      "application/vnd.bokehjs_exec.v0+json": ""
     },
     "metadata": {
      "application/vnd.bokehjs_exec.v0+json": {
       "id": "2838"
      }
     },
     "output_type": "display_data"
    }
   ],
   "source": [
    "show(p)"
   ]
  },
  {
   "cell_type": "code",
   "execution_count": 43,
   "metadata": {
    "slideshow": {
     "slide_type": "slide"
    }
   },
   "outputs": [],
   "source": [
    "from bokeh.models import LinearColorMapper\n",
    "color_mapper = LinearColorMapper(\n",
    "    palette=\"Plasma256\", \n",
    "    low=pts_per_game_min, \n",
    "    high=pts_per_game_max)"
   ]
  },
  {
   "cell_type": "code",
   "execution_count": 44,
   "metadata": {
    "slideshow": {
     "slide_type": "slide"
    }
   },
   "outputs": [],
   "source": [
    "src = cds(wayne)\n",
    "p = figure(x_axis_type='datetime', \n",
    "           height=500, width=500,\n",
    "           y_range=list(wayne.tmID.cat.categories))\n",
    "p.vbar(bottom='bottom', top='top',\n",
    "       x='year', width=width,\n",
    "       color={'field': 'pts_per_game', 'transform': color_mapper},\n",
    "       source=src);"
   ]
  },
  {
   "cell_type": "code",
   "execution_count": 45,
   "metadata": {
    "slideshow": {
     "slide_type": "slide"
    }
   },
   "outputs": [
    {
     "data": {
      "text/html": [
       "\n",
       "\n",
       "\n",
       "\n",
       "\n",
       "\n",
       "  <div class=\"bk-root\" id=\"88596583-bde0-4f00-b856-8ef9f165d453\" data-root-id=\"3170\"></div>\n"
      ]
     },
     "metadata": {},
     "output_type": "display_data"
    },
    {
     "data": {
      "application/javascript": [
       "(function(root) {\n",
       "  function embed_document(root) {\n",
       "    \n",
       "  var docs_json = {\"e717217c-2451-4388-b584-9bc13f0042a3\":{\"roots\":{\"references\":[{\"attributes\":{\"below\":[{\"id\":\"3179\",\"type\":\"DatetimeAxis\"}],\"center\":[{\"id\":\"3183\",\"type\":\"Grid\"},{\"id\":\"3187\",\"type\":\"Grid\"}],\"left\":[{\"id\":\"3184\",\"type\":\"CategoricalAxis\"}],\"plot_height\":500,\"plot_width\":500,\"renderers\":[{\"id\":\"3204\",\"type\":\"GlyphRenderer\"}],\"title\":{\"id\":\"3375\",\"type\":\"Title\"},\"toolbar\":{\"id\":\"3194\",\"type\":\"Toolbar\"},\"x_range\":{\"id\":\"3171\",\"type\":\"DataRange1d\"},\"x_scale\":{\"id\":\"3175\",\"type\":\"LinearScale\"},\"y_range\":{\"id\":\"3173\",\"type\":\"FactorRange\"},\"y_scale\":{\"id\":\"3177\",\"type\":\"CategoricalScale\"}},\"id\":\"3170\",\"subtype\":\"Figure\",\"type\":\"Plot\"},{\"attributes\":{\"high\":2.77027027027027,\"low\":0.8857142857142857,\"palette\":[\"#0C0786\",\"#100787\",\"#130689\",\"#15068A\",\"#18068B\",\"#1B068C\",\"#1D068D\",\"#1F058E\",\"#21058F\",\"#230590\",\"#250591\",\"#270592\",\"#290593\",\"#2B0594\",\"#2D0494\",\"#2F0495\",\"#310496\",\"#330497\",\"#340498\",\"#360498\",\"#380499\",\"#3A049A\",\"#3B039A\",\"#3D039B\",\"#3F039C\",\"#40039C\",\"#42039D\",\"#44039E\",\"#45039E\",\"#47029F\",\"#49029F\",\"#4A02A0\",\"#4C02A1\",\"#4E02A1\",\"#4F02A2\",\"#5101A2\",\"#5201A3\",\"#5401A3\",\"#5601A3\",\"#5701A4\",\"#5901A4\",\"#5A00A5\",\"#5C00A5\",\"#5E00A5\",\"#5F00A6\",\"#6100A6\",\"#6200A6\",\"#6400A7\",\"#6500A7\",\"#6700A7\",\"#6800A7\",\"#6A00A7\",\"#6C00A8\",\"#6D00A8\",\"#6F00A8\",\"#7000A8\",\"#7200A8\",\"#7300A8\",\"#7500A8\",\"#7601A8\",\"#7801A8\",\"#7901A8\",\"#7B02A8\",\"#7C02A7\",\"#7E03A7\",\"#7F03A7\",\"#8104A7\",\"#8204A7\",\"#8405A6\",\"#8506A6\",\"#8607A6\",\"#8807A5\",\"#8908A5\",\"#8B09A4\",\"#8C0AA4\",\"#8E0CA4\",\"#8F0DA3\",\"#900EA3\",\"#920FA2\",\"#9310A1\",\"#9511A1\",\"#9612A0\",\"#9713A0\",\"#99149F\",\"#9A159E\",\"#9B179E\",\"#9D189D\",\"#9E199C\",\"#9F1A9B\",\"#A01B9B\",\"#A21C9A\",\"#A31D99\",\"#A41E98\",\"#A51F97\",\"#A72197\",\"#A82296\",\"#A92395\",\"#AA2494\",\"#AC2593\",\"#AD2692\",\"#AE2791\",\"#AF2890\",\"#B02A8F\",\"#B12B8F\",\"#B22C8E\",\"#B42D8D\",\"#B52E8C\",\"#B62F8B\",\"#B7308A\",\"#B83289\",\"#B93388\",\"#BA3487\",\"#BB3586\",\"#BC3685\",\"#BD3784\",\"#BE3883\",\"#BF3982\",\"#C03B81\",\"#C13C80\",\"#C23D80\",\"#C33E7F\",\"#C43F7E\",\"#C5407D\",\"#C6417C\",\"#C7427B\",\"#C8447A\",\"#C94579\",\"#CA4678\",\"#CB4777\",\"#CC4876\",\"#CD4975\",\"#CE4A75\",\"#CF4B74\",\"#D04D73\",\"#D14E72\",\"#D14F71\",\"#D25070\",\"#D3516F\",\"#D4526E\",\"#D5536D\",\"#D6556D\",\"#D7566C\",\"#D7576B\",\"#D8586A\",\"#D95969\",\"#DA5A68\",\"#DB5B67\",\"#DC5D66\",\"#DC5E66\",\"#DD5F65\",\"#DE6064\",\"#DF6163\",\"#DF6262\",\"#E06461\",\"#E16560\",\"#E26660\",\"#E3675F\",\"#E3685E\",\"#E46A5D\",\"#E56B5C\",\"#E56C5B\",\"#E66D5A\",\"#E76E5A\",\"#E87059\",\"#E87158\",\"#E97257\",\"#EA7356\",\"#EA7455\",\"#EB7654\",\"#EC7754\",\"#EC7853\",\"#ED7952\",\"#ED7B51\",\"#EE7C50\",\"#EF7D4F\",\"#EF7E4E\",\"#F0804D\",\"#F0814D\",\"#F1824C\",\"#F2844B\",\"#F2854A\",\"#F38649\",\"#F38748\",\"#F48947\",\"#F48A47\",\"#F58B46\",\"#F58D45\",\"#F68E44\",\"#F68F43\",\"#F69142\",\"#F79241\",\"#F79341\",\"#F89540\",\"#F8963F\",\"#F8983E\",\"#F9993D\",\"#F99A3C\",\"#FA9C3B\",\"#FA9D3A\",\"#FA9F3A\",\"#FAA039\",\"#FBA238\",\"#FBA337\",\"#FBA436\",\"#FCA635\",\"#FCA735\",\"#FCA934\",\"#FCAA33\",\"#FCAC32\",\"#FCAD31\",\"#FDAF31\",\"#FDB030\",\"#FDB22F\",\"#FDB32E\",\"#FDB52D\",\"#FDB62D\",\"#FDB82C\",\"#FDB92B\",\"#FDBB2B\",\"#FDBC2A\",\"#FDBE29\",\"#FDC029\",\"#FDC128\",\"#FDC328\",\"#FDC427\",\"#FDC626\",\"#FCC726\",\"#FCC926\",\"#FCCB25\",\"#FCCC25\",\"#FCCE25\",\"#FBD024\",\"#FBD124\",\"#FBD324\",\"#FAD524\",\"#FAD624\",\"#FAD824\",\"#F9D924\",\"#F9DB24\",\"#F8DD24\",\"#F8DF24\",\"#F7E024\",\"#F7E225\",\"#F6E425\",\"#F6E525\",\"#F5E726\",\"#F5E926\",\"#F4EA26\",\"#F3EC26\",\"#F3EE26\",\"#F2F026\",\"#F2F126\",\"#F1F326\",\"#F0F525\",\"#F0F623\",\"#EFF821\"]},\"id\":\"3168\",\"type\":\"LinearColorMapper\"},{\"attributes\":{\"ticker\":{\"id\":\"3180\",\"type\":\"DatetimeTicker\"}},\"id\":\"3183\",\"type\":\"Grid\"},{\"attributes\":{\"source\":{\"id\":\"3169\",\"type\":\"ColumnDataSource\"}},\"id\":\"3205\",\"type\":\"CDSView\"},{\"attributes\":{},\"id\":\"3381\",\"type\":\"UnionRenderers\"},{\"attributes\":{\"formatter\":{\"id\":\"3377\",\"type\":\"CategoricalTickFormatter\"},\"ticker\":{\"id\":\"3185\",\"type\":\"CategoricalTicker\"}},\"id\":\"3184\",\"type\":\"CategoricalAxis\"},{\"attributes\":{\"text\":\"\"},\"id\":\"3375\",\"type\":\"Title\"},{\"attributes\":{},\"id\":\"3185\",\"type\":\"CategoricalTicker\"},{\"attributes\":{\"callback\":null,\"data\":{\"GP\":{\"__ndarray__\":\"AAAAAAAAVEAAAAAAAABUQAAAAAAAAFRAAAAAAACAUkAAAAAAAABUQAAAAAAAAFRAAAAAAADAU0AAAAAAAABQQAAAAAAAgFNAAAAAAABAUkAAAAAAAIBTQAAAAAAAgFJAAAAAAACARkAAAAAAAEBUQAAAAAAAAEhAAAAAAAAAT0AAAAAAAAAyQAAAAAAAgFRAAAAAAACAVEAAAAAAAIBRQA==\",\"dtype\":\"float64\",\"shape\":[20]},\"Pts\":{\"__ndarray__\":\"AAAAAACAZEAAAAAAAIBqQAAAAAAAgGhAAAAAAACgaUAAAAAAAABqQAAAAAAA4GpAAAAAAADgZkAAAAAAAKBiQAAAAAAAAGVAAAAAAADAYUAAAAAAAGBkQAAAAAAAQF5AAAAAAABAUEAAAAAAAEBgQAAAAAAAAEhAAAAAAABAVEAAAAAAAAA1QAAAAAAAQFhAAAAAAACAVkAAAAAAAABPQA==\",\"dtype\":\"float64\",\"shape\":[20]},\"bottom\":{\"__ndarray__\":\"GJyPwfkYvD8YnI/B+Ri8Pxicj8H5GLw/ytG4HI3LwT8YnI/B+Ri8Pxicj8H5GLw/WJ2K1alYvT8I2J+A/QnIP+pZmJ6F6fE/TcrWpGxN8j/qWZiehenxPzkal6NxOfI/fQzOx+B89D+uSdmalK3xP0H8DsTvQPQ/KVuTsjUp8z9Mz8L0LEwDQM3MzMzMzAhAzczMzMzMCEBF7UrUrkQJQA==\",\"dtype\":\"float64\",\"shape\":[20]},\"height\":{\"__ndarray__\":\"+hicj8H56D/6GJyPwfnoP/oYnI/B+eg/G5ejcTka5z/6GJyPwfnoP/oYnI/B+eg/qliditWp6D/8E7A/AfvjP1qYnoXpWeg/y9akbE3K5j9amJ6F6VnoPxuXo3E5Guc/GpyPwfkY3D9K2ZqUrUnpP/gdiN+B+N0/XJOyNSlb4z97FqZnYXrGP5qZmZmZmek/mpmZmZmZ6T/blahdidrlPw==\",\"dtype\":\"float64\",\"shape\":[20]},\"playerID\":[\"gretzwa01\",\"gretzwa01\",\"gretzwa01\",\"gretzwa01\",\"gretzwa01\",\"gretzwa01\",\"gretzwa01\",\"gretzwa01\",\"gretzwa01\",\"gretzwa01\",\"gretzwa01\",\"gretzwa01\",\"gretzwa01\",\"gretzwa01\",\"gretzwa01\",\"gretzwa01\",\"gretzwa01\",\"gretzwa01\",\"gretzwa01\",\"gretzwa01\"],\"pts_per_game\":{\"__ndarray__\":\"ZmZmZmZmAEAzMzMzMzMFQJqZmZmZmQNAmCKfdYMpBkDNzMzMzMwEQAAAAAAAgAVAEJWO7BmIAkAAAAAAAKACQLETO7ETOwFA+fHjx48f/z99y7d8y7cAQJgin3WDKfo/x3Ecx3Ec9z+IRcrA0635PwAAAAAAAPA/55xzzjnn9D+rqqqqqqryP+1K1K5E7fI/kMH5GJyP8T98xVd8xVfsPw==\",\"dtype\":\"float64\",\"shape\":[20]},\"tmCode\":{\"__ndarray__\":\"AAAAAAAAAAABAQEBAQEBAQIDAwM=\",\"dtype\":\"int8\",\"shape\":[20]},\"tmID\":[\"EDM\",\"EDM\",\"EDM\",\"EDM\",\"EDM\",\"EDM\",\"EDM\",\"EDM\",\"LAK\",\"LAK\",\"LAK\",\"LAK\",\"LAK\",\"LAK\",\"LAK\",\"LAK\",\"STL\",\"NYR\",\"NYR\",\"NYR\"],\"top\":{\"__ndarray__\":\"fQzOx+B87D99DM7H4HzsP30MzsfgfOw/jsvRuByN6z99DM7H4HzsP30MzsfgfOw/VaxOxepU7D/+CdifgP3pPxemZ2F6Fv4/sjUpW5Oy/T8Xpmdhehb+P8blaFyOxv0/hPMxOB+D+z9TtiZla1L+P78D8TsQv/s/16RsTcrW/D+0MD0L07MEQDQzMzMzMw9ANDMzMzMzD0C8ErUrUbsOQA==\",\"dtype\":\"float64\",\"shape\":[20]},\"year\":{\"__ndarray__\":\"AAAAHM5dUkIAAAD+AzVUQgAAAEnwClZCAAAAlNzgV0IAAADfyLZZQgAAAMH+jVtCAAAADOtjXUIAAABX1zlfQgAAANHhh2BCAAAAwnxzYUIAAIDncl5iQgAAAA1pSWNCAACAMl80ZEIAAIAj+h9lQgAAAEnwCmZCAACAbub1ZkIAAIBu5vVmQgAAAJTc4GdCAAAAhXfMaEIAAICqbbdpQg==\",\"dtype\":\"float64\",\"shape\":[20]}},\"selected\":{\"id\":\"3380\",\"type\":\"Selection\"},\"selection_policy\":{\"id\":\"3381\",\"type\":\"UnionRenderers\"}},\"id\":\"3169\",\"type\":\"ColumnDataSource\"},{\"attributes\":{\"base\":24,\"mantissas\":[1,2,4,6,8,12],\"max_interval\":43200000.0,\"min_interval\":3600000.0,\"num_minor_ticks\":0},\"id\":\"3384\",\"type\":\"AdaptiveTicker\"},{\"attributes\":{\"dimension\":1,\"ticker\":{\"id\":\"3185\",\"type\":\"CategoricalTicker\"}},\"id\":\"3187\",\"type\":\"Grid\"},{\"attributes\":{\"bottom\":{\"field\":\"bottom\"},\"fill_alpha\":{\"value\":0.1},\"fill_color\":{\"value\":\"#1f77b4\"},\"line_alpha\":{\"value\":0.1},\"line_color\":{\"value\":\"#1f77b4\"},\"top\":{\"field\":\"top\"},\"width\":{\"value\":27648000000},\"x\":{\"field\":\"year\"}},\"id\":\"3203\",\"type\":\"VBar\"},{\"attributes\":{\"months\":[0,1,2,3,4,5,6,7,8,9,10,11]},\"id\":\"3389\",\"type\":\"MonthsTicker\"},{\"attributes\":{},\"id\":\"3377\",\"type\":\"CategoricalTickFormatter\"},{\"attributes\":{\"days\":[1,15]},\"id\":\"3388\",\"type\":\"DaysTicker\"},{\"attributes\":{\"bottom\":{\"field\":\"bottom\"},\"fill_color\":{\"field\":\"pts_per_game\",\"transform\":{\"id\":\"3168\",\"type\":\"LinearColorMapper\"}},\"line_color\":{\"field\":\"pts_per_game\",\"transform\":{\"id\":\"3168\",\"type\":\"LinearColorMapper\"}},\"top\":{\"field\":\"top\"},\"width\":{\"value\":27648000000},\"x\":{\"field\":\"year\"}},\"id\":\"3202\",\"type\":\"VBar\"},{\"attributes\":{\"months\":[0,6]},\"id\":\"3392\",\"type\":\"MonthsTicker\"},{\"attributes\":{\"months\":[0,2,4,6,8,10]},\"id\":\"3390\",\"type\":\"MonthsTicker\"},{\"attributes\":{\"days\":[1,2,3,4,5,6,7,8,9,10,11,12,13,14,15,16,17,18,19,20,21,22,23,24,25,26,27,28,29,30,31]},\"id\":\"3385\",\"type\":\"DaysTicker\"},{\"attributes\":{},\"id\":\"3188\",\"type\":\"PanTool\"},{\"attributes\":{},\"id\":\"3177\",\"type\":\"CategoricalScale\"},{\"attributes\":{\"callback\":null},\"id\":\"3171\",\"type\":\"DataRange1d\"},{\"attributes\":{},\"id\":\"3189\",\"type\":\"WheelZoomTool\"},{\"attributes\":{\"overlay\":{\"id\":\"3394\",\"type\":\"BoxAnnotation\"}},\"id\":\"3190\",\"type\":\"BoxZoomTool\"},{\"attributes\":{},\"id\":\"3191\",\"type\":\"SaveTool\"},{\"attributes\":{\"bottom_units\":\"screen\",\"fill_alpha\":{\"value\":0.5},\"fill_color\":{\"value\":\"lightgrey\"},\"left_units\":\"screen\",\"level\":\"overlay\",\"line_alpha\":{\"value\":1.0},\"line_color\":{\"value\":\"black\"},\"line_dash\":[4,4],\"line_width\":{\"value\":2},\"render_mode\":\"css\",\"right_units\":\"screen\",\"top_units\":\"screen\"},\"id\":\"3394\",\"type\":\"BoxAnnotation\"},{\"attributes\":{},\"id\":\"3192\",\"type\":\"ResetTool\"},{\"attributes\":{\"days\":[1,4,7,10,13,16,19,22,25,28]},\"id\":\"3386\",\"type\":\"DaysTicker\"},{\"attributes\":{},\"id\":\"3379\",\"type\":\"DatetimeTickFormatter\"},{\"attributes\":{},\"id\":\"3193\",\"type\":\"HelpTool\"},{\"attributes\":{\"months\":[0,4,8]},\"id\":\"3391\",\"type\":\"MonthsTicker\"},{\"attributes\":{\"callback\":null,\"factors\":[\"EDM\",\"LAK\",\"STL\",\"NYR\"]},\"id\":\"3173\",\"type\":\"FactorRange\"},{\"attributes\":{\"active_drag\":\"auto\",\"active_inspect\":\"auto\",\"active_multi\":null,\"active_scroll\":\"auto\",\"active_tap\":\"auto\",\"tools\":[{\"id\":\"3188\",\"type\":\"PanTool\"},{\"id\":\"3189\",\"type\":\"WheelZoomTool\"},{\"id\":\"3190\",\"type\":\"BoxZoomTool\"},{\"id\":\"3191\",\"type\":\"SaveTool\"},{\"id\":\"3192\",\"type\":\"ResetTool\"},{\"id\":\"3193\",\"type\":\"HelpTool\"}]},\"id\":\"3194\",\"type\":\"Toolbar\"},{\"attributes\":{},\"id\":\"3175\",\"type\":\"LinearScale\"},{\"attributes\":{\"data_source\":{\"id\":\"3169\",\"type\":\"ColumnDataSource\"},\"glyph\":{\"id\":\"3202\",\"type\":\"VBar\"},\"hover_glyph\":null,\"muted_glyph\":null,\"nonselection_glyph\":{\"id\":\"3203\",\"type\":\"VBar\"},\"selection_glyph\":null,\"view\":{\"id\":\"3205\",\"type\":\"CDSView\"}},\"id\":\"3204\",\"type\":\"GlyphRenderer\"},{\"attributes\":{\"formatter\":{\"id\":\"3379\",\"type\":\"DatetimeTickFormatter\"},\"ticker\":{\"id\":\"3180\",\"type\":\"DatetimeTicker\"}},\"id\":\"3179\",\"type\":\"DatetimeAxis\"},{\"attributes\":{},\"id\":\"3380\",\"type\":\"Selection\"},{\"attributes\":{\"days\":[1,8,15,22]},\"id\":\"3387\",\"type\":\"DaysTicker\"},{\"attributes\":{\"num_minor_ticks\":5,\"tickers\":[{\"id\":\"3382\",\"type\":\"AdaptiveTicker\"},{\"id\":\"3383\",\"type\":\"AdaptiveTicker\"},{\"id\":\"3384\",\"type\":\"AdaptiveTicker\"},{\"id\":\"3385\",\"type\":\"DaysTicker\"},{\"id\":\"3386\",\"type\":\"DaysTicker\"},{\"id\":\"3387\",\"type\":\"DaysTicker\"},{\"id\":\"3388\",\"type\":\"DaysTicker\"},{\"id\":\"3389\",\"type\":\"MonthsTicker\"},{\"id\":\"3390\",\"type\":\"MonthsTicker\"},{\"id\":\"3391\",\"type\":\"MonthsTicker\"},{\"id\":\"3392\",\"type\":\"MonthsTicker\"},{\"id\":\"3393\",\"type\":\"YearsTicker\"}]},\"id\":\"3180\",\"type\":\"DatetimeTicker\"},{\"attributes\":{\"base\":60,\"mantissas\":[1,2,5,10,15,20,30],\"max_interval\":1800000.0,\"min_interval\":1000.0,\"num_minor_ticks\":0},\"id\":\"3383\",\"type\":\"AdaptiveTicker\"},{\"attributes\":{},\"id\":\"3393\",\"type\":\"YearsTicker\"},{\"attributes\":{\"mantissas\":[1,2,5],\"max_interval\":500.0,\"num_minor_ticks\":0},\"id\":\"3382\",\"type\":\"AdaptiveTicker\"}],\"root_ids\":[\"3170\"]},\"title\":\"Bokeh Application\",\"version\":\"1.2.0\"}};\n",
       "  var render_items = [{\"docid\":\"e717217c-2451-4388-b584-9bc13f0042a3\",\"roots\":{\"3170\":\"88596583-bde0-4f00-b856-8ef9f165d453\"}}];\n",
       "  root.Bokeh.embed.embed_items_notebook(docs_json, render_items);\n",
       "\n",
       "  }\n",
       "  if (root.Bokeh !== undefined) {\n",
       "    embed_document(root);\n",
       "  } else {\n",
       "    var attempts = 0;\n",
       "    var timer = setInterval(function(root) {\n",
       "      if (root.Bokeh !== undefined) {\n",
       "        embed_document(root);\n",
       "        clearInterval(timer);\n",
       "      }\n",
       "      attempts++;\n",
       "      if (attempts > 100) {\n",
       "        console.log(\"Bokeh: ERROR: Unable to run BokehJS code because BokehJS library is missing\");\n",
       "        clearInterval(timer);\n",
       "      }\n",
       "    }, 10, root)\n",
       "  }\n",
       "})(window);"
      ],
      "application/vnd.bokehjs_exec.v0+json": ""
     },
     "metadata": {
      "application/vnd.bokehjs_exec.v0+json": {
       "id": "3170"
      }
     },
     "output_type": "display_data"
    }
   ],
   "source": [
    "show(p)"
   ]
  },
  {
   "cell_type": "code",
   "execution_count": 46,
   "metadata": {
    "slideshow": {
     "slide_type": "slide"
    }
   },
   "outputs": [],
   "source": [
    "from bokeh.models import ColorBar\n",
    "src = cds(wayne)\n",
    "p = figure(x_axis_type='datetime', \n",
    "           width=500,\n",
    "           height=500, \n",
    "           y_range=list(wayne.tmID.cat.categories)\n",
    ")\n",
    "p.vbar(bottom='bottom', top='top', x='year', width=width,\n",
    "       color={'field': 'pts_per_game', 'transform': color_mapper}, source=src)\n",
    "color_bar = ColorBar(color_mapper=color_mapper,\n",
    "                     label_standoff=8, border_line_color=None, \n",
    "                     location=(0,0)\n",
    ")\n",
    "\n",
    "p.add_layout(color_bar, 'right');"
   ]
  },
  {
   "cell_type": "code",
   "execution_count": 47,
   "metadata": {
    "slideshow": {
     "slide_type": "slide"
    }
   },
   "outputs": [
    {
     "data": {
      "text/html": [
       "\n",
       "\n",
       "\n",
       "\n",
       "\n",
       "\n",
       "  <div class=\"bk-root\" id=\"29a25a81-0bac-4ab1-b868-856625b8c969\" data-root-id=\"3522\"></div>\n"
      ]
     },
     "metadata": {},
     "output_type": "display_data"
    },
    {
     "data": {
      "application/javascript": [
       "(function(root) {\n",
       "  function embed_document(root) {\n",
       "    \n",
       "  var docs_json = {\"bc03dca7-c1d3-403d-b01f-cbe6771f300e\":{\"roots\":{\"references\":[{\"attributes\":{\"below\":[{\"id\":\"3531\",\"type\":\"DatetimeAxis\"}],\"center\":[{\"id\":\"3535\",\"type\":\"Grid\"},{\"id\":\"3539\",\"type\":\"Grid\"}],\"left\":[{\"id\":\"3536\",\"type\":\"CategoricalAxis\"}],\"plot_height\":500,\"plot_width\":500,\"renderers\":[{\"id\":\"3556\",\"type\":\"GlyphRenderer\"}],\"right\":[{\"id\":\"3558\",\"type\":\"ColorBar\"}],\"title\":{\"id\":\"3749\",\"type\":\"Title\"},\"toolbar\":{\"id\":\"3546\",\"type\":\"Toolbar\"},\"x_range\":{\"id\":\"3523\",\"type\":\"DataRange1d\"},\"x_scale\":{\"id\":\"3527\",\"type\":\"LinearScale\"},\"y_range\":{\"id\":\"3525\",\"type\":\"FactorRange\"},\"y_scale\":{\"id\":\"3529\",\"type\":\"CategoricalScale\"}},\"id\":\"3522\",\"subtype\":\"Figure\",\"type\":\"Plot\"},{\"attributes\":{\"num_minor_ticks\":5,\"tickers\":[{\"id\":\"3758\",\"type\":\"AdaptiveTicker\"},{\"id\":\"3759\",\"type\":\"AdaptiveTicker\"},{\"id\":\"3760\",\"type\":\"AdaptiveTicker\"},{\"id\":\"3761\",\"type\":\"DaysTicker\"},{\"id\":\"3762\",\"type\":\"DaysTicker\"},{\"id\":\"3763\",\"type\":\"DaysTicker\"},{\"id\":\"3764\",\"type\":\"DaysTicker\"},{\"id\":\"3765\",\"type\":\"MonthsTicker\"},{\"id\":\"3766\",\"type\":\"MonthsTicker\"},{\"id\":\"3767\",\"type\":\"MonthsTicker\"},{\"id\":\"3768\",\"type\":\"MonthsTicker\"},{\"id\":\"3769\",\"type\":\"YearsTicker\"}]},\"id\":\"3532\",\"type\":\"DatetimeTicker\"},{\"attributes\":{\"high\":2.77027027027027,\"low\":0.8857142857142857,\"palette\":[\"#0C0786\",\"#100787\",\"#130689\",\"#15068A\",\"#18068B\",\"#1B068C\",\"#1D068D\",\"#1F058E\",\"#21058F\",\"#230590\",\"#250591\",\"#270592\",\"#290593\",\"#2B0594\",\"#2D0494\",\"#2F0495\",\"#310496\",\"#330497\",\"#340498\",\"#360498\",\"#380499\",\"#3A049A\",\"#3B039A\",\"#3D039B\",\"#3F039C\",\"#40039C\",\"#42039D\",\"#44039E\",\"#45039E\",\"#47029F\",\"#49029F\",\"#4A02A0\",\"#4C02A1\",\"#4E02A1\",\"#4F02A2\",\"#5101A2\",\"#5201A3\",\"#5401A3\",\"#5601A3\",\"#5701A4\",\"#5901A4\",\"#5A00A5\",\"#5C00A5\",\"#5E00A5\",\"#5F00A6\",\"#6100A6\",\"#6200A6\",\"#6400A7\",\"#6500A7\",\"#6700A7\",\"#6800A7\",\"#6A00A7\",\"#6C00A8\",\"#6D00A8\",\"#6F00A8\",\"#7000A8\",\"#7200A8\",\"#7300A8\",\"#7500A8\",\"#7601A8\",\"#7801A8\",\"#7901A8\",\"#7B02A8\",\"#7C02A7\",\"#7E03A7\",\"#7F03A7\",\"#8104A7\",\"#8204A7\",\"#8405A6\",\"#8506A6\",\"#8607A6\",\"#8807A5\",\"#8908A5\",\"#8B09A4\",\"#8C0AA4\",\"#8E0CA4\",\"#8F0DA3\",\"#900EA3\",\"#920FA2\",\"#9310A1\",\"#9511A1\",\"#9612A0\",\"#9713A0\",\"#99149F\",\"#9A159E\",\"#9B179E\",\"#9D189D\",\"#9E199C\",\"#9F1A9B\",\"#A01B9B\",\"#A21C9A\",\"#A31D99\",\"#A41E98\",\"#A51F97\",\"#A72197\",\"#A82296\",\"#A92395\",\"#AA2494\",\"#AC2593\",\"#AD2692\",\"#AE2791\",\"#AF2890\",\"#B02A8F\",\"#B12B8F\",\"#B22C8E\",\"#B42D8D\",\"#B52E8C\",\"#B62F8B\",\"#B7308A\",\"#B83289\",\"#B93388\",\"#BA3487\",\"#BB3586\",\"#BC3685\",\"#BD3784\",\"#BE3883\",\"#BF3982\",\"#C03B81\",\"#C13C80\",\"#C23D80\",\"#C33E7F\",\"#C43F7E\",\"#C5407D\",\"#C6417C\",\"#C7427B\",\"#C8447A\",\"#C94579\",\"#CA4678\",\"#CB4777\",\"#CC4876\",\"#CD4975\",\"#CE4A75\",\"#CF4B74\",\"#D04D73\",\"#D14E72\",\"#D14F71\",\"#D25070\",\"#D3516F\",\"#D4526E\",\"#D5536D\",\"#D6556D\",\"#D7566C\",\"#D7576B\",\"#D8586A\",\"#D95969\",\"#DA5A68\",\"#DB5B67\",\"#DC5D66\",\"#DC5E66\",\"#DD5F65\",\"#DE6064\",\"#DF6163\",\"#DF6262\",\"#E06461\",\"#E16560\",\"#E26660\",\"#E3675F\",\"#E3685E\",\"#E46A5D\",\"#E56B5C\",\"#E56C5B\",\"#E66D5A\",\"#E76E5A\",\"#E87059\",\"#E87158\",\"#E97257\",\"#EA7356\",\"#EA7455\",\"#EB7654\",\"#EC7754\",\"#EC7853\",\"#ED7952\",\"#ED7B51\",\"#EE7C50\",\"#EF7D4F\",\"#EF7E4E\",\"#F0804D\",\"#F0814D\",\"#F1824C\",\"#F2844B\",\"#F2854A\",\"#F38649\",\"#F38748\",\"#F48947\",\"#F48A47\",\"#F58B46\",\"#F58D45\",\"#F68E44\",\"#F68F43\",\"#F69142\",\"#F79241\",\"#F79341\",\"#F89540\",\"#F8963F\",\"#F8983E\",\"#F9993D\",\"#F99A3C\",\"#FA9C3B\",\"#FA9D3A\",\"#FA9F3A\",\"#FAA039\",\"#FBA238\",\"#FBA337\",\"#FBA436\",\"#FCA635\",\"#FCA735\",\"#FCA934\",\"#FCAA33\",\"#FCAC32\",\"#FCAD31\",\"#FDAF31\",\"#FDB030\",\"#FDB22F\",\"#FDB32E\",\"#FDB52D\",\"#FDB62D\",\"#FDB82C\",\"#FDB92B\",\"#FDBB2B\",\"#FDBC2A\",\"#FDBE29\",\"#FDC029\",\"#FDC128\",\"#FDC328\",\"#FDC427\",\"#FDC626\",\"#FCC726\",\"#FCC926\",\"#FCCB25\",\"#FCCC25\",\"#FCCE25\",\"#FBD024\",\"#FBD124\",\"#FBD324\",\"#FAD524\",\"#FAD624\",\"#FAD824\",\"#F9D924\",\"#F9DB24\",\"#F8DD24\",\"#F8DF24\",\"#F7E024\",\"#F7E225\",\"#F6E425\",\"#F6E525\",\"#F5E726\",\"#F5E926\",\"#F4EA26\",\"#F3EC26\",\"#F3EE26\",\"#F2F026\",\"#F2F126\",\"#F1F326\",\"#F0F525\",\"#F0F623\",\"#EFF821\"]},\"id\":\"3168\",\"type\":\"LinearColorMapper\"},{\"attributes\":{\"ticker\":{\"id\":\"3532\",\"type\":\"DatetimeTicker\"}},\"id\":\"3535\",\"type\":\"Grid\"},{\"attributes\":{\"base\":24,\"mantissas\":[1,2,4,6,8,12],\"max_interval\":43200000.0,\"min_interval\":3600000.0,\"num_minor_ticks\":0},\"id\":\"3760\",\"type\":\"AdaptiveTicker\"},{\"attributes\":{\"formatter\":{\"id\":\"3751\",\"type\":\"CategoricalTickFormatter\"},\"ticker\":{\"id\":\"3537\",\"type\":\"CategoricalTicker\"}},\"id\":\"3536\",\"type\":\"CategoricalAxis\"},{\"attributes\":{},\"id\":\"3537\",\"type\":\"CategoricalTicker\"},{\"attributes\":{},\"id\":\"3544\",\"type\":\"ResetTool\"},{\"attributes\":{\"dimension\":1,\"ticker\":{\"id\":\"3537\",\"type\":\"CategoricalTicker\"}},\"id\":\"3539\",\"type\":\"Grid\"},{\"attributes\":{\"active_drag\":\"auto\",\"active_inspect\":\"auto\",\"active_multi\":null,\"active_scroll\":\"auto\",\"active_tap\":\"auto\",\"tools\":[{\"id\":\"3540\",\"type\":\"PanTool\"},{\"id\":\"3541\",\"type\":\"WheelZoomTool\"},{\"id\":\"3542\",\"type\":\"BoxZoomTool\"},{\"id\":\"3543\",\"type\":\"SaveTool\"},{\"id\":\"3544\",\"type\":\"ResetTool\"},{\"id\":\"3545\",\"type\":\"HelpTool\"}]},\"id\":\"3546\",\"type\":\"Toolbar\"},{\"attributes\":{},\"id\":\"3545\",\"type\":\"HelpTool\"},{\"attributes\":{\"data_source\":{\"id\":\"3521\",\"type\":\"ColumnDataSource\"},\"glyph\":{\"id\":\"3554\",\"type\":\"VBar\"},\"hover_glyph\":null,\"muted_glyph\":null,\"nonselection_glyph\":{\"id\":\"3555\",\"type\":\"VBar\"},\"selection_glyph\":null,\"view\":{\"id\":\"3557\",\"type\":\"CDSView\"}},\"id\":\"3556\",\"type\":\"GlyphRenderer\"},{\"attributes\":{},\"id\":\"3756\",\"type\":\"Selection\"},{\"attributes\":{\"bottom\":{\"field\":\"bottom\"},\"fill_color\":{\"field\":\"pts_per_game\",\"transform\":{\"id\":\"3168\",\"type\":\"LinearColorMapper\"}},\"line_color\":{\"field\":\"pts_per_game\",\"transform\":{\"id\":\"3168\",\"type\":\"LinearColorMapper\"}},\"top\":{\"field\":\"top\"},\"width\":{\"value\":27648000000},\"x\":{\"field\":\"year\"}},\"id\":\"3554\",\"type\":\"VBar\"},{\"attributes\":{\"bottom\":{\"field\":\"bottom\"},\"fill_alpha\":{\"value\":0.1},\"fill_color\":{\"value\":\"#1f77b4\"},\"line_alpha\":{\"value\":0.1},\"line_color\":{\"value\":\"#1f77b4\"},\"top\":{\"field\":\"top\"},\"width\":{\"value\":27648000000},\"x\":{\"field\":\"year\"}},\"id\":\"3555\",\"type\":\"VBar\"},{\"attributes\":{\"days\":[1,4,7,10,13,16,19,22,25,28]},\"id\":\"3762\",\"type\":\"DaysTicker\"},{\"attributes\":{\"callback\":null,\"data\":{\"GP\":{\"__ndarray__\":\"AAAAAAAAVEAAAAAAAABUQAAAAAAAAFRAAAAAAACAUkAAAAAAAABUQAAAAAAAAFRAAAAAAADAU0AAAAAAAABQQAAAAAAAgFNAAAAAAABAUkAAAAAAAIBTQAAAAAAAgFJAAAAAAACARkAAAAAAAEBUQAAAAAAAAEhAAAAAAAAAT0AAAAAAAAAyQAAAAAAAgFRAAAAAAACAVEAAAAAAAIBRQA==\",\"dtype\":\"float64\",\"shape\":[20]},\"Pts\":{\"__ndarray__\":\"AAAAAACAZEAAAAAAAIBqQAAAAAAAgGhAAAAAAACgaUAAAAAAAABqQAAAAAAA4GpAAAAAAADgZkAAAAAAAKBiQAAAAAAAAGVAAAAAAADAYUAAAAAAAGBkQAAAAAAAQF5AAAAAAABAUEAAAAAAAEBgQAAAAAAAAEhAAAAAAABAVEAAAAAAAAA1QAAAAAAAQFhAAAAAAACAVkAAAAAAAABPQA==\",\"dtype\":\"float64\",\"shape\":[20]},\"bottom\":{\"__ndarray__\":\"GJyPwfkYvD8YnI/B+Ri8Pxicj8H5GLw/ytG4HI3LwT8YnI/B+Ri8Pxicj8H5GLw/WJ2K1alYvT8I2J+A/QnIP+pZmJ6F6fE/TcrWpGxN8j/qWZiehenxPzkal6NxOfI/fQzOx+B89D+uSdmalK3xP0H8DsTvQPQ/KVuTsjUp8z9Mz8L0LEwDQM3MzMzMzAhAzczMzMzMCEBF7UrUrkQJQA==\",\"dtype\":\"float64\",\"shape\":[20]},\"height\":{\"__ndarray__\":\"+hicj8H56D/6GJyPwfnoP/oYnI/B+eg/G5ejcTka5z/6GJyPwfnoP/oYnI/B+eg/qliditWp6D/8E7A/AfvjP1qYnoXpWeg/y9akbE3K5j9amJ6F6VnoPxuXo3E5Guc/GpyPwfkY3D9K2ZqUrUnpP/gdiN+B+N0/XJOyNSlb4z97FqZnYXrGP5qZmZmZmek/mpmZmZmZ6T/blahdidrlPw==\",\"dtype\":\"float64\",\"shape\":[20]},\"playerID\":[\"gretzwa01\",\"gretzwa01\",\"gretzwa01\",\"gretzwa01\",\"gretzwa01\",\"gretzwa01\",\"gretzwa01\",\"gretzwa01\",\"gretzwa01\",\"gretzwa01\",\"gretzwa01\",\"gretzwa01\",\"gretzwa01\",\"gretzwa01\",\"gretzwa01\",\"gretzwa01\",\"gretzwa01\",\"gretzwa01\",\"gretzwa01\",\"gretzwa01\"],\"pts_per_game\":{\"__ndarray__\":\"ZmZmZmZmAEAzMzMzMzMFQJqZmZmZmQNAmCKfdYMpBkDNzMzMzMwEQAAAAAAAgAVAEJWO7BmIAkAAAAAAAKACQLETO7ETOwFA+fHjx48f/z99y7d8y7cAQJgin3WDKfo/x3Ecx3Ec9z+IRcrA0635PwAAAAAAAPA/55xzzjnn9D+rqqqqqqryP+1K1K5E7fI/kMH5GJyP8T98xVd8xVfsPw==\",\"dtype\":\"float64\",\"shape\":[20]},\"tmCode\":{\"__ndarray__\":\"AAAAAAAAAAABAQEBAQEBAQIDAwM=\",\"dtype\":\"int8\",\"shape\":[20]},\"tmID\":[\"EDM\",\"EDM\",\"EDM\",\"EDM\",\"EDM\",\"EDM\",\"EDM\",\"EDM\",\"LAK\",\"LAK\",\"LAK\",\"LAK\",\"LAK\",\"LAK\",\"LAK\",\"LAK\",\"STL\",\"NYR\",\"NYR\",\"NYR\"],\"top\":{\"__ndarray__\":\"fQzOx+B87D99DM7H4HzsP30MzsfgfOw/jsvRuByN6z99DM7H4HzsP30MzsfgfOw/VaxOxepU7D/+CdifgP3pPxemZ2F6Fv4/sjUpW5Oy/T8Xpmdhehb+P8blaFyOxv0/hPMxOB+D+z9TtiZla1L+P78D8TsQv/s/16RsTcrW/D+0MD0L07MEQDQzMzMzMw9ANDMzMzMzD0C8ErUrUbsOQA==\",\"dtype\":\"float64\",\"shape\":[20]},\"year\":{\"__ndarray__\":\"AAAAHM5dUkIAAAD+AzVUQgAAAEnwClZCAAAAlNzgV0IAAADfyLZZQgAAAMH+jVtCAAAADOtjXUIAAABX1zlfQgAAANHhh2BCAAAAwnxzYUIAAIDncl5iQgAAAA1pSWNCAACAMl80ZEIAAIAj+h9lQgAAAEnwCmZCAACAbub1ZkIAAIBu5vVmQgAAAJTc4GdCAAAAhXfMaEIAAICqbbdpQg==\",\"dtype\":\"float64\",\"shape\":[20]}},\"selected\":{\"id\":\"3756\",\"type\":\"Selection\"},\"selection_policy\":{\"id\":\"3757\",\"type\":\"UnionRenderers\"}},\"id\":\"3521\",\"type\":\"ColumnDataSource\"},{\"attributes\":{\"color_mapper\":{\"id\":\"3168\",\"type\":\"LinearColorMapper\"},\"formatter\":{\"id\":\"3753\",\"type\":\"BasicTickFormatter\"},\"label_standoff\":8,\"location\":[0,0],\"ticker\":{\"id\":\"3752\",\"type\":\"BasicTicker\"}},\"id\":\"3558\",\"type\":\"ColorBar\"},{\"attributes\":{},\"id\":\"3540\",\"type\":\"PanTool\"},{\"attributes\":{},\"id\":\"3541\",\"type\":\"WheelZoomTool\"},{\"attributes\":{\"mantissas\":[1,2,5],\"max_interval\":500.0,\"num_minor_ticks\":0},\"id\":\"3758\",\"type\":\"AdaptiveTicker\"},{\"attributes\":{\"source\":{\"id\":\"3521\",\"type\":\"ColumnDataSource\"}},\"id\":\"3557\",\"type\":\"CDSView\"},{\"attributes\":{\"overlay\":{\"id\":\"3770\",\"type\":\"BoxAnnotation\"}},\"id\":\"3542\",\"type\":\"BoxZoomTool\"},{\"attributes\":{},\"id\":\"3769\",\"type\":\"YearsTicker\"},{\"attributes\":{\"text\":\"\"},\"id\":\"3749\",\"type\":\"Title\"},{\"attributes\":{},\"id\":\"3543\",\"type\":\"SaveTool\"},{\"attributes\":{\"bottom_units\":\"screen\",\"fill_alpha\":{\"value\":0.5},\"fill_color\":{\"value\":\"lightgrey\"},\"left_units\":\"screen\",\"level\":\"overlay\",\"line_alpha\":{\"value\":1.0},\"line_color\":{\"value\":\"black\"},\"line_dash\":[4,4],\"line_width\":{\"value\":2},\"render_mode\":\"css\",\"right_units\":\"screen\",\"top_units\":\"screen\"},\"id\":\"3770\",\"type\":\"BoxAnnotation\"},{\"attributes\":{},\"id\":\"3751\",\"type\":\"CategoricalTickFormatter\"},{\"attributes\":{\"months\":[0,2,4,6,8,10]},\"id\":\"3766\",\"type\":\"MonthsTicker\"},{\"attributes\":{},\"id\":\"3752\",\"type\":\"BasicTicker\"},{\"attributes\":{\"base\":60,\"mantissas\":[1,2,5,10,15,20,30],\"max_interval\":1800000.0,\"min_interval\":1000.0,\"num_minor_ticks\":0},\"id\":\"3759\",\"type\":\"AdaptiveTicker\"},{\"attributes\":{\"months\":[0,6]},\"id\":\"3768\",\"type\":\"MonthsTicker\"},{\"attributes\":{},\"id\":\"3529\",\"type\":\"CategoricalScale\"},{\"attributes\":{\"days\":[1,2,3,4,5,6,7,8,9,10,11,12,13,14,15,16,17,18,19,20,21,22,23,24,25,26,27,28,29,30,31]},\"id\":\"3761\",\"type\":\"DaysTicker\"},{\"attributes\":{\"months\":[0,4,8]},\"id\":\"3767\",\"type\":\"MonthsTicker\"},{\"attributes\":{},\"id\":\"3527\",\"type\":\"LinearScale\"},{\"attributes\":{\"months\":[0,1,2,3,4,5,6,7,8,9,10,11]},\"id\":\"3765\",\"type\":\"MonthsTicker\"},{\"attributes\":{},\"id\":\"3753\",\"type\":\"BasicTickFormatter\"},{\"attributes\":{\"days\":[1,15]},\"id\":\"3764\",\"type\":\"DaysTicker\"},{\"attributes\":{},\"id\":\"3755\",\"type\":\"DatetimeTickFormatter\"},{\"attributes\":{\"callback\":null,\"factors\":[\"EDM\",\"LAK\",\"STL\",\"NYR\"]},\"id\":\"3525\",\"type\":\"FactorRange\"},{\"attributes\":{\"days\":[1,8,15,22]},\"id\":\"3763\",\"type\":\"DaysTicker\"},{\"attributes\":{},\"id\":\"3757\",\"type\":\"UnionRenderers\"},{\"attributes\":{\"callback\":null},\"id\":\"3523\",\"type\":\"DataRange1d\"},{\"attributes\":{\"formatter\":{\"id\":\"3755\",\"type\":\"DatetimeTickFormatter\"},\"ticker\":{\"id\":\"3532\",\"type\":\"DatetimeTicker\"}},\"id\":\"3531\",\"type\":\"DatetimeAxis\"}],\"root_ids\":[\"3522\"]},\"title\":\"Bokeh Application\",\"version\":\"1.2.0\"}};\n",
       "  var render_items = [{\"docid\":\"bc03dca7-c1d3-403d-b01f-cbe6771f300e\",\"roots\":{\"3522\":\"29a25a81-0bac-4ab1-b868-856625b8c969\"}}];\n",
       "  root.Bokeh.embed.embed_items_notebook(docs_json, render_items);\n",
       "\n",
       "  }\n",
       "  if (root.Bokeh !== undefined) {\n",
       "    embed_document(root);\n",
       "  } else {\n",
       "    var attempts = 0;\n",
       "    var timer = setInterval(function(root) {\n",
       "      if (root.Bokeh !== undefined) {\n",
       "        embed_document(root);\n",
       "        clearInterval(timer);\n",
       "      }\n",
       "      attempts++;\n",
       "      if (attempts > 100) {\n",
       "        console.log(\"Bokeh: ERROR: Unable to run BokehJS code because BokehJS library is missing\");\n",
       "        clearInterval(timer);\n",
       "      }\n",
       "    }, 10, root)\n",
       "  }\n",
       "})(window);"
      ],
      "application/vnd.bokehjs_exec.v0+json": ""
     },
     "metadata": {
      "application/vnd.bokehjs_exec.v0+json": {
       "id": "3522"
      }
     },
     "output_type": "display_data"
    }
   ],
   "source": [
    "show(p)"
   ]
  },
  {
   "cell_type": "code",
   "execution_count": 48,
   "metadata": {
    "slideshow": {
     "slide_type": "slide"
    }
   },
   "outputs": [],
   "source": [
    "from bokeh.models.tools import HoverTool\n",
    "hover = HoverTool(\n",
    "    tooltips=[\n",
    "        (\"Points per game\", \"@pts_per_game\"),\n",
    "        (\"Games played\", \"@GP\")\n",
    "    ]\n",
    ")"
   ]
  },
  {
   "cell_type": "code",
   "execution_count": 49,
   "metadata": {
    "slideshow": {
     "slide_type": "slide"
    }
   },
   "outputs": [],
   "source": [
    "src = cds(wayne)\n",
    "p = figure(x_axis_type='datetime', \n",
    "           width=500,\n",
    "           height=500, \n",
    "           y_range=list(wayne.tmID.cat.categories)\n",
    ")\n",
    "p.vbar(bottom='bottom', top='top', x='year', width=width,\n",
    "       color={'field': 'pts_per_game', 'transform': color_mapper}, source=src)\n",
    "color_bar = ColorBar(color_mapper=color_mapper,\n",
    "                     label_standoff=8, border_line_color=None, \n",
    "                     location=(0,0)\n",
    ")\n",
    "\n",
    "p.add_layout(color_bar, 'right')\n",
    "p.add_tools(hover);"
   ]
  },
  {
   "cell_type": "code",
   "execution_count": 50,
   "metadata": {
    "slideshow": {
     "slide_type": "slide"
    }
   },
   "outputs": [
    {
     "data": {
      "text/html": [
       "\n",
       "\n",
       "\n",
       "\n",
       "\n",
       "\n",
       "  <div class=\"bk-root\" id=\"d137441f-07ae-46e4-a267-23e3e09375cc\" data-root-id=\"3911\"></div>\n"
      ]
     },
     "metadata": {},
     "output_type": "display_data"
    },
    {
     "data": {
      "application/javascript": [
       "(function(root) {\n",
       "  function embed_document(root) {\n",
       "    \n",
       "  var docs_json = {\"3501960e-2a36-4245-ad65-7ac11cb9cacf\":{\"roots\":{\"references\":[{\"attributes\":{\"below\":[{\"id\":\"3920\",\"type\":\"DatetimeAxis\"}],\"center\":[{\"id\":\"3924\",\"type\":\"Grid\"},{\"id\":\"3928\",\"type\":\"Grid\"}],\"left\":[{\"id\":\"3925\",\"type\":\"CategoricalAxis\"}],\"plot_height\":500,\"plot_width\":500,\"renderers\":[{\"id\":\"3945\",\"type\":\"GlyphRenderer\"}],\"right\":[{\"id\":\"3947\",\"type\":\"ColorBar\"}],\"title\":{\"id\":\"4162\",\"type\":\"Title\"},\"toolbar\":{\"id\":\"3935\",\"type\":\"Toolbar\"},\"x_range\":{\"id\":\"3912\",\"type\":\"DataRange1d\"},\"x_scale\":{\"id\":\"3916\",\"type\":\"LinearScale\"},\"y_range\":{\"id\":\"3914\",\"type\":\"FactorRange\"},\"y_scale\":{\"id\":\"3918\",\"type\":\"CategoricalScale\"}},\"id\":\"3911\",\"subtype\":\"Figure\",\"type\":\"Plot\"},{\"attributes\":{\"high\":2.77027027027027,\"low\":0.8857142857142857,\"palette\":[\"#0C0786\",\"#100787\",\"#130689\",\"#15068A\",\"#18068B\",\"#1B068C\",\"#1D068D\",\"#1F058E\",\"#21058F\",\"#230590\",\"#250591\",\"#270592\",\"#290593\",\"#2B0594\",\"#2D0494\",\"#2F0495\",\"#310496\",\"#330497\",\"#340498\",\"#360498\",\"#380499\",\"#3A049A\",\"#3B039A\",\"#3D039B\",\"#3F039C\",\"#40039C\",\"#42039D\",\"#44039E\",\"#45039E\",\"#47029F\",\"#49029F\",\"#4A02A0\",\"#4C02A1\",\"#4E02A1\",\"#4F02A2\",\"#5101A2\",\"#5201A3\",\"#5401A3\",\"#5601A3\",\"#5701A4\",\"#5901A4\",\"#5A00A5\",\"#5C00A5\",\"#5E00A5\",\"#5F00A6\",\"#6100A6\",\"#6200A6\",\"#6400A7\",\"#6500A7\",\"#6700A7\",\"#6800A7\",\"#6A00A7\",\"#6C00A8\",\"#6D00A8\",\"#6F00A8\",\"#7000A8\",\"#7200A8\",\"#7300A8\",\"#7500A8\",\"#7601A8\",\"#7801A8\",\"#7901A8\",\"#7B02A8\",\"#7C02A7\",\"#7E03A7\",\"#7F03A7\",\"#8104A7\",\"#8204A7\",\"#8405A6\",\"#8506A6\",\"#8607A6\",\"#8807A5\",\"#8908A5\",\"#8B09A4\",\"#8C0AA4\",\"#8E0CA4\",\"#8F0DA3\",\"#900EA3\",\"#920FA2\",\"#9310A1\",\"#9511A1\",\"#9612A0\",\"#9713A0\",\"#99149F\",\"#9A159E\",\"#9B179E\",\"#9D189D\",\"#9E199C\",\"#9F1A9B\",\"#A01B9B\",\"#A21C9A\",\"#A31D99\",\"#A41E98\",\"#A51F97\",\"#A72197\",\"#A82296\",\"#A92395\",\"#AA2494\",\"#AC2593\",\"#AD2692\",\"#AE2791\",\"#AF2890\",\"#B02A8F\",\"#B12B8F\",\"#B22C8E\",\"#B42D8D\",\"#B52E8C\",\"#B62F8B\",\"#B7308A\",\"#B83289\",\"#B93388\",\"#BA3487\",\"#BB3586\",\"#BC3685\",\"#BD3784\",\"#BE3883\",\"#BF3982\",\"#C03B81\",\"#C13C80\",\"#C23D80\",\"#C33E7F\",\"#C43F7E\",\"#C5407D\",\"#C6417C\",\"#C7427B\",\"#C8447A\",\"#C94579\",\"#CA4678\",\"#CB4777\",\"#CC4876\",\"#CD4975\",\"#CE4A75\",\"#CF4B74\",\"#D04D73\",\"#D14E72\",\"#D14F71\",\"#D25070\",\"#D3516F\",\"#D4526E\",\"#D5536D\",\"#D6556D\",\"#D7566C\",\"#D7576B\",\"#D8586A\",\"#D95969\",\"#DA5A68\",\"#DB5B67\",\"#DC5D66\",\"#DC5E66\",\"#DD5F65\",\"#DE6064\",\"#DF6163\",\"#DF6262\",\"#E06461\",\"#E16560\",\"#E26660\",\"#E3675F\",\"#E3685E\",\"#E46A5D\",\"#E56B5C\",\"#E56C5B\",\"#E66D5A\",\"#E76E5A\",\"#E87059\",\"#E87158\",\"#E97257\",\"#EA7356\",\"#EA7455\",\"#EB7654\",\"#EC7754\",\"#EC7853\",\"#ED7952\",\"#ED7B51\",\"#EE7C50\",\"#EF7D4F\",\"#EF7E4E\",\"#F0804D\",\"#F0814D\",\"#F1824C\",\"#F2844B\",\"#F2854A\",\"#F38649\",\"#F38748\",\"#F48947\",\"#F48A47\",\"#F58B46\",\"#F58D45\",\"#F68E44\",\"#F68F43\",\"#F69142\",\"#F79241\",\"#F79341\",\"#F89540\",\"#F8963F\",\"#F8983E\",\"#F9993D\",\"#F99A3C\",\"#FA9C3B\",\"#FA9D3A\",\"#FA9F3A\",\"#FAA039\",\"#FBA238\",\"#FBA337\",\"#FBA436\",\"#FCA635\",\"#FCA735\",\"#FCA934\",\"#FCAA33\",\"#FCAC32\",\"#FCAD31\",\"#FDAF31\",\"#FDB030\",\"#FDB22F\",\"#FDB32E\",\"#FDB52D\",\"#FDB62D\",\"#FDB82C\",\"#FDB92B\",\"#FDBB2B\",\"#FDBC2A\",\"#FDBE29\",\"#FDC029\",\"#FDC128\",\"#FDC328\",\"#FDC427\",\"#FDC626\",\"#FCC726\",\"#FCC926\",\"#FCCB25\",\"#FCCC25\",\"#FCCE25\",\"#FBD024\",\"#FBD124\",\"#FBD324\",\"#FAD524\",\"#FAD624\",\"#FAD824\",\"#F9D924\",\"#F9DB24\",\"#F8DD24\",\"#F8DF24\",\"#F7E024\",\"#F7E225\",\"#F6E425\",\"#F6E525\",\"#F5E726\",\"#F5E926\",\"#F4EA26\",\"#F3EC26\",\"#F3EE26\",\"#F2F026\",\"#F2F126\",\"#F1F326\",\"#F0F525\",\"#F0F623\",\"#EFF821\"]},\"id\":\"3168\",\"type\":\"LinearColorMapper\"},{\"attributes\":{},\"id\":\"3918\",\"type\":\"CategoricalScale\"},{\"attributes\":{},\"id\":\"4165\",\"type\":\"BasicTicker\"},{\"attributes\":{\"formatter\":{\"id\":\"4168\",\"type\":\"DatetimeTickFormatter\"},\"ticker\":{\"id\":\"3921\",\"type\":\"DatetimeTicker\"}},\"id\":\"3920\",\"type\":\"DatetimeAxis\"},{\"attributes\":{\"months\":[0,4,8]},\"id\":\"4180\",\"type\":\"MonthsTicker\"},{\"attributes\":{\"months\":[0,6]},\"id\":\"4181\",\"type\":\"MonthsTicker\"},{\"attributes\":{\"num_minor_ticks\":5,\"tickers\":[{\"id\":\"4171\",\"type\":\"AdaptiveTicker\"},{\"id\":\"4172\",\"type\":\"AdaptiveTicker\"},{\"id\":\"4173\",\"type\":\"AdaptiveTicker\"},{\"id\":\"4174\",\"type\":\"DaysTicker\"},{\"id\":\"4175\",\"type\":\"DaysTicker\"},{\"id\":\"4176\",\"type\":\"DaysTicker\"},{\"id\":\"4177\",\"type\":\"DaysTicker\"},{\"id\":\"4178\",\"type\":\"MonthsTicker\"},{\"id\":\"4179\",\"type\":\"MonthsTicker\"},{\"id\":\"4180\",\"type\":\"MonthsTicker\"},{\"id\":\"4181\",\"type\":\"MonthsTicker\"},{\"id\":\"4182\",\"type\":\"YearsTicker\"}]},\"id\":\"3921\",\"type\":\"DatetimeTicker\"},{\"attributes\":{},\"id\":\"4166\",\"type\":\"BasicTickFormatter\"},{\"attributes\":{\"callback\":null,\"tooltips\":[[\"Points per game\",\"@pts_per_game\"],[\"Games played\",\"@GP\"]]},\"id\":\"3909\",\"type\":\"HoverTool\"},{\"attributes\":{},\"id\":\"4168\",\"type\":\"DatetimeTickFormatter\"},{\"attributes\":{\"ticker\":{\"id\":\"3921\",\"type\":\"DatetimeTicker\"}},\"id\":\"3924\",\"type\":\"Grid\"},{\"attributes\":{},\"id\":\"4169\",\"type\":\"Selection\"},{\"attributes\":{},\"id\":\"4170\",\"type\":\"UnionRenderers\"},{\"attributes\":{\"formatter\":{\"id\":\"4164\",\"type\":\"CategoricalTickFormatter\"},\"ticker\":{\"id\":\"3926\",\"type\":\"CategoricalTicker\"}},\"id\":\"3925\",\"type\":\"CategoricalAxis\"},{\"attributes\":{},\"id\":\"3926\",\"type\":\"CategoricalTicker\"},{\"attributes\":{\"text\":\"\"},\"id\":\"4162\",\"type\":\"Title\"},{\"attributes\":{},\"id\":\"4182\",\"type\":\"YearsTicker\"},{\"attributes\":{\"mantissas\":[1,2,5],\"max_interval\":500.0,\"num_minor_ticks\":0},\"id\":\"4171\",\"type\":\"AdaptiveTicker\"},{\"attributes\":{\"dimension\":1,\"ticker\":{\"id\":\"3926\",\"type\":\"CategoricalTicker\"}},\"id\":\"3928\",\"type\":\"Grid\"},{\"attributes\":{\"months\":[0,1,2,3,4,5,6,7,8,9,10,11]},\"id\":\"4178\",\"type\":\"MonthsTicker\"},{\"attributes\":{\"base\":60,\"mantissas\":[1,2,5,10,15,20,30],\"max_interval\":1800000.0,\"min_interval\":1000.0,\"num_minor_ticks\":0},\"id\":\"4172\",\"type\":\"AdaptiveTicker\"},{\"attributes\":{\"bottom\":{\"field\":\"bottom\"},\"fill_alpha\":{\"value\":0.1},\"fill_color\":{\"value\":\"#1f77b4\"},\"line_alpha\":{\"value\":0.1},\"line_color\":{\"value\":\"#1f77b4\"},\"top\":{\"field\":\"top\"},\"width\":{\"value\":27648000000},\"x\":{\"field\":\"year\"}},\"id\":\"3944\",\"type\":\"VBar\"},{\"attributes\":{\"base\":24,\"mantissas\":[1,2,4,6,8,12],\"max_interval\":43200000.0,\"min_interval\":3600000.0,\"num_minor_ticks\":0},\"id\":\"4173\",\"type\":\"AdaptiveTicker\"},{\"attributes\":{\"bottom\":{\"field\":\"bottom\"},\"fill_color\":{\"field\":\"pts_per_game\",\"transform\":{\"id\":\"3168\",\"type\":\"LinearColorMapper\"}},\"line_color\":{\"field\":\"pts_per_game\",\"transform\":{\"id\":\"3168\",\"type\":\"LinearColorMapper\"}},\"top\":{\"field\":\"top\"},\"width\":{\"value\":27648000000},\"x\":{\"field\":\"year\"}},\"id\":\"3943\",\"type\":\"VBar\"},{\"attributes\":{\"callback\":null,\"data\":{\"GP\":{\"__ndarray__\":\"AAAAAAAAVEAAAAAAAABUQAAAAAAAAFRAAAAAAACAUkAAAAAAAABUQAAAAAAAAFRAAAAAAADAU0AAAAAAAABQQAAAAAAAgFNAAAAAAABAUkAAAAAAAIBTQAAAAAAAgFJAAAAAAACARkAAAAAAAEBUQAAAAAAAAEhAAAAAAAAAT0AAAAAAAAAyQAAAAAAAgFRAAAAAAACAVEAAAAAAAIBRQA==\",\"dtype\":\"float64\",\"shape\":[20]},\"Pts\":{\"__ndarray__\":\"AAAAAACAZEAAAAAAAIBqQAAAAAAAgGhAAAAAAACgaUAAAAAAAABqQAAAAAAA4GpAAAAAAADgZkAAAAAAAKBiQAAAAAAAAGVAAAAAAADAYUAAAAAAAGBkQAAAAAAAQF5AAAAAAABAUEAAAAAAAEBgQAAAAAAAAEhAAAAAAABAVEAAAAAAAAA1QAAAAAAAQFhAAAAAAACAVkAAAAAAAABPQA==\",\"dtype\":\"float64\",\"shape\":[20]},\"bottom\":{\"__ndarray__\":\"GJyPwfkYvD8YnI/B+Ri8Pxicj8H5GLw/ytG4HI3LwT8YnI/B+Ri8Pxicj8H5GLw/WJ2K1alYvT8I2J+A/QnIP+pZmJ6F6fE/TcrWpGxN8j/qWZiehenxPzkal6NxOfI/fQzOx+B89D+uSdmalK3xP0H8DsTvQPQ/KVuTsjUp8z9Mz8L0LEwDQM3MzMzMzAhAzczMzMzMCEBF7UrUrkQJQA==\",\"dtype\":\"float64\",\"shape\":[20]},\"height\":{\"__ndarray__\":\"+hicj8H56D/6GJyPwfnoP/oYnI/B+eg/G5ejcTka5z/6GJyPwfnoP/oYnI/B+eg/qliditWp6D/8E7A/AfvjP1qYnoXpWeg/y9akbE3K5j9amJ6F6VnoPxuXo3E5Guc/GpyPwfkY3D9K2ZqUrUnpP/gdiN+B+N0/XJOyNSlb4z97FqZnYXrGP5qZmZmZmek/mpmZmZmZ6T/blahdidrlPw==\",\"dtype\":\"float64\",\"shape\":[20]},\"playerID\":[\"gretzwa01\",\"gretzwa01\",\"gretzwa01\",\"gretzwa01\",\"gretzwa01\",\"gretzwa01\",\"gretzwa01\",\"gretzwa01\",\"gretzwa01\",\"gretzwa01\",\"gretzwa01\",\"gretzwa01\",\"gretzwa01\",\"gretzwa01\",\"gretzwa01\",\"gretzwa01\",\"gretzwa01\",\"gretzwa01\",\"gretzwa01\",\"gretzwa01\"],\"pts_per_game\":{\"__ndarray__\":\"ZmZmZmZmAEAzMzMzMzMFQJqZmZmZmQNAmCKfdYMpBkDNzMzMzMwEQAAAAAAAgAVAEJWO7BmIAkAAAAAAAKACQLETO7ETOwFA+fHjx48f/z99y7d8y7cAQJgin3WDKfo/x3Ecx3Ec9z+IRcrA0635PwAAAAAAAPA/55xzzjnn9D+rqqqqqqryP+1K1K5E7fI/kMH5GJyP8T98xVd8xVfsPw==\",\"dtype\":\"float64\",\"shape\":[20]},\"tmCode\":{\"__ndarray__\":\"AAAAAAAAAAABAQEBAQEBAQIDAwM=\",\"dtype\":\"int8\",\"shape\":[20]},\"tmID\":[\"EDM\",\"EDM\",\"EDM\",\"EDM\",\"EDM\",\"EDM\",\"EDM\",\"EDM\",\"LAK\",\"LAK\",\"LAK\",\"LAK\",\"LAK\",\"LAK\",\"LAK\",\"LAK\",\"STL\",\"NYR\",\"NYR\",\"NYR\"],\"top\":{\"__ndarray__\":\"fQzOx+B87D99DM7H4HzsP30MzsfgfOw/jsvRuByN6z99DM7H4HzsP30MzsfgfOw/VaxOxepU7D/+CdifgP3pPxemZ2F6Fv4/sjUpW5Oy/T8Xpmdhehb+P8blaFyOxv0/hPMxOB+D+z9TtiZla1L+P78D8TsQv/s/16RsTcrW/D+0MD0L07MEQDQzMzMzMw9ANDMzMzMzD0C8ErUrUbsOQA==\",\"dtype\":\"float64\",\"shape\":[20]},\"year\":{\"__ndarray__\":\"AAAAHM5dUkIAAAD+AzVUQgAAAEnwClZCAAAAlNzgV0IAAADfyLZZQgAAAMH+jVtCAAAADOtjXUIAAABX1zlfQgAAANHhh2BCAAAAwnxzYUIAAIDncl5iQgAAAA1pSWNCAACAMl80ZEIAAIAj+h9lQgAAAEnwCmZCAACAbub1ZkIAAIBu5vVmQgAAAJTc4GdCAAAAhXfMaEIAAICqbbdpQg==\",\"dtype\":\"float64\",\"shape\":[20]}},\"selected\":{\"id\":\"4169\",\"type\":\"Selection\"},\"selection_policy\":{\"id\":\"4170\",\"type\":\"UnionRenderers\"}},\"id\":\"3910\",\"type\":\"ColumnDataSource\"},{\"attributes\":{\"days\":[1,2,3,4,5,6,7,8,9,10,11,12,13,14,15,16,17,18,19,20,21,22,23,24,25,26,27,28,29,30,31]},\"id\":\"4174\",\"type\":\"DaysTicker\"},{\"attributes\":{},\"id\":\"3929\",\"type\":\"PanTool\"},{\"attributes\":{\"source\":{\"id\":\"3910\",\"type\":\"ColumnDataSource\"}},\"id\":\"3946\",\"type\":\"CDSView\"},{\"attributes\":{\"days\":[1,4,7,10,13,16,19,22,25,28]},\"id\":\"4175\",\"type\":\"DaysTicker\"},{\"attributes\":{},\"id\":\"3930\",\"type\":\"WheelZoomTool\"},{\"attributes\":{\"days\":[1,15]},\"id\":\"4177\",\"type\":\"DaysTicker\"},{\"attributes\":{},\"id\":\"3916\",\"type\":\"LinearScale\"},{\"attributes\":{\"overlay\":{\"id\":\"4183\",\"type\":\"BoxAnnotation\"}},\"id\":\"3931\",\"type\":\"BoxZoomTool\"},{\"attributes\":{\"days\":[1,8,15,22]},\"id\":\"4176\",\"type\":\"DaysTicker\"},{\"attributes\":{},\"id\":\"3932\",\"type\":\"SaveTool\"},{\"attributes\":{},\"id\":\"4164\",\"type\":\"CategoricalTickFormatter\"},{\"attributes\":{},\"id\":\"3933\",\"type\":\"ResetTool\"},{\"attributes\":{\"callback\":null,\"factors\":[\"EDM\",\"LAK\",\"STL\",\"NYR\"]},\"id\":\"3914\",\"type\":\"FactorRange\"},{\"attributes\":{\"months\":[0,2,4,6,8,10]},\"id\":\"4179\",\"type\":\"MonthsTicker\"},{\"attributes\":{},\"id\":\"3934\",\"type\":\"HelpTool\"},{\"attributes\":{\"callback\":null},\"id\":\"3912\",\"type\":\"DataRange1d\"},{\"attributes\":{\"active_drag\":\"auto\",\"active_inspect\":\"auto\",\"active_multi\":null,\"active_scroll\":\"auto\",\"active_tap\":\"auto\",\"tools\":[{\"id\":\"3929\",\"type\":\"PanTool\"},{\"id\":\"3930\",\"type\":\"WheelZoomTool\"},{\"id\":\"3931\",\"type\":\"BoxZoomTool\"},{\"id\":\"3932\",\"type\":\"SaveTool\"},{\"id\":\"3933\",\"type\":\"ResetTool\"},{\"id\":\"3934\",\"type\":\"HelpTool\"},{\"id\":\"3909\",\"type\":\"HoverTool\"}]},\"id\":\"3935\",\"type\":\"Toolbar\"},{\"attributes\":{\"data_source\":{\"id\":\"3910\",\"type\":\"ColumnDataSource\"},\"glyph\":{\"id\":\"3943\",\"type\":\"VBar\"},\"hover_glyph\":null,\"muted_glyph\":null,\"nonselection_glyph\":{\"id\":\"3944\",\"type\":\"VBar\"},\"selection_glyph\":null,\"view\":{\"id\":\"3946\",\"type\":\"CDSView\"}},\"id\":\"3945\",\"type\":\"GlyphRenderer\"},{\"attributes\":{\"color_mapper\":{\"id\":\"3168\",\"type\":\"LinearColorMapper\"},\"formatter\":{\"id\":\"4166\",\"type\":\"BasicTickFormatter\"},\"label_standoff\":8,\"location\":[0,0],\"ticker\":{\"id\":\"4165\",\"type\":\"BasicTicker\"}},\"id\":\"3947\",\"type\":\"ColorBar\"},{\"attributes\":{\"bottom_units\":\"screen\",\"fill_alpha\":{\"value\":0.5},\"fill_color\":{\"value\":\"lightgrey\"},\"left_units\":\"screen\",\"level\":\"overlay\",\"line_alpha\":{\"value\":1.0},\"line_color\":{\"value\":\"black\"},\"line_dash\":[4,4],\"line_width\":{\"value\":2},\"render_mode\":\"css\",\"right_units\":\"screen\",\"top_units\":\"screen\"},\"id\":\"4183\",\"type\":\"BoxAnnotation\"}],\"root_ids\":[\"3911\"]},\"title\":\"Bokeh Application\",\"version\":\"1.2.0\"}};\n",
       "  var render_items = [{\"docid\":\"3501960e-2a36-4245-ad65-7ac11cb9cacf\",\"roots\":{\"3911\":\"d137441f-07ae-46e4-a267-23e3e09375cc\"}}];\n",
       "  root.Bokeh.embed.embed_items_notebook(docs_json, render_items);\n",
       "\n",
       "  }\n",
       "  if (root.Bokeh !== undefined) {\n",
       "    embed_document(root);\n",
       "  } else {\n",
       "    var attempts = 0;\n",
       "    var timer = setInterval(function(root) {\n",
       "      if (root.Bokeh !== undefined) {\n",
       "        embed_document(root);\n",
       "        clearInterval(timer);\n",
       "      }\n",
       "      attempts++;\n",
       "      if (attempts > 100) {\n",
       "        console.log(\"Bokeh: ERROR: Unable to run BokehJS code because BokehJS library is missing\");\n",
       "        clearInterval(timer);\n",
       "      }\n",
       "    }, 10, root)\n",
       "  }\n",
       "})(window);"
      ],
      "application/vnd.bokehjs_exec.v0+json": ""
     },
     "metadata": {
      "application/vnd.bokehjs_exec.v0+json": {
       "id": "3911"
      }
     },
     "output_type": "display_data"
    }
   ],
   "source": [
    "show(p)"
   ]
  }
 ],
 "metadata": {
  "kernelspec": {
   "display_name": "Python 3",
   "language": "python",
   "name": "python3"
  },
  "language_info": {
   "codemirror_mode": {
    "name": "ipython",
    "version": 3
   },
   "file_extension": ".py",
   "mimetype": "text/x-python",
   "name": "python",
   "nbconvert_exporter": "python",
   "pygments_lexer": "ipython3",
   "version": "3.7.3"
  }
 },
 "nbformat": 4,
 "nbformat_minor": 2
}
