{
 "cells": [
  {
   "cell_type": "code",
   "execution_count": 1,
   "metadata": {
    "slideshow": {
     "slide_type": "slide"
    }
   },
   "outputs": [],
   "source": [
    "import pandas as pd\n",
    "import os"
   ]
  },
  {
   "cell_type": "code",
   "execution_count": 2,
   "metadata": {
    "slideshow": {
     "slide_type": "fragment"
    }
   },
   "outputs": [],
   "source": [
    "master = pd.read_pickle(os.path.join(\"..\", \"master.pickle\"))\n",
    "team_splits = pd.read_pickle(os.path.join(\"..\", \"team_splits_mi.pickle\"))"
   ]
  },
  {
   "cell_type": "code",
   "execution_count": 3,
   "metadata": {
    "slideshow": {
     "slide_type": "slide"
    }
   },
   "outputs": [
    {
     "data": {
      "text/html": [
       "<div>\n",
       "<style scoped>\n",
       "    .dataframe tbody tr th:only-of-type {\n",
       "        vertical-align: middle;\n",
       "    }\n",
       "\n",
       "    .dataframe tbody tr th {\n",
       "        vertical-align: top;\n",
       "    }\n",
       "\n",
       "    .dataframe thead th {\n",
       "        text-align: right;\n",
       "    }\n",
       "</style>\n",
       "<table border=\"1\" class=\"dataframe\">\n",
       "  <thead>\n",
       "    <tr style=\"text-align: right;\">\n",
       "      <th></th>\n",
       "      <th>firstName</th>\n",
       "      <th>lastName</th>\n",
       "      <th>pos</th>\n",
       "      <th>birthYear</th>\n",
       "      <th>birthMon</th>\n",
       "      <th>birthDay</th>\n",
       "      <th>birthCountry</th>\n",
       "      <th>birthState</th>\n",
       "      <th>birthCity</th>\n",
       "    </tr>\n",
       "    <tr>\n",
       "      <th>playerID</th>\n",
       "      <th></th>\n",
       "      <th></th>\n",
       "      <th></th>\n",
       "      <th></th>\n",
       "      <th></th>\n",
       "      <th></th>\n",
       "      <th></th>\n",
       "      <th></th>\n",
       "      <th></th>\n",
       "    </tr>\n",
       "  </thead>\n",
       "  <tbody>\n",
       "    <tr>\n",
       "      <th>aaltoan01</th>\n",
       "      <td>Antti</td>\n",
       "      <td>Aalto</td>\n",
       "      <td>C</td>\n",
       "      <td>1975.0</td>\n",
       "      <td>3.0</td>\n",
       "      <td>4.0</td>\n",
       "      <td>Finland</td>\n",
       "      <td>NaN</td>\n",
       "      <td>Lappeenranta</td>\n",
       "    </tr>\n",
       "    <tr>\n",
       "      <th>abdelju01</th>\n",
       "      <td>Justin</td>\n",
       "      <td>Abdelkader</td>\n",
       "      <td>L</td>\n",
       "      <td>1987.0</td>\n",
       "      <td>2.0</td>\n",
       "      <td>25.0</td>\n",
       "      <td>USA</td>\n",
       "      <td>MI</td>\n",
       "      <td>Muskegon</td>\n",
       "    </tr>\n",
       "    <tr>\n",
       "      <th>abidra01</th>\n",
       "      <td>Ramzi</td>\n",
       "      <td>Abid</td>\n",
       "      <td>L</td>\n",
       "      <td>1980.0</td>\n",
       "      <td>3.0</td>\n",
       "      <td>24.0</td>\n",
       "      <td>Canada</td>\n",
       "      <td>QC</td>\n",
       "      <td>Montreal</td>\n",
       "    </tr>\n",
       "    <tr>\n",
       "      <th>abrahth01</th>\n",
       "      <td>Thommy</td>\n",
       "      <td>Abrahamsson</td>\n",
       "      <td>D</td>\n",
       "      <td>1947.0</td>\n",
       "      <td>4.0</td>\n",
       "      <td>12.0</td>\n",
       "      <td>Sweden</td>\n",
       "      <td>NaN</td>\n",
       "      <td>Leksand</td>\n",
       "    </tr>\n",
       "    <tr>\n",
       "      <th>actonke01</th>\n",
       "      <td>Keith</td>\n",
       "      <td>Acton</td>\n",
       "      <td>C</td>\n",
       "      <td>1958.0</td>\n",
       "      <td>4.0</td>\n",
       "      <td>15.0</td>\n",
       "      <td>Canada</td>\n",
       "      <td>ON</td>\n",
       "      <td>Stouffville</td>\n",
       "    </tr>\n",
       "  </tbody>\n",
       "</table>\n",
       "</div>"
      ],
      "text/plain": [
       "          firstName     lastName pos  birthYear  birthMon  birthDay  \\\n",
       "playerID                                                              \n",
       "aaltoan01     Antti        Aalto   C     1975.0       3.0       4.0   \n",
       "abdelju01    Justin   Abdelkader   L     1987.0       2.0      25.0   \n",
       "abidra01      Ramzi         Abid   L     1980.0       3.0      24.0   \n",
       "abrahth01    Thommy  Abrahamsson   D     1947.0       4.0      12.0   \n",
       "actonke01     Keith        Acton   C     1958.0       4.0      15.0   \n",
       "\n",
       "          birthCountry birthState     birthCity  \n",
       "playerID                                         \n",
       "aaltoan01      Finland        NaN  Lappeenranta  \n",
       "abdelju01          USA         MI      Muskegon  \n",
       "abidra01        Canada         QC      Montreal  \n",
       "abrahth01       Sweden        NaN       Leksand  \n",
       "actonke01       Canada         ON   Stouffville  "
      ]
     },
     "execution_count": 3,
     "metadata": {},
     "output_type": "execute_result"
    }
   ],
   "source": [
    "master.head()"
   ]
  },
  {
   "cell_type": "code",
   "execution_count": 4,
   "metadata": {
    "slideshow": {
     "slide_type": "slide"
    }
   },
   "outputs": [
    {
     "data": {
      "text/html": [
       "<div>\n",
       "<style scoped>\n",
       "    .dataframe tbody tr th:only-of-type {\n",
       "        vertical-align: middle;\n",
       "    }\n",
       "\n",
       "    .dataframe tbody tr th {\n",
       "        vertical-align: top;\n",
       "    }\n",
       "\n",
       "    .dataframe thead th {\n",
       "        text-align: right;\n",
       "    }\n",
       "</style>\n",
       "<table border=\"1\" class=\"dataframe\">\n",
       "  <thead>\n",
       "    <tr style=\"text-align: right;\">\n",
       "      <th></th>\n",
       "      <th>firstName</th>\n",
       "      <th>lastName</th>\n",
       "      <th>pos</th>\n",
       "      <th>birthCountry</th>\n",
       "      <th>birthState</th>\n",
       "      <th>birthCity</th>\n",
       "      <th>birthDate</th>\n",
       "    </tr>\n",
       "    <tr>\n",
       "      <th>playerID</th>\n",
       "      <th></th>\n",
       "      <th></th>\n",
       "      <th></th>\n",
       "      <th></th>\n",
       "      <th></th>\n",
       "      <th></th>\n",
       "      <th></th>\n",
       "    </tr>\n",
       "  </thead>\n",
       "  <tbody>\n",
       "    <tr>\n",
       "      <th>aaltoan01</th>\n",
       "      <td>Antti</td>\n",
       "      <td>Aalto</td>\n",
       "      <td>C</td>\n",
       "      <td>Finland</td>\n",
       "      <td>NaN</td>\n",
       "      <td>Lappeenranta</td>\n",
       "      <td>1975-03-04</td>\n",
       "    </tr>\n",
       "    <tr>\n",
       "      <th>abdelju01</th>\n",
       "      <td>Justin</td>\n",
       "      <td>Abdelkader</td>\n",
       "      <td>L</td>\n",
       "      <td>USA</td>\n",
       "      <td>MI</td>\n",
       "      <td>Muskegon</td>\n",
       "      <td>1987-02-25</td>\n",
       "    </tr>\n",
       "    <tr>\n",
       "      <th>abidra01</th>\n",
       "      <td>Ramzi</td>\n",
       "      <td>Abid</td>\n",
       "      <td>L</td>\n",
       "      <td>Canada</td>\n",
       "      <td>QC</td>\n",
       "      <td>Montreal</td>\n",
       "      <td>1980-03-24</td>\n",
       "    </tr>\n",
       "    <tr>\n",
       "      <th>abrahth01</th>\n",
       "      <td>Thommy</td>\n",
       "      <td>Abrahamsson</td>\n",
       "      <td>D</td>\n",
       "      <td>Sweden</td>\n",
       "      <td>NaN</td>\n",
       "      <td>Leksand</td>\n",
       "      <td>1947-04-12</td>\n",
       "    </tr>\n",
       "    <tr>\n",
       "      <th>actonke01</th>\n",
       "      <td>Keith</td>\n",
       "      <td>Acton</td>\n",
       "      <td>C</td>\n",
       "      <td>Canada</td>\n",
       "      <td>ON</td>\n",
       "      <td>Stouffville</td>\n",
       "      <td>1958-04-15</td>\n",
       "    </tr>\n",
       "  </tbody>\n",
       "</table>\n",
       "</div>"
      ],
      "text/plain": [
       "          firstName     lastName pos birthCountry birthState     birthCity  \\\n",
       "playerID                                                                     \n",
       "aaltoan01     Antti        Aalto   C      Finland        NaN  Lappeenranta   \n",
       "abdelju01    Justin   Abdelkader   L          USA         MI      Muskegon   \n",
       "abidra01      Ramzi         Abid   L       Canada         QC      Montreal   \n",
       "abrahth01    Thommy  Abrahamsson   D       Sweden        NaN       Leksand   \n",
       "actonke01     Keith        Acton   C       Canada         ON   Stouffville   \n",
       "\n",
       "           birthDate  \n",
       "playerID              \n",
       "aaltoan01 1975-03-04  \n",
       "abdelju01 1987-02-25  \n",
       "abidra01  1980-03-24  \n",
       "abrahth01 1947-04-12  \n",
       "actonke01 1958-04-15  "
      ]
     },
     "execution_count": 4,
     "metadata": {},
     "output_type": "execute_result"
    }
   ],
   "source": [
    "master = master.assign(birthDate = pd.to_datetime({\n",
    "    'year': master.birthYear,\n",
    "    'month': master.birthMon,\n",
    "    'day': master.birthDay\n",
    "}))\n",
    "master = master.drop(columns=['birthYear', 'birthMon', 'birthDay'])\n",
    "master.head()"
   ]
  },
  {
   "cell_type": "code",
   "execution_count": 5,
   "metadata": {
    "slideshow": {
     "slide_type": "slide"
    }
   },
   "outputs": [
    {
     "data": {
      "text/plain": [
       "playerID\n",
       "aaltoan01   1975-03-04\n",
       "abdelju01   1987-02-25\n",
       "Name: birthDate, dtype: datetime64[ns]"
      ]
     },
     "execution_count": 5,
     "metadata": {},
     "output_type": "execute_result"
    }
   ],
   "source": [
    "master.birthDate.head(2)"
   ]
  },
  {
   "cell_type": "code",
   "execution_count": 6,
   "metadata": {
    "slideshow": {
     "slide_type": "fragment"
    }
   },
   "outputs": [
    {
     "data": {
      "text/plain": [
       "Timestamp('1975-03-04 00:00:00')"
      ]
     },
     "execution_count": 6,
     "metadata": {},
     "output_type": "execute_result"
    }
   ],
   "source": [
    "master.birthDate[0]"
   ]
  },
  {
   "cell_type": "code",
   "execution_count": 7,
   "metadata": {
    "slideshow": {
     "slide_type": "slide"
    }
   },
   "outputs": [],
   "source": [
    "ts = master.birthDate[0]"
   ]
  },
  {
   "cell_type": "code",
   "execution_count": 8,
   "metadata": {
    "slideshow": {
     "slide_type": "fragment"
    }
   },
   "outputs": [
    {
     "name": "stdout",
     "output_type": "stream",
     "text": [
      "Tuesday, 4 March 1975\n"
     ]
    }
   ],
   "source": [
    "print(u\"{}, {} {} {}\".format(ts.day_name(), ts.day,\n",
    "                             ts.month_name(),ts.year))\n"
   ]
  },
  {
   "cell_type": "code",
   "execution_count": 9,
   "metadata": {
    "scrolled": true,
    "slideshow": {
     "slide_type": "slide"
    }
   },
   "outputs": [
    {
     "data": {
      "text/plain": [
       "Timestamp('1975-03-04 00:00:00-0500', tz='America/Toronto')"
      ]
     },
     "execution_count": 9,
     "metadata": {},
     "output_type": "execute_result"
    }
   ],
   "source": [
    "tsz = ts.tz_localize('America/Toronto')\n",
    "tsz"
   ]
  },
  {
   "cell_type": "code",
   "execution_count": 10,
   "metadata": {
    "slideshow": {
     "slide_type": "fragment"
    }
   },
   "outputs": [
    {
     "data": {
      "text/plain": [
       "Timestamp('1975-03-04 05:00:00+0000', tz='Europe/London')"
      ]
     },
     "execution_count": 10,
     "metadata": {},
     "output_type": "execute_result"
    }
   ],
   "source": [
    "tsz.tz_convert('Europe/London')"
   ]
  },
  {
   "cell_type": "code",
   "execution_count": 11,
   "metadata": {
    "slideshow": {
     "slide_type": "slide"
    }
   },
   "outputs": [
    {
     "data": {
      "text/plain": [
       "playerID\n",
       "aaltoan01    1975\n",
       "abdelju01    1987\n",
       "abidra01     1980\n",
       "abrahth01    1947\n",
       "actonke01    1958\n",
       "Name: birthDate, dtype: int64"
      ]
     },
     "execution_count": 11,
     "metadata": {},
     "output_type": "execute_result"
    }
   ],
   "source": [
    "years = master.birthDate.dt.year\n",
    "years.head()"
   ]
  },
  {
   "cell_type": "code",
   "execution_count": 12,
   "metadata": {
    "slideshow": {
     "slide_type": "slide"
    }
   },
   "outputs": [
    {
     "data": {
      "text/plain": [
       "playerID\n",
       "aaltoan01    1975-04-1975-Tue\n",
       "abdelju01    1987-25-1987-Wed\n",
       "abidra01     1980-24-1980-Mon\n",
       "abrahth01    1947-12-1947-Sat\n",
       "actonke01    1958-15-1958-Tue\n",
       "Name: birthDate, dtype: object"
      ]
     },
     "execution_count": 12,
     "metadata": {},
     "output_type": "execute_result"
    }
   ],
   "source": [
    "strings = master.birthDate.dt.strftime(\"%Y-%d-%Y-%a\")\n",
    "strings.head()"
   ]
  },
  {
   "cell_type": "code",
   "execution_count": 13,
   "metadata": {
    "slideshow": {
     "slide_type": "slide"
    }
   },
   "outputs": [
    {
     "data": {
      "text/plain": [
       "playerID\n",
       "aaltoan01    1975-03-04\n",
       "abdelju01    1987-02-25\n",
       "abidra01     1980-03-24\n",
       "abrahth01    1947-04-12\n",
       "actonke01    1958-04-15\n",
       "Name: birthDate, dtype: object"
      ]
     },
     "execution_count": 13,
     "metadata": {},
     "output_type": "execute_result"
    }
   ],
   "source": [
    "strings = master.birthDate.dt.strftime(\"%Y-%m-%d\")\n",
    "strings.head()"
   ]
  },
  {
   "cell_type": "code",
   "execution_count": 14,
   "metadata": {
    "slideshow": {
     "slide_type": "slide"
    }
   },
   "outputs": [
    {
     "data": {
      "text/plain": [
       "playerID\n",
       "aaltoan01   1975-03-04\n",
       "abdelju01   1987-02-25\n",
       "abidra01    1980-03-24\n",
       "abrahth01   1947-04-12\n",
       "actonke01   1958-04-15\n",
       "Name: birthDate, dtype: datetime64[ns]"
      ]
     },
     "execution_count": 14,
     "metadata": {},
     "output_type": "execute_result"
    }
   ],
   "source": [
    "dates = pd.to_datetime(strings)\n",
    "dates.head()"
   ]
  },
  {
   "cell_type": "code",
   "execution_count": 15,
   "metadata": {
    "slideshow": {
     "slide_type": "slide"
    }
   },
   "outputs": [
    {
     "data": {
      "text/plain": [
       "playerID\n",
       "aaltoan01    1975xx03xx04\n",
       "abdelju01    1987xx02xx25\n",
       "abidra01     1980xx03xx24\n",
       "abrahth01    1947xx04xx12\n",
       "actonke01    1958xx04xx15\n",
       "Name: birthDate, dtype: object"
      ]
     },
     "execution_count": 15,
     "metadata": {},
     "output_type": "execute_result"
    }
   ],
   "source": [
    "strings = strings.str.replace(\"-\", \"xx\")\n",
    "strings.head()"
   ]
  },
  {
   "cell_type": "code",
   "execution_count": 16,
   "metadata": {
    "slideshow": {
     "slide_type": "fragment"
    }
   },
   "outputs": [
    {
     "name": "stdout",
     "output_type": "stream",
     "text": [
      "('Unknown string format:', '1975xx03xx04')\n"
     ]
    }
   ],
   "source": [
    "try:\n",
    "    pd.to_datetime(strings)\n",
    "except Exception as e:\n",
    "    print(e)"
   ]
  },
  {
   "cell_type": "code",
   "execution_count": 17,
   "metadata": {
    "slideshow": {
     "slide_type": "slide"
    }
   },
   "outputs": [
    {
     "data": {
      "text/plain": [
       "playerID\n",
       "aaltoan01   1975-03-04\n",
       "abdelju01   1987-02-25\n",
       "abidra01    1980-03-24\n",
       "abrahth01   1947-04-12\n",
       "actonke01   1958-04-15\n",
       "Name: birthDate, dtype: datetime64[ns]"
      ]
     },
     "execution_count": 17,
     "metadata": {},
     "output_type": "execute_result"
    }
   ],
   "source": [
    "parsed = pd.to_datetime(strings, format=\"%Yxx%mxx%d\")\n",
    "parsed.head()"
   ]
  },
  {
   "cell_type": "code",
   "execution_count": 18,
   "metadata": {
    "slideshow": {
     "slide_type": "fragment"
    }
   },
   "outputs": [
    {
     "name": "stdout",
     "output_type": "stream",
     "text": [
      "time data 'xx123' does not match format '%Yxx%mxx%d' (match)\n"
     ]
    }
   ],
   "source": [
    "strings_error = strings.copy()\n",
    "strings_error.iloc[34] = \"xx123\"\n",
    "\n",
    "try:\n",
    "    pd.to_datetime(strings_error, format=\"%Yxx%mxx%d\")\n",
    "except Exception as e:\n",
    "    print(e)"
   ]
  },
  {
   "cell_type": "code",
   "execution_count": 19,
   "metadata": {
    "slideshow": {
     "slide_type": "slide"
    }
   },
   "outputs": [
    {
     "data": {
      "text/plain": [
       "NaT"
      ]
     },
     "execution_count": 19,
     "metadata": {},
     "output_type": "execute_result"
    }
   ],
   "source": [
    "parsed = pd.to_datetime(strings_error,\n",
    "                        format=\"%Yxx%mxx%d\", errors='coerce')\n",
    "parsed.iloc[34]"
   ]
  },
  {
   "cell_type": "code",
   "execution_count": 20,
   "metadata": {
    "slideshow": {
     "slide_type": "fragment"
    }
   },
   "outputs": [
    {
     "data": {
      "text/plain": [
       "playerID\n",
       "aaltoan01    1975xx03xx04\n",
       "abdelju01    1987xx02xx25\n",
       "abidra01     1980xx03xx24\n",
       "abrahth01    1947xx04xx12\n",
       "actonke01    1958xx04xx15\n",
       "Name: birthDate, dtype: object"
      ]
     },
     "execution_count": 20,
     "metadata": {},
     "output_type": "execute_result"
    }
   ],
   "source": [
    "parsed = pd.to_datetime(strings_error,\n",
    "                        format=\"%Yxx%mxx%d\", errors='ignore')\n",
    "parsed.head()"
   ]
  },
  {
   "cell_type": "code",
   "execution_count": 21,
   "metadata": {
    "slideshow": {
     "slide_type": "slide"
    }
   },
   "outputs": [
    {
     "data": {
      "text/plain": [
       "birthDate\n",
       "1975-03-04    aaltoan01\n",
       "1987-02-25    abdelju01\n",
       "Name: playerID, dtype: object"
      ]
     },
     "execution_count": 21,
     "metadata": {},
     "output_type": "execute_result"
    }
   ],
   "source": [
    "birth_dates = pd.Series(master.index, index=master.birthDate)\n",
    "birth_dates.head(2)"
   ]
  },
  {
   "cell_type": "code",
   "execution_count": 22,
   "metadata": {
    "slideshow": {
     "slide_type": "fragment"
    }
   },
   "outputs": [
    {
     "data": {
      "text/plain": [
       "DatetimeIndex(['1975-03-04', '1987-02-25', '1980-03-24', '1947-04-12',\n",
       "               '1958-04-15', '1990-06-18', '1961-05-05', '1977-03-20',\n",
       "               '1977-04-26', '1960-05-31',\n",
       "               ...\n",
       "               '1987-09-01', '1963-05-08', '1987-03-03', '1987-02-14',\n",
       "               '1970-07-22', '1978-06-16', '1987-09-01', '1992-01-16',\n",
       "               '1954-04-16', '1978-01-21'],\n",
       "              dtype='datetime64[ns]', name='birthDate', length=4627, freq=None)"
      ]
     },
     "execution_count": 22,
     "metadata": {},
     "output_type": "execute_result"
    }
   ],
   "source": [
    "birth_dates.index"
   ]
  },
  {
   "cell_type": "code",
   "execution_count": 23,
   "metadata": {
    "slideshow": {
     "slide_type": "slide"
    }
   },
   "outputs": [
    {
     "data": {
      "text/plain": [
       "birthDate\n",
       "1940-01-27    harpete01\n",
       "1940-03-22     keonda01\n",
       "1940-10-03    ratelje01\n",
       "Name: playerID, dtype: object"
      ]
     },
     "execution_count": 23,
     "metadata": {},
     "output_type": "execute_result"
    }
   ],
   "source": [
    "birth_dates = birth_dates.sort_index()\n",
    "birth_dates.head(3)"
   ]
  },
  {
   "cell_type": "code",
   "execution_count": 24,
   "metadata": {
    "slideshow": {
     "slide_type": "fragment"
    }
   },
   "outputs": [
    {
     "data": {
      "text/plain": [
       "birthDate\n",
       "1980-01-02    zalesmi01\n",
       "1980-01-10    stanara01\n",
       "1980-01-13    bouckty01\n",
       "1980-01-13     ruppmi01\n",
       "1980-01-15    papinju01\n",
       "Name: playerID, dtype: object"
      ]
     },
     "execution_count": 24,
     "metadata": {},
     "output_type": "execute_result"
    }
   ],
   "source": [
    "born_1980 = birth_dates['1980']\n",
    "born_1980.head()"
   ]
  },
  {
   "cell_type": "code",
   "execution_count": 25,
   "metadata": {
    "slideshow": {
     "slide_type": "slide"
    }
   },
   "outputs": [
    {
     "data": {
      "text/plain": [
       "birthDate\n",
       "1980-07-03    miettan01\n",
       "1980-07-05    huntetr01\n",
       "1980-07-08    chouier01\n",
       "1980-07-15    cheecjo01\n",
       "1980-07-17    millery01\n",
       "1980-07-19    tanabda01\n",
       "1980-07-20    arsende01\n",
       "1980-07-22    kalindm01\n",
       "1980-07-24    jillsje01\n",
       "1980-07-24    printda01\n",
       "1980-07-31    fischji01\n",
       "Name: playerID, dtype: object"
      ]
     },
     "execution_count": 25,
     "metadata": {},
     "output_type": "execute_result"
    }
   ],
   "source": [
    "birth_dates['1980-07']"
   ]
  },
  {
   "cell_type": "code",
   "execution_count": 26,
   "metadata": {
    "slideshow": {
     "slide_type": "slide"
    }
   },
   "outputs": [
    {
     "data": {
      "text/plain": [
       "birthDate\n",
       "1980-07-24    jillsje01\n",
       "1980-07-24    printda01\n",
       "Name: playerID, dtype: object"
      ]
     },
     "execution_count": 26,
     "metadata": {},
     "output_type": "execute_result"
    }
   ],
   "source": [
    "birth_dates['1980-07-24']"
   ]
  },
  {
   "cell_type": "code",
   "execution_count": 27,
   "metadata": {},
   "outputs": [
    {
     "data": {
      "text/plain": [
       "birthDate\n",
       "1980-07-20    arsende01\n",
       "1980-07-22    kalindm01\n",
       "1980-07-24    jillsje01\n",
       "1980-07-24    printda01\n",
       "1980-07-31    fischji01\n",
       "Name: playerID, dtype: object"
      ]
     },
     "execution_count": 27,
     "metadata": {},
     "output_type": "execute_result"
    }
   ],
   "source": [
    "birth_dates['1980-07-20':'1980-07-31']"
   ]
  },
  {
   "cell_type": "markdown",
   "metadata": {
    "slideshow": {
     "slide_type": "skip"
    }
   },
   "source": [
    "# Other Data Types"
   ]
  },
  {
   "cell_type": "code",
   "execution_count": 28,
   "metadata": {
    "slideshow": {
     "slide_type": "slide"
    }
   },
   "outputs": [
    {
     "data": {
      "text/plain": [
       "Timedelta('55 days 00:00:00')"
      ]
     },
     "execution_count": 28,
     "metadata": {},
     "output_type": "execute_result"
    }
   ],
   "source": [
    "diff = birth_dates.index[1] - birth_dates.index[0]\n",
    "diff"
   ]
  },
  {
   "cell_type": "code",
   "execution_count": 29,
   "metadata": {
    "slideshow": {
     "slide_type": "fragment"
    }
   },
   "outputs": [
    {
     "data": {
      "text/plain": [
       "Timestamp('1945-09-08 00:00:00')"
      ]
     },
     "execution_count": 29,
     "metadata": {},
     "output_type": "execute_result"
    }
   ],
   "source": [
    "birth_dates.index[10]"
   ]
  },
  {
   "cell_type": "code",
   "execution_count": 30,
   "metadata": {
    "slideshow": {
     "slide_type": "fragment"
    }
   },
   "outputs": [
    {
     "data": {
      "text/plain": [
       "Timestamp('1945-11-02 00:00:00')"
      ]
     },
     "execution_count": 30,
     "metadata": {},
     "output_type": "execute_result"
    }
   ],
   "source": [
    "birth_dates.index[10] + diff"
   ]
  },
  {
   "cell_type": "code",
   "execution_count": 31,
   "metadata": {
    "slideshow": {
     "slide_type": "slide"
    }
   },
   "outputs": [
    {
     "data": {
      "text/plain": [
       "TimedeltaIndex([    '0 days',    '55 days',   '250 days',   '755 days',\n",
       "                 '1182 days',  '1508 days',  '1808 days',  '1829 days',\n",
       "                 '1887 days',  '1975 days',\n",
       "                ...\n",
       "                '19179 days', '19218 days', '19245 days', '19267 days',\n",
       "                '19283 days', '19294 days', '19308 days', '19406 days',\n",
       "                '19434 days', '19440 days'],\n",
       "               dtype='timedelta64[ns]', name='birthDate', length=4627, freq=None)"
      ]
     },
     "execution_count": 31,
     "metadata": {},
     "output_type": "execute_result"
    }
   ],
   "source": [
    "birth_dates.index - birth_dates.index[0]"
   ]
  },
  {
   "cell_type": "code",
   "execution_count": 32,
   "metadata": {
    "slideshow": {
     "slide_type": "slide"
    }
   },
   "outputs": [
    {
     "data": {
      "text/plain": [
       "Components(days=55, hours=0, minutes=0, seconds=0, milliseconds=0, microseconds=0, nanoseconds=0)"
      ]
     },
     "execution_count": 32,
     "metadata": {},
     "output_type": "execute_result"
    }
   ],
   "source": [
    "diff.components"
   ]
  },
  {
   "cell_type": "code",
   "execution_count": 33,
   "metadata": {
    "slideshow": {
     "slide_type": "fragment"
    }
   },
   "outputs": [
    {
     "data": {
      "text/plain": [
       "Timedelta('55 days 04:50:00')"
      ]
     },
     "execution_count": 33,
     "metadata": {},
     "output_type": "execute_result"
    }
   ],
   "source": [
    "diff = diff + '5H' - '10M'\n",
    "diff"
   ]
  },
  {
   "cell_type": "code",
   "execution_count": 34,
   "metadata": {
    "slideshow": {
     "slide_type": "fragment"
    }
   },
   "outputs": [
    {
     "data": {
      "text/plain": [
       "Timedelta('60 days 00:00:00')"
      ]
     },
     "execution_count": 34,
     "metadata": {},
     "output_type": "execute_result"
    }
   ],
   "source": [
    "diff.round('10D')"
   ]
  },
  {
   "cell_type": "code",
   "execution_count": 35,
   "metadata": {
    "slideshow": {
     "slide_type": "fragment"
    }
   },
   "outputs": [
    {
     "data": {
      "text/plain": [
       "Timedelta('55 days 05:00:00')"
      ]
     },
     "execution_count": 35,
     "metadata": {},
     "output_type": "execute_result"
    }
   ],
   "source": [
    "diff.round('1H')"
   ]
  },
  {
   "cell_type": "code",
   "execution_count": 36,
   "metadata": {
    "slideshow": {
     "slide_type": "slide"
    }
   },
   "outputs": [
    {
     "data": {
      "text/plain": [
       "PeriodIndex(['1940-01-27', '1940-03-22', '1940-10-03', '1942-02-20',\n",
       "             '1943-04-23', '1944-03-14', '1945-01-08', '1945-01-29',\n",
       "             '1945-03-28', '1945-06-24',\n",
       "             ...\n",
       "             '1992-07-31', '1992-09-08', '1992-10-05', '1992-10-27',\n",
       "             '1992-11-12', '1992-11-23', '1992-12-07', '1993-03-15',\n",
       "             '1993-04-12', '1993-04-18'],\n",
       "            dtype='period[D]', name='birthDate', length=4627, freq='D')"
      ]
     },
     "execution_count": 36,
     "metadata": {},
     "output_type": "execute_result"
    }
   ],
   "source": [
    "birth_dates = birth_dates.to_period(freq=\"D\")\n",
    "birth_dates.index"
   ]
  },
  {
   "cell_type": "code",
   "execution_count": 37,
   "metadata": {
    "slideshow": {
     "slide_type": "fragment"
    }
   },
   "outputs": [
    {
     "data": {
      "text/plain": [
       "Period('1940-01-27', 'D')"
      ]
     },
     "execution_count": 37,
     "metadata": {},
     "output_type": "execute_result"
    }
   ],
   "source": [
    "birth_dates.index[0]"
   ]
  },
  {
   "cell_type": "code",
   "execution_count": 38,
   "metadata": {
    "slideshow": {
     "slide_type": "slide"
    }
   },
   "outputs": [
    {
     "data": {
      "text/plain": [
       "Timestamp('1940-01-27 00:00:00')"
      ]
     },
     "execution_count": 38,
     "metadata": {},
     "output_type": "execute_result"
    }
   ],
   "source": [
    "start = birth_dates.index[0].start_time\n",
    "start"
   ]
  },
  {
   "cell_type": "code",
   "execution_count": 39,
   "metadata": {
    "slideshow": {
     "slide_type": "fragment"
    }
   },
   "outputs": [
    {
     "data": {
      "text/plain": [
       "Timestamp('1940-01-27 23:59:59.999999999')"
      ]
     },
     "execution_count": 39,
     "metadata": {},
     "output_type": "execute_result"
    }
   ],
   "source": [
    "end = birth_dates.index[0].end_time\n",
    "end"
   ]
  },
  {
   "cell_type": "code",
   "execution_count": 40,
   "metadata": {
    "slideshow": {
     "slide_type": "fragment"
    }
   },
   "outputs": [
    {
     "data": {
      "text/plain": [
       "True"
      ]
     },
     "execution_count": 40,
     "metadata": {},
     "output_type": "execute_result"
    }
   ],
   "source": [
    "start < (start + pd.Timedelta('5H')) < end"
   ]
  },
  {
   "cell_type": "code",
   "execution_count": 41,
   "metadata": {
    "slideshow": {
     "slide_type": "fragment"
    }
   },
   "outputs": [
    {
     "data": {
      "text/plain": [
       "False"
      ]
     },
     "execution_count": 41,
     "metadata": {},
     "output_type": "execute_result"
    }
   ],
   "source": [
    "start < (start + pd.Timedelta('25H')) < end"
   ]
  },
  {
   "cell_type": "code",
   "execution_count": 42,
   "metadata": {
    "slideshow": {
     "slide_type": "slide"
    }
   },
   "outputs": [
    {
     "data": {
      "text/plain": [
       "Int64Index([1940, 1940, 1940, 1942, 1943, 1944, 1945, 1945, 1945, 1945,\n",
       "            ...\n",
       "            1992, 1992, 1992, 1992, 1992, 1992, 1992, 1993, 1993, 1993],\n",
       "           dtype='int64', name='birthDate', length=4627)"
      ]
     },
     "execution_count": 42,
     "metadata": {},
     "output_type": "execute_result"
    }
   ],
   "source": [
    "birth_dates.index.year"
   ]
  },
  {
   "cell_type": "code",
   "execution_count": 43,
   "metadata": {
    "slideshow": {
     "slide_type": "fragment"
    }
   },
   "outputs": [
    {
     "data": {
      "text/plain": [
       "birthDate\n",
       "1975-01-02    mroziri01\n",
       "1975-01-03    vyshese01\n",
       "Freq: D, Name: playerID, dtype: object"
      ]
     },
     "execution_count": 43,
     "metadata": {},
     "output_type": "execute_result"
    }
   ],
   "source": [
    "birth_dates['1975'].head(2)"
   ]
  },
  {
   "cell_type": "code",
   "execution_count": 44,
   "metadata": {
    "slideshow": {
     "slide_type": "fragment"
    }
   },
   "outputs": [
    {
     "data": {
      "text/plain": [
       "birthDate\n",
       "1975-01-09    eriksan01\n",
       "1975-01-09     lingda01\n",
       "Freq: D, Name: playerID, dtype: object"
      ]
     },
     "execution_count": 44,
     "metadata": {},
     "output_type": "execute_result"
    }
   ],
   "source": [
    "birth_dates[\"1975-01-09\"]"
   ]
  },
  {
   "cell_type": "markdown",
   "metadata": {
    "slideshow": {
     "slide_type": "skip"
    }
   },
   "source": [
    "# Advanced Strategies"
   ]
  },
  {
   "cell_type": "code",
   "execution_count": 45,
   "metadata": {
    "slideshow": {
     "slide_type": "slide"
    }
   },
   "outputs": [
    {
     "data": {
      "text/plain": [
       "PeriodIndexResampler [freq=<MonthEnd>, axis=0, closed=right, label=right, convention=start, base=0]"
      ]
     },
     "execution_count": 45,
     "metadata": {},
     "output_type": "execute_result"
    }
   ],
   "source": [
    "birth_dates.resample('1M')"
   ]
  },
  {
   "cell_type": "code",
   "execution_count": 46,
   "metadata": {
    "slideshow": {
     "slide_type": "fragment"
    }
   },
   "outputs": [
    {
     "data": {
      "text/plain": [
       "birthDate\n",
       "1940-01    1\n",
       "1940-02    0\n",
       "1940-03    1\n",
       "1940-04    0\n",
       "1940-05    0\n",
       "Freq: M, Name: playerID, dtype: int64"
      ]
     },
     "execution_count": 46,
     "metadata": {},
     "output_type": "execute_result"
    }
   ],
   "source": [
    "birth_dates.resample('1M').count().head()"
   ]
  },
  {
   "cell_type": "code",
   "execution_count": 47,
   "metadata": {
    "slideshow": {
     "slide_type": "slide"
    }
   },
   "outputs": [
    {
     "data": {
      "text/plain": [
       "birthDate\n",
       "1940-01    1\n",
       "1940-03    1\n",
       "Freq: 2M, Name: playerID, dtype: int64"
      ]
     },
     "execution_count": 47,
     "metadata": {},
     "output_type": "execute_result"
    }
   ],
   "source": [
    "birth_dates.resample('2M').count().head(2)"
   ]
  },
  {
   "cell_type": "code",
   "execution_count": 48,
   "metadata": {
    "slideshow": {
     "slide_type": "fragment"
    }
   },
   "outputs": [
    {
     "data": {
      "text/plain": [
       "birthDate\n",
       "1940Q1    2\n",
       "1940Q2    0\n",
       "Freq: Q-DEC, Name: playerID, dtype: int64"
      ]
     },
     "execution_count": 48,
     "metadata": {},
     "output_type": "execute_result"
    }
   ],
   "source": [
    "birth_dates.resample('1Q').count().head(2)"
   ]
  },
  {
   "cell_type": "code",
   "execution_count": 49,
   "metadata": {
    "slideshow": {
     "slide_type": "fragment"
    }
   },
   "outputs": [
    {
     "data": {
      "text/plain": [
       "birthDate\n",
       "1940-01-22/1940-01-28    1\n",
       "1940-01-29/1940-02-04    0\n",
       "Freq: W-SUN, Name: playerID, dtype: int64"
      ]
     },
     "execution_count": 49,
     "metadata": {},
     "output_type": "execute_result"
    }
   ],
   "source": [
    "birth_dates.resample('W').count().head(2)"
   ]
  },
  {
   "cell_type": "code",
   "execution_count": 50,
   "metadata": {
    "slideshow": {
     "slide_type": "slide"
    }
   },
   "outputs": [
    {
     "name": "stdout",
     "output_type": "stream",
     "text": [
      "1940-10-03 00:00:00\n",
      "1940-10-14 00:00:00\n"
     ]
    }
   ],
   "source": [
    "from pandas.tseries.offsets import BDay\n",
    "p = birth_dates.index[2]\n",
    "print(p.to_timestamp())\n",
    "print(p.to_timestamp() + BDay(7))"
   ]
  },
  {
   "cell_type": "code",
   "execution_count": 51,
   "metadata": {
    "slideshow": {
     "slide_type": "slide"
    }
   },
   "outputs": [
    {
     "data": {
      "text/plain": [
       "birthDate\n",
       "1940-01-27    harpete01\n",
       "1940-03-22     keonda01\n",
       "1940-10-03    ratelje01\n",
       "1942-02-20    esposph01\n",
       "1943-04-23    esposto01\n",
       "Freq: D, Name: playerID, dtype: object"
      ]
     },
     "execution_count": 51,
     "metadata": {},
     "output_type": "execute_result"
    }
   ],
   "source": [
    "birth_dates.head()"
   ]
  },
  {
   "cell_type": "code",
   "execution_count": 52,
   "metadata": {
    "slideshow": {
     "slide_type": "fragment"
    }
   },
   "outputs": [
    {
     "data": {
      "text/plain": [
       "birthDate\n",
       "1940-01-28    harpete01\n",
       "1940-03-23     keonda01\n",
       "1940-10-04    ratelje01\n",
       "1942-02-21    esposph01\n",
       "1943-04-24    esposto01\n",
       "Freq: D, Name: playerID, dtype: object"
      ]
     },
     "execution_count": 52,
     "metadata": {},
     "output_type": "execute_result"
    }
   ],
   "source": [
    "birth_dates.shift(1, freq=\"D\").head()"
   ]
  },
  {
   "cell_type": "code",
   "execution_count": 53,
   "metadata": {
    "slideshow": {
     "slide_type": "slide"
    }
   },
   "outputs": [
    {
     "data": {
      "text/plain": [
       "birthDate\n",
       "1940-01-27          NaN\n",
       "1940-03-22    harpete01\n",
       "1940-10-03     keonda01\n",
       "1942-02-20    ratelje01\n",
       "1943-04-23    esposph01\n",
       "Freq: D, Name: playerID, dtype: object"
      ]
     },
     "execution_count": 53,
     "metadata": {},
     "output_type": "execute_result"
    }
   ],
   "source": [
    "birth_dates.shift(1).head()"
   ]
  },
  {
   "cell_type": "code",
   "execution_count": 54,
   "metadata": {
    "slideshow": {
     "slide_type": "slide"
    }
   },
   "outputs": [
    {
     "data": {
      "text/html": [
       "<div>\n",
       "<style scoped>\n",
       "    .dataframe tbody tr th:only-of-type {\n",
       "        vertical-align: middle;\n",
       "    }\n",
       "\n",
       "    .dataframe tbody tr th {\n",
       "        vertical-align: top;\n",
       "    }\n",
       "\n",
       "    .dataframe thead th {\n",
       "        text-align: right;\n",
       "    }\n",
       "</style>\n",
       "<table border=\"1\" class=\"dataframe\">\n",
       "  <thead>\n",
       "    <tr style=\"text-align: right;\">\n",
       "      <th></th>\n",
       "      <th></th>\n",
       "      <th></th>\n",
       "      <th>L</th>\n",
       "      <th>OL</th>\n",
       "      <th>T</th>\n",
       "      <th>W</th>\n",
       "    </tr>\n",
       "    <tr>\n",
       "      <th>name</th>\n",
       "      <th>year</th>\n",
       "      <th>month</th>\n",
       "      <th></th>\n",
       "      <th></th>\n",
       "      <th></th>\n",
       "      <th></th>\n",
       "    </tr>\n",
       "  </thead>\n",
       "  <tbody>\n",
       "    <tr>\n",
       "      <th rowspan=\"5\" valign=\"top\">Boston Bruins</th>\n",
       "      <th rowspan=\"5\" valign=\"top\">1980</th>\n",
       "      <th>Apr</th>\n",
       "      <td>2.0</td>\n",
       "      <td>NaN</td>\n",
       "      <td>0.0</td>\n",
       "      <td>1.0</td>\n",
       "    </tr>\n",
       "    <tr>\n",
       "      <th>Dec</th>\n",
       "      <td>6.0</td>\n",
       "      <td>NaN</td>\n",
       "      <td>1.0</td>\n",
       "      <td>6.0</td>\n",
       "    </tr>\n",
       "    <tr>\n",
       "      <th>Feb</th>\n",
       "      <td>4.0</td>\n",
       "      <td>NaN</td>\n",
       "      <td>2.0</td>\n",
       "      <td>6.0</td>\n",
       "    </tr>\n",
       "    <tr>\n",
       "      <th>Jan</th>\n",
       "      <td>4.0</td>\n",
       "      <td>NaN</td>\n",
       "      <td>1.0</td>\n",
       "      <td>9.0</td>\n",
       "    </tr>\n",
       "    <tr>\n",
       "      <th>Mar</th>\n",
       "      <td>4.0</td>\n",
       "      <td>NaN</td>\n",
       "      <td>3.0</td>\n",
       "      <td>8.0</td>\n",
       "    </tr>\n",
       "  </tbody>\n",
       "</table>\n",
       "</div>"
      ],
      "text/plain": [
       "                            L  OL    T    W\n",
       "name          year month                   \n",
       "Boston Bruins 1980 Apr    2.0 NaN  0.0  1.0\n",
       "                   Dec    6.0 NaN  1.0  6.0\n",
       "                   Feb    4.0 NaN  2.0  6.0\n",
       "                   Jan    4.0 NaN  1.0  9.0\n",
       "                   Mar    4.0 NaN  3.0  8.0"
      ]
     },
     "execution_count": 54,
     "metadata": {},
     "output_type": "execute_result"
    }
   ],
   "source": [
    "team_splits.head()"
   ]
  },
  {
   "cell_type": "code",
   "execution_count": 55,
   "metadata": {
    "slideshow": {
     "slide_type": "slide"
    }
   },
   "outputs": [
    {
     "data": {
      "text/html": [
       "<div>\n",
       "<style scoped>\n",
       "    .dataframe tbody tr th:only-of-type {\n",
       "        vertical-align: middle;\n",
       "    }\n",
       "\n",
       "    .dataframe tbody tr th {\n",
       "        vertical-align: top;\n",
       "    }\n",
       "\n",
       "    .dataframe thead th {\n",
       "        text-align: right;\n",
       "    }\n",
       "</style>\n",
       "<table border=\"1\" class=\"dataframe\">\n",
       "  <thead>\n",
       "    <tr style=\"text-align: right;\">\n",
       "      <th></th>\n",
       "      <th>name</th>\n",
       "      <th>year</th>\n",
       "      <th>month</th>\n",
       "      <th>L</th>\n",
       "      <th>OL</th>\n",
       "      <th>T</th>\n",
       "      <th>W</th>\n",
       "    </tr>\n",
       "  </thead>\n",
       "  <tbody>\n",
       "    <tr>\n",
       "      <th>0</th>\n",
       "      <td>Boston Bruins</td>\n",
       "      <td>1980</td>\n",
       "      <td>Apr</td>\n",
       "      <td>2.0</td>\n",
       "      <td>NaN</td>\n",
       "      <td>0.0</td>\n",
       "      <td>1.0</td>\n",
       "    </tr>\n",
       "    <tr>\n",
       "      <th>1</th>\n",
       "      <td>Boston Bruins</td>\n",
       "      <td>1980</td>\n",
       "      <td>Dec</td>\n",
       "      <td>6.0</td>\n",
       "      <td>NaN</td>\n",
       "      <td>1.0</td>\n",
       "      <td>6.0</td>\n",
       "    </tr>\n",
       "    <tr>\n",
       "      <th>2</th>\n",
       "      <td>Boston Bruins</td>\n",
       "      <td>1980</td>\n",
       "      <td>Feb</td>\n",
       "      <td>4.0</td>\n",
       "      <td>NaN</td>\n",
       "      <td>2.0</td>\n",
       "      <td>6.0</td>\n",
       "    </tr>\n",
       "    <tr>\n",
       "      <th>3</th>\n",
       "      <td>Boston Bruins</td>\n",
       "      <td>1980</td>\n",
       "      <td>Jan</td>\n",
       "      <td>4.0</td>\n",
       "      <td>NaN</td>\n",
       "      <td>1.0</td>\n",
       "      <td>9.0</td>\n",
       "    </tr>\n",
       "    <tr>\n",
       "      <th>4</th>\n",
       "      <td>Boston Bruins</td>\n",
       "      <td>1980</td>\n",
       "      <td>Mar</td>\n",
       "      <td>4.0</td>\n",
       "      <td>NaN</td>\n",
       "      <td>3.0</td>\n",
       "      <td>8.0</td>\n",
       "    </tr>\n",
       "  </tbody>\n",
       "</table>\n",
       "</div>"
      ],
      "text/plain": [
       "            name  year month    L  OL    T    W\n",
       "0  Boston Bruins  1980   Apr  2.0 NaN  0.0  1.0\n",
       "1  Boston Bruins  1980   Dec  6.0 NaN  1.0  6.0\n",
       "2  Boston Bruins  1980   Feb  4.0 NaN  2.0  6.0\n",
       "3  Boston Bruins  1980   Jan  4.0 NaN  1.0  9.0\n",
       "4  Boston Bruins  1980   Mar  4.0 NaN  3.0  8.0"
      ]
     },
     "execution_count": 55,
     "metadata": {},
     "output_type": "execute_result"
    }
   ],
   "source": [
    "team_splits = team_splits.reset_index()\n",
    "team_splits.head()"
   ]
  },
  {
   "cell_type": "code",
   "execution_count": 56,
   "metadata": {
    "slideshow": {
     "slide_type": "slide"
    }
   },
   "outputs": [
    {
     "data": {
      "text/plain": [
       "Period('1980-04', 'M')"
      ]
     },
     "execution_count": 56,
     "metadata": {},
     "output_type": "execute_result"
    }
   ],
   "source": [
    "string_date = team_splits.apply(lambda x:\n",
    "                                pd.Period(\"{}-{}\".format(x.year, x.month)),\n",
    "                                axis=1)\n",
    "string_date[0]"
   ]
  },
  {
   "cell_type": "code",
   "execution_count": 57,
   "metadata": {
    "slideshow": {
     "slide_type": "slide"
    }
   },
   "outputs": [
    {
     "data": {
      "text/html": [
       "<div>\n",
       "<style scoped>\n",
       "    .dataframe tbody tr th:only-of-type {\n",
       "        vertical-align: middle;\n",
       "    }\n",
       "\n",
       "    .dataframe tbody tr th {\n",
       "        vertical-align: top;\n",
       "    }\n",
       "\n",
       "    .dataframe thead th {\n",
       "        text-align: right;\n",
       "    }\n",
       "</style>\n",
       "<table border=\"1\" class=\"dataframe\">\n",
       "  <thead>\n",
       "    <tr style=\"text-align: right;\">\n",
       "      <th></th>\n",
       "      <th>name</th>\n",
       "      <th>month</th>\n",
       "      <th>L</th>\n",
       "      <th>OL</th>\n",
       "      <th>T</th>\n",
       "      <th>W</th>\n",
       "    </tr>\n",
       "  </thead>\n",
       "  <tbody>\n",
       "    <tr>\n",
       "      <th>0</th>\n",
       "      <td>Boston Bruins</td>\n",
       "      <td>1980-04</td>\n",
       "      <td>2.0</td>\n",
       "      <td>NaN</td>\n",
       "      <td>0.0</td>\n",
       "      <td>1.0</td>\n",
       "    </tr>\n",
       "    <tr>\n",
       "      <th>1</th>\n",
       "      <td>Boston Bruins</td>\n",
       "      <td>1980-12</td>\n",
       "      <td>6.0</td>\n",
       "      <td>NaN</td>\n",
       "      <td>1.0</td>\n",
       "      <td>6.0</td>\n",
       "    </tr>\n",
       "    <tr>\n",
       "      <th>2</th>\n",
       "      <td>Boston Bruins</td>\n",
       "      <td>1980-02</td>\n",
       "      <td>4.0</td>\n",
       "      <td>NaN</td>\n",
       "      <td>2.0</td>\n",
       "      <td>6.0</td>\n",
       "    </tr>\n",
       "    <tr>\n",
       "      <th>3</th>\n",
       "      <td>Boston Bruins</td>\n",
       "      <td>1980-01</td>\n",
       "      <td>4.0</td>\n",
       "      <td>NaN</td>\n",
       "      <td>1.0</td>\n",
       "      <td>9.0</td>\n",
       "    </tr>\n",
       "    <tr>\n",
       "      <th>4</th>\n",
       "      <td>Boston Bruins</td>\n",
       "      <td>1980-03</td>\n",
       "      <td>4.0</td>\n",
       "      <td>NaN</td>\n",
       "      <td>3.0</td>\n",
       "      <td>8.0</td>\n",
       "    </tr>\n",
       "  </tbody>\n",
       "</table>\n",
       "</div>"
      ],
      "text/plain": [
       "            name    month    L  OL    T    W\n",
       "0  Boston Bruins  1980-04  2.0 NaN  0.0  1.0\n",
       "1  Boston Bruins  1980-12  6.0 NaN  1.0  6.0\n",
       "2  Boston Bruins  1980-02  4.0 NaN  2.0  6.0\n",
       "3  Boston Bruins  1980-01  4.0 NaN  1.0  9.0\n",
       "4  Boston Bruins  1980-03  4.0 NaN  3.0  8.0"
      ]
     },
     "execution_count": 57,
     "metadata": {},
     "output_type": "execute_result"
    }
   ],
   "source": [
    "team_splits = team_splits.assign(month = string_date)\n",
    "team_splits = team_splits.drop(\"year\", axis=1)\n",
    "team_splits.head()"
   ]
  },
  {
   "cell_type": "code",
   "execution_count": 58,
   "metadata": {
    "slideshow": {
     "slide_type": "fragment"
    }
   },
   "outputs": [],
   "source": [
    "team_splits = team_splits.set_index([\"month\"])"
   ]
  },
  {
   "cell_type": "code",
   "execution_count": 59,
   "metadata": {
    "slideshow": {
     "slide_type": "slide"
    }
   },
   "outputs": [
    {
     "data": {
      "text/html": [
       "<div>\n",
       "<style scoped>\n",
       "    .dataframe tbody tr th:only-of-type {\n",
       "        vertical-align: middle;\n",
       "    }\n",
       "\n",
       "    .dataframe tbody tr th {\n",
       "        vertical-align: top;\n",
       "    }\n",
       "\n",
       "    .dataframe thead th {\n",
       "        text-align: right;\n",
       "    }\n",
       "</style>\n",
       "<table border=\"1\" class=\"dataframe\">\n",
       "  <thead>\n",
       "    <tr style=\"text-align: right;\">\n",
       "      <th></th>\n",
       "      <th></th>\n",
       "      <th>L</th>\n",
       "      <th>OL</th>\n",
       "      <th>T</th>\n",
       "      <th>W</th>\n",
       "    </tr>\n",
       "    <tr>\n",
       "      <th>name</th>\n",
       "      <th>month</th>\n",
       "      <th></th>\n",
       "      <th></th>\n",
       "      <th></th>\n",
       "      <th></th>\n",
       "    </tr>\n",
       "  </thead>\n",
       "  <tbody>\n",
       "    <tr>\n",
       "      <th rowspan=\"5\" valign=\"top\">Anaheim Ducks</th>\n",
       "      <th>2006Q1</th>\n",
       "      <td>13.0</td>\n",
       "      <td>6.0</td>\n",
       "      <td>0.0</td>\n",
       "      <td>19.0</td>\n",
       "    </tr>\n",
       "    <tr>\n",
       "      <th>2006Q2</th>\n",
       "      <td>0.0</td>\n",
       "      <td>2.0</td>\n",
       "      <td>0.0</td>\n",
       "      <td>1.0</td>\n",
       "    </tr>\n",
       "    <tr>\n",
       "      <th>2006Q3</th>\n",
       "      <td>0.0</td>\n",
       "      <td>0.0</td>\n",
       "      <td>0.0</td>\n",
       "      <td>0.0</td>\n",
       "    </tr>\n",
       "    <tr>\n",
       "      <th>2006Q4</th>\n",
       "      <td>7.0</td>\n",
       "      <td>6.0</td>\n",
       "      <td>0.0</td>\n",
       "      <td>28.0</td>\n",
       "    </tr>\n",
       "    <tr>\n",
       "      <th>2007Q1</th>\n",
       "      <td>10.0</td>\n",
       "      <td>3.0</td>\n",
       "      <td>0.0</td>\n",
       "      <td>26.0</td>\n",
       "    </tr>\n",
       "  </tbody>\n",
       "</table>\n",
       "</div>"
      ],
      "text/plain": [
       "                         L   OL    T     W\n",
       "name          month                       \n",
       "Anaheim Ducks 2006Q1  13.0  6.0  0.0  19.0\n",
       "              2006Q2   0.0  2.0  0.0   1.0\n",
       "              2006Q3   0.0  0.0  0.0   0.0\n",
       "              2006Q4   7.0  6.0  0.0  28.0\n",
       "              2007Q1  10.0  3.0  0.0  26.0"
      ]
     },
     "execution_count": 59,
     "metadata": {},
     "output_type": "execute_result"
    }
   ],
   "source": [
    "quarter_sums = team_splits.groupby(\"name\").resample(\"Q\").sum()\n",
    "quarter_sums.head()"
   ]
  },
  {
   "cell_type": "code",
   "execution_count": 60,
   "metadata": {
    "slideshow": {
     "slide_type": "slide"
    }
   },
   "outputs": [
    {
     "data": {
      "text/html": [
       "<div>\n",
       "<style scoped>\n",
       "    .dataframe tbody tr th:only-of-type {\n",
       "        vertical-align: middle;\n",
       "    }\n",
       "\n",
       "    .dataframe tbody tr th {\n",
       "        vertical-align: top;\n",
       "    }\n",
       "\n",
       "    .dataframe thead th {\n",
       "        text-align: right;\n",
       "    }\n",
       "</style>\n",
       "<table border=\"1\" class=\"dataframe\">\n",
       "  <thead>\n",
       "    <tr style=\"text-align: right;\">\n",
       "      <th></th>\n",
       "      <th></th>\n",
       "      <th>L</th>\n",
       "      <th>OL</th>\n",
       "      <th>T</th>\n",
       "      <th>W</th>\n",
       "    </tr>\n",
       "    <tr>\n",
       "      <th>name</th>\n",
       "      <th>month</th>\n",
       "      <th></th>\n",
       "      <th></th>\n",
       "      <th></th>\n",
       "      <th></th>\n",
       "    </tr>\n",
       "  </thead>\n",
       "  <tbody>\n",
       "    <tr>\n",
       "      <th rowspan=\"5\" valign=\"top\">Anaheim Ducks</th>\n",
       "      <th>2006Q1</th>\n",
       "      <td>4.333333</td>\n",
       "      <td>2.0</td>\n",
       "      <td>NaN</td>\n",
       "      <td>6.333333</td>\n",
       "    </tr>\n",
       "    <tr>\n",
       "      <th>2006Q2</th>\n",
       "      <td>0.000000</td>\n",
       "      <td>2.0</td>\n",
       "      <td>NaN</td>\n",
       "      <td>1.000000</td>\n",
       "    </tr>\n",
       "    <tr>\n",
       "      <th>2006Q3</th>\n",
       "      <td>NaN</td>\n",
       "      <td>NaN</td>\n",
       "      <td>NaN</td>\n",
       "      <td>NaN</td>\n",
       "    </tr>\n",
       "    <tr>\n",
       "      <th>2006Q4</th>\n",
       "      <td>2.333333</td>\n",
       "      <td>2.0</td>\n",
       "      <td>NaN</td>\n",
       "      <td>9.333333</td>\n",
       "    </tr>\n",
       "    <tr>\n",
       "      <th>2007Q1</th>\n",
       "      <td>3.333333</td>\n",
       "      <td>1.0</td>\n",
       "      <td>NaN</td>\n",
       "      <td>8.666667</td>\n",
       "    </tr>\n",
       "  </tbody>\n",
       "</table>\n",
       "</div>"
      ],
      "text/plain": [
       "                             L   OL   T         W\n",
       "name          month                              \n",
       "Anaheim Ducks 2006Q1  4.333333  2.0 NaN  6.333333\n",
       "              2006Q2  0.000000  2.0 NaN  1.000000\n",
       "              2006Q3       NaN  NaN NaN       NaN\n",
       "              2006Q4  2.333333  2.0 NaN  9.333333\n",
       "              2007Q1  3.333333  1.0 NaN  8.666667"
      ]
     },
     "execution_count": 60,
     "metadata": {},
     "output_type": "execute_result"
    }
   ],
   "source": [
    "quarter_means = team_splits.groupby(\"name\").resample(\"Q\").mean()\n",
    "quarter_means.head()"
   ]
  },
  {
   "cell_type": "code",
   "execution_count": 61,
   "metadata": {
    "slideshow": {
     "slide_type": "slide"
    }
   },
   "outputs": [],
   "source": [
    "team_splits.to_pickle(os.path.join('..', 'team_splits_periods.pickle'))\n",
    "birth_dates.to_pickle(os.path.join('..', 'birth_dates.pickle'))"
   ]
  }
 ],
 "metadata": {
  "celltoolbar": "Slideshow",
  "kernelspec": {
   "display_name": "Python 3",
   "language": "python",
   "name": "python3"
  },
  "language_info": {
   "codemirror_mode": {
    "name": "ipython",
    "version": 3
   },
   "file_extension": ".py",
   "mimetype": "text/x-python",
   "name": "python",
   "nbconvert_exporter": "python",
   "pygments_lexer": "ipython3",
   "version": "3.7.3"
  }
 },
 "nbformat": 4,
 "nbformat_minor": 2
}
